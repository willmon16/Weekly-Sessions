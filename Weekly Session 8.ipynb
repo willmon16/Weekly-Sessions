{
 "cells": [
  {
   "cell_type": "markdown",
   "metadata": {},
   "source": [
    "# Weekly Session 8\n",
    "\n",
    "## Goal\n",
    "To develop a basic familiarity and proficiency with numerical rootfinding.\n",
    "\n",
    "## Readings\n",
<<<<<<< HEAD
    "We will skip the remainder of the linear equations material (6.2) and move directly onto solutions of nonlinear equations.\n",
=======
    "We will skip the remainder of the linear equations section and move directly onto solutions of nonlinear equations.\n",
>>>>>>> ca827e1880145455bbe2edd21b40dfddf3132efe
    "\n",
    "    6.3.1 Relaxation Method\n",
    "    \n",
    "    6.3.2 Convergence Rate\n",
    "    \n",
    "    6.3.4 Binary search -- a.k.a. the bisection method\n",
    "\n",
    "    6.3.5 Newton's method -- a.k.a. the Newton-Raphson method\n",
    "\n",
<<<<<<< HEAD
    "Although we will not specifically cover extremization in this week's handout, you should also read enough to get a basic idea of what is possible:\n",
=======
    "    6.3.6 The secant method -- a.k.a. the Dekker secant method\n",
    "\n",
    "Although we will not specifically cover extremization in this week's\n",
    "handout, you should also read enough to get a basic idea of what is\n",
    "possible:\n",
>>>>>>> ca827e1880145455bbe2edd21b40dfddf3132efe
    "\n",
    "    6.4 Maxima and minima of functions\n",
    "    \n",
    "## Overview\n",
<<<<<<< HEAD
    "\n",
    "We will start with a brief introduction to solving non-linear equations, using the relaxation method.  Then you will build up your own module named ```rootfind```, containing functions which implement each of the basic numerical rootfinding methods: the **bisection** method, the **Newton-Raphson** method (for when the derivative is known), and the **Dekker secant** method (for when it is not).  You will also see the value in *hybridizing* these latter two methods with the bisection method.  \n",
    "\n",
    "As always, scipy has some beautiful versions of these codes available.  So after you have written your own **Newton-Raphson** method, we will switch over to using library functions.\n",
    "\n",
    "https://docs.scipy.org/doc/scipy-0.15.1/reference/generated/scipy.optimize.newton.html"
=======
    "We will start with a brief introduction to solving non-linear equations, using the relaxation method.  Then you will build up your own module named ```rootfind```, containing functions which implement each of the basic numerical rootfinding methods: the **bisection** method, the **Newton-Raphson** method (for when the derivative is known), and the **Dekker secant** method (for when it is not).  You will also see the value in *hybridizing* these latter two methods with the bisection method.  "
>>>>>>> ca827e1880145455bbe2edd21b40dfddf3132efe
   ]
  },
  {
   "cell_type": "code",
<<<<<<< HEAD
   "execution_count": 1,
=======
   "execution_count": 3,
>>>>>>> ca827e1880145455bbe2edd21b40dfddf3132efe
   "metadata": {},
   "outputs": [
    {
     "data": {
      "text/html": [
       "<style>\n",
       "div.warn {\n",
       "    background-color: black;\n",
       "    border-color: #dFb5b4;\n",
       "    border-left: 5px solid #dfb5b4;\n",
       "    padding: 0.5em\n",
       "    color: white;\n",
       "    }\n",
       " </style>\n",
       "\n",
       " <style>\n",
       " div.answer {\n",
       "     background-color: lightblue;\n",
       "     border-color: #dFb5b4;\n",
       "     border-left: 5px solid #dfb5b4;\n",
       "     padding: 0.5em\n",
       "     }\n",
       "  </style>\n"
      ],
      "text/plain": [
       "<IPython.core.display.HTML object>"
      ]
     },
<<<<<<< HEAD
     "execution_count": 1,
=======
     "execution_count": 3,
>>>>>>> ca827e1880145455bbe2edd21b40dfddf3132efe
     "metadata": {},
     "output_type": "execute_result"
    }
   ],
   "source": [
    "#For colored cells, currently blue cells, black text \n",
    "#https://stackoverflow.com/questions/18024769/adding-custom-styled-paragraphs-in-markdown-cells\n",
    "from IPython.core.display import HTML\n",
    "def css_styling():\n",
    "    styles = open(\"style.css\", \"r\").read()\n",
    "    return HTML(styles)\n",
    "css_styling()"
   ]
  },
  {
   "cell_type": "markdown",
   "metadata": {},
   "source": [
    "<div class=answer>\n",
    "*This should be a blue cell with black font if you set the filepath correctly*</font>\n",
    "<div/>"
   ]
  },
  {
   "cell_type": "markdown",
   "metadata": {},
   "source": [
<<<<<<< HEAD
    "## Exercise 0 - Jupyter Notebook \n",
=======
    "## Exercise 0 - Jupyter Notebook + Git Terminal Skills.\n",
>>>>>>> ca827e1880145455bbe2edd21b40dfddf3132efe
    "\n",
    "### Keyboard Shortcuts\n",
    "\n",
    "Read this and try some out.\n",
    "http://maxmelnick.com/2016/04/19/python-beginner-tips-and-tricks.html\n",
    "\n",
<<<<<<< HEAD
    "My favorites are \"B,\" \"M,\" and \"Enter\" so far, but I'm working on more."
   ]
  },
  {
   "cell_type": "markdown",
   "metadata": {},
   "source": [
    "### Some plotting tricks\n",
    "\n",
    "Run the following code cell.  Notice the last (active) line resets the default font on your plots to a larger size.  You can use similar calls to change many more plotting defaults [link](https://matplotlib.org/api/matplotlib_configuration_api.html)."
   ]
  },
  {
   "cell_type": "code",
   "execution_count": 14,
   "metadata": {
    "collapsed": true
   },
   "outputs": [],
   "source": [
    "import math\n",
    "import numpy as np\n",
    "import matplotlib.pylab as plt\n",
    "%matplotlib inline\n",
    "\n",
    "plt.rcParams['font.size']=14\n",
    "\n",
    "#line below prints all possible default variables stored in the dictionary rcParams\n",
    "#plt.rcParams.keys()  "
=======
    "My favorites are \"B,\" \"M,\" and \"Enter\" so far, but I'm working on more.\n",
    "\n",
    "### Gitshell\n",
    "Pop open a git shell \n",
    "Do stuff\n",
    "New parnter\n",
    "Share Repo\n",
    "Modify Repo\n",
    "Merge Repo"
>>>>>>> ca827e1880145455bbe2edd21b40dfddf3132efe
   ]
  },
  {
   "cell_type": "markdown",
   "metadata": {},
   "source": [
<<<<<<< HEAD
    "### Passing function arguments\n",
    "These semester you have become very experienced passing functions as arguments in other functions.  For instance: "
=======
    "## Exercise -1 Relaxation Method"
>>>>>>> ca827e1880145455bbe2edd21b40dfddf3132efe
   ]
  },
  {
   "cell_type": "code",
<<<<<<< HEAD
   "execution_count": 12,
   "metadata": {},
   "outputs": [
    {
     "name": "stdout",
     "output_type": "stream",
     "text": [
      "2\n"
     ]
    }
   ],
   "source": [
    "def q(x):\n",
    "    '''Calculates a simple mathematic function \n",
    "    \n",
    "    It is written using numpy's exponential function (not math) so it can operate on numpy arrays.\n",
    "    accepts: x - float\n",
    "    returns f(x) - float\n",
    "    '''\n",
    "    \n",
    "    return x\n",
    "\n",
    "def g(f,x):\n",
    "    '''Calls another function f(x) and prints its return value \n",
    "    \n",
    "    accepts: \n",
    "        x - float\n",
    "        f(x) - float\n",
    "    returns \n",
    "        None\n",
    "    '''\n",
    "    \n",
    "    print(f(x))\n",
    "    return None\n",
    "\n",
    "#call g to act on q at x=2, which prints q(x)=x.  \n",
    "#Very convoluted way to do something simple\n",
    "g(q,2)"
   ]
  },
  {
   "cell_type": "markdown",
   "metadata": {},
   "source": [
    "But what if we want to work with a more complicated function?  For instance what if I want to call the following: "
   ]
  },
  {
   "cell_type": "code",
   "execution_count": 13,
   "metadata": {
    "collapsed": true
   },
   "outputs": [],
   "source": [
    "def r(x,y,z):\n",
    "    return x+y+z"
   ]
  },
  {
   "cell_type": "markdown",
   "metadata": {},
   "source": [
    "You are probably thinking, this is easy - we can just do the same thing you did with ```x``` above, by passing it to g(f,x) as a separate argument.  But notice that you would have to redefine the function ```g``` to be ```g(f,x,y,z).```  Doesn't this seem inefficient?  \n",
    "\n",
    "*For instance, what if you want to write ```g``` so it could print the output of any function, not just design it for a single function?*\n",
    "\n",
    "Lets do that.  The method for doing so is to use a function parameter named ```*args``` or \"star args\".  "
   ]
  },
  {
   "cell_type": "code",
   "execution_count": 37,
   "metadata": {
    "collapsed": true
   },
   "outputs": [],
   "source": [
    "def g1(f,*args):\n",
    "    '''Calls another function f(x) and prints its return value \n",
    "    \n",
    "    accepts: \n",
    "        x - float\n",
    "        f(x) - float\n",
    "    returns \n",
    "        None\n",
    "    '''\n",
    "    \n",
    "    print(\"You passed the function (object): \",f, \"with arguments:\" ,*args)\n",
    "\n",
    "    print(f(*args))\n",
    "    return None"
   ]
  },
  {
   "cell_type": "markdown",
   "metadata": {},
   "source": [
    "So lets run ```g1``` on the function r:"
=======
   "execution_count": 36,
   "metadata": {},
   "outputs": [
    {
     "data": {
      "text/plain": [
       "['agg.path.chunksize',\n",
       " 'animation.avconv_args',\n",
       " 'animation.avconv_path',\n",
       " 'animation.bitrate',\n",
       " 'animation.codec',\n",
       " 'animation.convert_args',\n",
       " 'animation.convert_path',\n",
       " 'animation.ffmpeg_args',\n",
       " 'animation.ffmpeg_path',\n",
       " 'animation.frame_format',\n",
       " 'animation.html',\n",
       " 'animation.mencoder_args',\n",
       " 'animation.mencoder_path',\n",
       " 'animation.writer',\n",
       " 'axes.axisbelow',\n",
       " 'axes.edgecolor',\n",
       " 'axes.facecolor',\n",
       " 'axes.formatter.limits',\n",
       " 'axes.formatter.use_locale',\n",
       " 'axes.formatter.use_mathtext',\n",
       " 'axes.formatter.useoffset',\n",
       " 'axes.grid',\n",
       " 'axes.grid.axis',\n",
       " 'axes.grid.which',\n",
       " 'axes.hold',\n",
       " 'axes.labelcolor',\n",
       " 'axes.labelpad',\n",
       " 'axes.labelsize',\n",
       " 'axes.labelweight',\n",
       " 'axes.linewidth',\n",
       " 'axes.prop_cycle',\n",
       " 'axes.spines.bottom',\n",
       " 'axes.spines.left',\n",
       " 'axes.spines.right',\n",
       " 'axes.spines.top',\n",
       " 'axes.titlesize',\n",
       " 'axes.titleweight',\n",
       " 'axes.unicode_minus',\n",
       " 'axes.xmargin',\n",
       " 'axes.ymargin',\n",
       " 'axes3d.grid',\n",
       " 'backend',\n",
       " 'backend.qt4',\n",
       " 'backend.qt5',\n",
       " 'backend_fallback',\n",
       " 'boxplot.bootstrap',\n",
       " 'boxplot.boxprops.color',\n",
       " 'boxplot.boxprops.linestyle',\n",
       " 'boxplot.boxprops.linewidth',\n",
       " 'boxplot.capprops.color',\n",
       " 'boxplot.capprops.linestyle',\n",
       " 'boxplot.capprops.linewidth',\n",
       " 'boxplot.flierprops.color',\n",
       " 'boxplot.flierprops.linestyle',\n",
       " 'boxplot.flierprops.linewidth',\n",
       " 'boxplot.flierprops.marker',\n",
       " 'boxplot.flierprops.markeredgecolor',\n",
       " 'boxplot.flierprops.markerfacecolor',\n",
       " 'boxplot.flierprops.markersize',\n",
       " 'boxplot.meanline',\n",
       " 'boxplot.meanprops.color',\n",
       " 'boxplot.meanprops.linestyle',\n",
       " 'boxplot.meanprops.linewidth',\n",
       " 'boxplot.medianprops.color',\n",
       " 'boxplot.medianprops.linestyle',\n",
       " 'boxplot.medianprops.linewidth',\n",
       " 'boxplot.notch',\n",
       " 'boxplot.patchartist',\n",
       " 'boxplot.showbox',\n",
       " 'boxplot.showcaps',\n",
       " 'boxplot.showfliers',\n",
       " 'boxplot.showmeans',\n",
       " 'boxplot.vertical',\n",
       " 'boxplot.whiskerprops.color',\n",
       " 'boxplot.whiskerprops.linestyle',\n",
       " 'boxplot.whiskerprops.linewidth',\n",
       " 'boxplot.whiskers',\n",
       " 'contour.corner_mask',\n",
       " 'contour.negative_linestyle',\n",
       " 'datapath',\n",
       " 'docstring.hardcopy',\n",
       " 'errorbar.capsize',\n",
       " 'examples.directory',\n",
       " 'figure.autolayout',\n",
       " 'figure.dpi',\n",
       " 'figure.edgecolor',\n",
       " 'figure.facecolor',\n",
       " 'figure.figsize',\n",
       " 'figure.frameon',\n",
       " 'figure.max_open_warning',\n",
       " 'figure.subplot.bottom',\n",
       " 'figure.subplot.hspace',\n",
       " 'figure.subplot.left',\n",
       " 'figure.subplot.right',\n",
       " 'figure.subplot.top',\n",
       " 'figure.subplot.wspace',\n",
       " 'figure.titlesize',\n",
       " 'figure.titleweight',\n",
       " 'font.cursive',\n",
       " 'font.family',\n",
       " 'font.fantasy',\n",
       " 'font.monospace',\n",
       " 'font.sans-serif',\n",
       " 'font.serif',\n",
       " 'font.size',\n",
       " 'font.stretch',\n",
       " 'font.style',\n",
       " 'font.variant',\n",
       " 'font.weight',\n",
       " 'grid.alpha',\n",
       " 'grid.color',\n",
       " 'grid.linestyle',\n",
       " 'grid.linewidth',\n",
       " 'image.aspect',\n",
       " 'image.cmap',\n",
       " 'image.composite_image',\n",
       " 'image.interpolation',\n",
       " 'image.lut',\n",
       " 'image.origin',\n",
       " 'image.resample',\n",
       " 'interactive',\n",
       " 'keymap.all_axes',\n",
       " 'keymap.back',\n",
       " 'keymap.forward',\n",
       " 'keymap.fullscreen',\n",
       " 'keymap.grid',\n",
       " 'keymap.home',\n",
       " 'keymap.pan',\n",
       " 'keymap.quit',\n",
       " 'keymap.save',\n",
       " 'keymap.xscale',\n",
       " 'keymap.yscale',\n",
       " 'keymap.zoom',\n",
       " 'legend.borderaxespad',\n",
       " 'legend.borderpad',\n",
       " 'legend.columnspacing',\n",
       " 'legend.edgecolor',\n",
       " 'legend.facecolor',\n",
       " 'legend.fancybox',\n",
       " 'legend.fontsize',\n",
       " 'legend.framealpha',\n",
       " 'legend.frameon',\n",
       " 'legend.handleheight',\n",
       " 'legend.handlelength',\n",
       " 'legend.handletextpad',\n",
       " 'legend.isaxes',\n",
       " 'legend.labelspacing',\n",
       " 'legend.loc',\n",
       " 'legend.markerscale',\n",
       " 'legend.numpoints',\n",
       " 'legend.scatterpoints',\n",
       " 'legend.shadow',\n",
       " 'lines.antialiased',\n",
       " 'lines.color',\n",
       " 'lines.dash_capstyle',\n",
       " 'lines.dash_joinstyle',\n",
       " 'lines.linestyle',\n",
       " 'lines.linewidth',\n",
       " 'lines.marker',\n",
       " 'lines.markeredgewidth',\n",
       " 'lines.markersize',\n",
       " 'lines.solid_capstyle',\n",
       " 'lines.solid_joinstyle',\n",
       " 'markers.fillstyle',\n",
       " 'mathtext.bf',\n",
       " 'mathtext.cal',\n",
       " 'mathtext.default',\n",
       " 'mathtext.fallback_to_cm',\n",
       " 'mathtext.fontset',\n",
       " 'mathtext.it',\n",
       " 'mathtext.rm',\n",
       " 'mathtext.sf',\n",
       " 'mathtext.tt',\n",
       " 'nbagg.transparent',\n",
       " 'patch.antialiased',\n",
       " 'patch.edgecolor',\n",
       " 'patch.facecolor',\n",
       " 'patch.linewidth',\n",
       " 'path.effects',\n",
       " 'path.simplify',\n",
       " 'path.simplify_threshold',\n",
       " 'path.sketch',\n",
       " 'path.snap',\n",
       " 'pdf.compression',\n",
       " 'pdf.fonttype',\n",
       " 'pdf.inheritcolor',\n",
       " 'pdf.use14corefonts',\n",
       " 'pgf.debug',\n",
       " 'pgf.preamble',\n",
       " 'pgf.rcfonts',\n",
       " 'pgf.texsystem',\n",
       " 'plugins.directory',\n",
       " 'polaraxes.grid',\n",
       " 'ps.distiller.res',\n",
       " 'ps.fonttype',\n",
       " 'ps.papersize',\n",
       " 'ps.useafm',\n",
       " 'ps.usedistiller',\n",
       " 'savefig.bbox',\n",
       " 'savefig.directory',\n",
       " 'savefig.dpi',\n",
       " 'savefig.edgecolor',\n",
       " 'savefig.facecolor',\n",
       " 'savefig.format',\n",
       " 'savefig.frameon',\n",
       " 'savefig.jpeg_quality',\n",
       " 'savefig.orientation',\n",
       " 'savefig.pad_inches',\n",
       " 'savefig.transparent',\n",
       " 'svg.fonttype',\n",
       " 'svg.image_inline',\n",
       " 'svg.image_noscale',\n",
       " 'text.antialiased',\n",
       " 'text.color',\n",
       " 'text.dvipnghack',\n",
       " 'text.hinting',\n",
       " 'text.hinting_factor',\n",
       " 'text.latex.preamble',\n",
       " 'text.latex.preview',\n",
       " 'text.latex.unicode',\n",
       " 'text.usetex',\n",
       " 'timezone',\n",
       " 'tk.window_focus',\n",
       " 'toolbar',\n",
       " 'verbose.fileo',\n",
       " 'verbose.level',\n",
       " 'webagg.open_in_browser',\n",
       " 'webagg.port',\n",
       " 'webagg.port_retries',\n",
       " 'xtick.color',\n",
       " 'xtick.direction',\n",
       " 'xtick.labelsize',\n",
       " 'xtick.major.pad',\n",
       " 'xtick.major.size',\n",
       " 'xtick.major.width',\n",
       " 'xtick.minor.pad',\n",
       " 'xtick.minor.size',\n",
       " 'xtick.minor.visible',\n",
       " 'xtick.minor.width',\n",
       " 'ytick.color',\n",
       " 'ytick.direction',\n",
       " 'ytick.labelsize',\n",
       " 'ytick.major.pad',\n",
       " 'ytick.major.size',\n",
       " 'ytick.major.width',\n",
       " 'ytick.minor.pad',\n",
       " 'ytick.minor.size',\n",
       " 'ytick.minor.visible',\n",
       " 'ytick.minor.width']"
      ]
     },
     "execution_count": 36,
     "metadata": {},
     "output_type": "execute_result"
    }
   ],
   "source": [
    "plt.rcParams.keys()"
>>>>>>> ca827e1880145455bbe2edd21b40dfddf3132efe
   ]
  },
  {
   "cell_type": "code",
<<<<<<< HEAD
   "execution_count": 38,
   "metadata": {},
   "outputs": [
    {
     "name": "stdout",
     "output_type": "stream",
     "text": [
      "You passed the function (object):  <function r at 0x119c0a158> with arguments: 1 2 3\n",
      "6\n"
     ]
    }
   ],
   "source": [
    "g1(r,1,2,3)"
   ]
  },
  {
   "cell_type": "markdown",
   "metadata": {},
   "source": [
    "Play around with the codes above.  For instance, \n",
    "* call ```g1``` on another function which takes 2 or 4 arguments (instead of 1 or 3). \n",
    "* print individual values of ```*args``` - **see the last link below for this**\n",
    "\n",
    "<div class=answer>\n",
    "Answer below.  Add code cells as necessary.\n",
    "<div/>"
   ]
  },
  {
   "cell_type": "code",
   "execution_count": null,
   "metadata": {
    "collapsed": true
   },
   "outputs": [],
   "source": [
    "#your code here"
   ]
  },
  {
   "cell_type": "markdown",
   "metadata": {},
   "source": [
    "Want to know more?  Here are a few links to show you the big picture:\n",
    "* https://www.python-course.eu/passing_arguments.php\n",
    "* http://www.informit.com/articles/article.aspx?p=2314818\n",
    "* https://www.saltycrane.com/blog/2008/01/how-to-use-args-and-kwargs-in-python/"
   ]
  },
  {
   "cell_type": "markdown",
   "metadata": {},
   "source": [
    "## Exercise 1: Intro to the Relaxation Method and Convergence\n",
    "\n",
    "Newman uses $f(x) = 2 - e^{-x}$ as his first test case.  Let's start by plotting that and simply checking that the solution in Newman 6.3.1 is approximately correct.  "
   ]
  },
  {
   "cell_type": "code",
   "execution_count": 39,
   "metadata": {},
   "outputs": [
    {
     "data": {
      "image/png": "iVBORw0KGgoAAAANSUhEUgAAAb0AAAG1CAYAAABtfSopAAAABHNCSVQICAgIfAhkiAAAAAlwSFlz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\n",
      "text/plain": [
       "<matplotlib.figure.Figure at 0x1118f6c50>"
=======
   "execution_count": 51,
   "metadata": {},
   "outputs": [
    {
     "data": {
      "text/plain": [
       "<matplotlib.text.Annotation at 0x7f16b8f7e518>"
      ]
     },
     "execution_count": 51,
     "metadata": {},
     "output_type": "execute_result"
    },
    {
     "data": {
      "image/png": "iVBORw0KGgoAAAANSUhEUgAAAc0AAAHACAYAAADA2zPDAAAABHNCSVQICAgIfAhkiAAAAAlwSFlz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\nkTApNEVERML0/wnLPMp7P+E0AAAAAElFTkSuQmCC\n",
      "text/plain": [
       "<matplotlib.figure.Figure at 0x7f16b914cfd0>"
>>>>>>> ca827e1880145455bbe2edd21b40dfddf3132efe
      ]
     },
     "metadata": {},
     "output_type": "display_data"
    }
   ],
   "source": [
<<<<<<< HEAD
    "def f(x):\n",
    "    '''Calculates a simple mathematic function from Newman 6.3.1\n",
    "    \n",
    "    It is written using numpy's exponential function (not math) so it can operate on numpy arrays.\n",
    "    accepts: x - float\n",
    "    returns f(x) - float\n",
    "    '''\n",
    "    \n",
    "    return 2 - np.exp(-x)\n",
    "\n",
    "#define the x-range\n",
    "x = np.linspace(0,3)\n",
    "\n",
    "#set up the plot\n",
    "fig = plt.figure(figsize=(7,7))\n",
    "ax = fig.add_subplot(111)\n",
    "\n",
    "#plot the function - both left hand side and right hand side\n",
    "ax.plot(x,f(x),label=r\"$2-e^{-x}$\")\n",
    "ax.plot(x,x,label=r\"$x$\",ls='--')\n",
    "\n",
    "#add good labels\n",
=======
    "import math\n",
    "import numpy as np\n",
    "import matplotlib.pylab as plt\n",
    "%matplotlib inline\n",
    "\n",
    "plt.rcParams['font.size']=14\n",
    "\n",
    "def f(x):\n",
    "    '''Calculates a simple mathematic function\n",
    "    accepts: x - float\n",
    "    returns f(x) - float\n",
    "    '''\n",
    "    return 2 - np.exp(-x)\n",
    "\n",
    "x = np.linspace(0,3)\n",
    "\n",
    "fig = plt.figure(figsize=(7,7))\n",
    "ax = fig.add_subplot(111)\n",
    "\n",
    "ax.plot(x,f(x),label=r\"$2-e^{-x}$\")\n",
    "ax.plot(x,x,label=r\"$x$\",ls='--')\n",
>>>>>>> ca827e1880145455bbe2edd21b40dfddf3132efe
    "ax.legend(loc='best')\n",
    "ax.set_xlabel('x')\n",
    "ax.set_ylabel('f(x)')\n",
    "ax.set_aspect('equal')\n",
    "\n",
<<<<<<< HEAD
    "#add a label to be extra transparent\n",
    "text1 = ax.annotate(r'solution, $x^* \\approx 1.84$', xy=(1.84, 1.84), xytext=(1.8, 1.0),\n",
=======
    "#rootfind\n",
    "#ax.axhline(y=0,ls='--',color='gray')\n",
    "\n",
    "ax.annotate(r'solution, $x^* \\approx 1.84$', xy=(1.84, 1.84), xytext=(1.8, 1.0),\n",
>>>>>>> ca827e1880145455bbe2edd21b40dfddf3132efe
    "            arrowprops=dict(facecolor='black', shrink=0.05),\n",
    "            )"
   ]
  },
  {
   "cell_type": "markdown",
   "metadata": {},
   "source": [
<<<<<<< HEAD
    "*Notice how I added an arrow and text to the figure above?  This is very useful.*\n",
    "\n",
    "#### Solve the equation $x=2-e^{-x}$ as in Newman, and include a measure of the error at each step."
=======
    "#### Prove mathematically that the Relaxation Method will work on the function above.  Explain"
>>>>>>> ca827e1880145455bbe2edd21b40dfddf3132efe
   ]
  },
  {
   "cell_type": "code",
<<<<<<< HEAD
   "execution_count": 1,
   "metadata": {},
   "outputs": [],
   "source": [
    "#your code here"
   ]
  },
  {
   "cell_type": "markdown",
   "metadata": {},
   "source": [
    "#### Prove mathematically that the Relaxation Method will work on the function above.  Show your work and briefly explain"
=======
   "execution_count": 53,
   "metadata": {},
   "outputs": [
    {
     "name": "stdout",
     "output_type": "stream",
     "text": [
      "0.158817426107\n"
     ]
    }
   ],
   "source": [
    "print(np.exp(-1.84))"
>>>>>>> ca827e1880145455bbe2edd21b40dfddf3132efe
   ]
  },
  {
   "cell_type": "markdown",
   "metadata": {},
   "source": [
    "<div class=answer>\n",
    "<div/>\n",
<<<<<<< HEAD
    "Answer here (add a code cell to make your life easier.)"
=======
    "Answer here"
>>>>>>> ca827e1880145455bbe2edd21b40dfddf3132efe
   ]
  },
  {
   "cell_type": "markdown",
   "metadata": {},
   "source": [
<<<<<<< HEAD
    "## Exercise 2\n",
    "\n",
    "### Newman's Exercise 6.10: The percolation transition\n",
    "\n",
    "Consider the equation $x = 1 - \\ e^{-cx}$, where $c$ is a known parameter and $x$ is unknown.  This equation arises in a variety of situations, including the physics of contact processes, mathematical models of epidemics, and the theory of random graphs.\n",
    "\n",
    "####  First plot the function for the case $c=2$.  \n",
    "Mark both the trivial solution and the (approximate) non-trivial solution. \n",
    "\n",
    "**Lab-like exercise: **\n",
    "Write a full description of your plots for this section, as if you were in lab.  While it might not be so clear why this is named *the percolation transition* hopefully it is very clear why this is called *the epidemic threshold*.  Please include some insights related to this name in your description of these plots."
=======
    "## Exercise 1\n",
    "You will use the function\n",
    "$$\\label{eqn-bench}\n",
    "f(x)=\\cos x - x\n",
    "$$\n",
    "as a benchmark  in developing the following routines.  To orient yourself, first make a plot of the benchmark function.\n",
    "You will want to plot it over a\n",
    "reasonably wide range, *e.g.*, $-10\\leq x \\leq 10$, since you will be playing with different choices of initial intervals and guess points in this range.\n"
>>>>>>> ca827e1880145455bbe2edd21b40dfddf3132efe
   ]
  },
  {
   "cell_type": "code",
<<<<<<< HEAD
   "execution_count": 37,
   "metadata": {
    "collapsed": true
   },
   "outputs": [],
   "source": [
    "#your code here"
=======
   "execution_count": 4,
   "metadata": {},
   "outputs": [],
   "source": [
    "#your plot here"
>>>>>>> ca827e1880145455bbe2edd21b40dfddf3132efe
   ]
  },
  {
   "cell_type": "markdown",
   "metadata": {},
   "source": [
<<<<<<< HEAD
    "#### Write a program to solve this equation for $x$ using the relaxation method for the case $c=2$.  \n",
    "Calculate your solution to an accuracy of at least $10^{-6}$."
   ]
  },
  {
   "cell_type": "code",
   "execution_count": 37,
   "metadata": {
    "collapsed": true
   },
   "outputs": [],
   "source": [
    "#your code here"
=======
    "## Exercise 2 - introduction to bisection\n",
    " If the tolerance is $10^{-3}$, how many bisections do you expect to need?  What if the tolerance is $10^{-6}$?  Or $10^{-9}$?  Try this out, and record the number of iteration and the approximate root (or, rather, root-containing interval) you find in each case, for $\\cos x - x$.\n",
    " \n",
    " *Hint:* An incredibly-convenient almost-equality is \n",
    "$2^{10} = 1024 \\approx 1000 = 10^3$.  Remember this.  Forever.  This is why 1024~bytes make a \"kilobyte'' to a computer scientist."
>>>>>>> ca827e1880145455bbe2edd21b40dfddf3132efe
   ]
  },
  {
   "cell_type": "markdown",
   "metadata": {},
   "source": [
<<<<<<< HEAD
    "#### Modify your program to calculate the solution for values of $c$ from 0 to 3 in steps of 0.01 and make a plot of $x$ as a function of $c$.  \n",
    "   \n",
    "   You should see a clear transition from a regime in which $x=0$ to a regime of nonzero $x$.   This is another example of a phase transition.   In physics this transition is known as the *percolation transition*;   in epidemiology it is the *epidemic threshold*."
   ]
  },
  {
   "cell_type": "code",
   "execution_count": 37,
   "metadata": {
    "collapsed": true
   },
   "outputs": [],
   "source": [
    "#your code here"
=======
    "<div class=answer>\n",
    "<div/>\n",
    "Answer here"
>>>>>>> ca827e1880145455bbe2edd21b40dfddf3132efe
   ]
  },
  {
   "cell_type": "markdown",
   "metadata": {},
   "source": [
<<<<<<< HEAD
    "<div class=answer>\n",
    "<div/>\n",
    "Describe your plot here."
=======
    "What happens if you ask for a tolerance of $10^{-21}$?  Does it take as many iterations as you expect?  Do you get what you asked for?  Explain roughly what is going on. "
>>>>>>> ca827e1880145455bbe2edd21b40dfddf3132efe
   ]
  },
  {
   "cell_type": "markdown",
   "metadata": {},
   "source": [
<<<<<<< HEAD
    "## Exercise 3: Benchmark function for rootfinding\n",
    "You will use the function\n",
    "$$\n",
    "f(x)=\\cos x - x\n",
    "$$\n",
    "\n",
    "as a benchmark  in developing the following routines.  To orient yourself, first make a plot of the benchmark function. You will want to plot it over a\n",
    "reasonably wide range, *e.g.*, $-10\\leq x \\leq 10$, since you will be playing with different choices of initial intervals and guess points in this range.\n"
=======
    "<div class=answer>\n",
    "<div/>\n",
    "Answer here"
>>>>>>> ca827e1880145455bbe2edd21b40dfddf3132efe
   ]
  },
  {
   "cell_type": "code",
<<<<<<< HEAD
   "execution_count": 4,
   "metadata": {
    "collapsed": true
   },
   "outputs": [],
   "source": [
    "#your plot here\n",
    "\n",
    "#include the following line so you can see where your function crosses zero.\n",
    "#ax.axhline(y=0,ls='--',color='gray')"
=======
   "execution_count": null,
   "metadata": {},
   "outputs": [],
   "source": [
    "# bisection.py -- bisection demo \n",
    "# \n",
    "# Language: Python 3\n",
    "# Mark A. Caprio\n",
    "# University of Notre Dame\n",
    "# Written for Computational Methods in Physics, Spring 2014.\n",
    "\n",
    "# read in external libraries\n",
    "import math\n",
    "\n",
    "# define function for rootfinding\n",
    "def f(x):\n",
    "    return math.cos(x) - x\n",
    "\n",
    "# define tolerance on final result (hence number of bisections)\n",
    "tolerance = 1e-3\n",
    "\n",
    "# set up initial bracketing interval\n",
    "#   Note: Sign of function *must* change in this interval for method to work.\n",
    "xa = 0.\n",
    "xb = 1.\n",
    "error = xb - xa\n",
    "iteration_count = 0\n",
    "\n",
    "# bisect until tolerance reached\n",
    "while (error > tolerance):\n",
    "\n",
    "    # increment iteration count\n",
    "    iteration_count += 1\n",
    "    print (\"iteration\", iteration_count)\n",
    "    \n",
    "    # find interval midpoint\n",
    "    xm = (xa + xb) / 2\n",
    "    print (\"  xa =\",xa,\";\",\"xb =\",xb,\"->\",\"xm=\",xm)\n",
    "\n",
    "    # evaluate function\n",
    "    fxa = f(xa)\n",
    "    fxb = f(xb)\n",
    "    fxm = f(xm)\n",
    "    print (\"  f(xa) =\",fxa,\";\",\"f(xb) =\",fxb,\";\",\"f(xm)=\",fxm)\n",
    "\n",
    "    # find which subinterval contains root\n",
    "    if (fxm == 0):\n",
    "        # accidentally landed on root (often occurs for \"toy\" test intervals)\n",
    "        print (\"  landed on root\")\n",
    "        xa = xm\n",
    "        xb = xm\n",
    "    elif ((fxa * fxm) < 0):\n",
    "        # sign change is in left half of interval\n",
    "        print (\"  left subinterval\")\n",
    "        xb = xm\n",
    "    else:\n",
    "        # sign change is in right half of interval\n",
    "        print (\"  right subinterval\")\n",
    "        xa = xm\n",
    "\n",
    "    # find new error to use in tolerance test\n",
    "    error = xb - xa\n",
    "    print (\"  error =\",error)\n",
    "        \n",
    "# give result\n",
    "print (\"root lies in interval\",xa,\"<= x <=\",xb)"
>>>>>>> ca827e1880145455bbe2edd21b40dfddf3132efe
   ]
  },
  {
   "cell_type": "markdown",
   "metadata": {},
   "source": [
<<<<<<< HEAD
    "## Exercise 4 - the Bisection method \n",
=======
    "## Exercise 3 - Bisection method \n",
>>>>>>> ca827e1880145455bbe2edd21b40dfddf3132efe
    "\n",
    "The bisection method is our baseline method, to which we will be\n",
    "comparing the other new members.  Moreover, we will be using bisection\n",
    "steps when we \"hybridize\" the bisection method with the other, more\n",
    "sophisticated rootfinding methods.  So, let us start off our new\n",
<<<<<<< HEAD
    "rootfind methods by bundling the code above into a function.  \n",
    "\n",
    "For efficiency, I have provided a basic code on the bisection method.  Read the code below carefully and check that it is written as you would expect.\n",
    "Take a close look, and make sure you understand the logic.  He changed the the loop structure to provide a better starting point for the approach we will need to take with in the other rootfinding methods.\n",
    "\n",
    "For instance, all these other methods are based on the idea of finding successive approximations $x_i$ ($i=0$, $1$, $2$, $\\ldots$).  Then the \"error\" is estimated the difference between the two most recent approximate roots, *i.e.*,\n",
    "$$\n",
    "\\epsilon_i = x_i - x_{i-1}.\n",
    "$$"
   ]
  },
  {
   "cell_type": "code",
   "execution_count": 5,
   "metadata": {
    "collapsed": true
   },
   "outputs": [],
   "source": [
    "\"\"\" rootfind.py -- library of rootfinding routines\n",
    "     \n",
    "    Language: Python 3\n",
    "    Mark A. Caprio\n",
    "    University of Notre Dame\n",
    "    Written for Computational Methods in Physics, Spring 2014.\n",
    "\"\"\"\n",
    "\n",
=======
    "\\mcmd{rootfind} module by bundling our old code from\n",
    "\\mcmd{bisection.py} into a function.  You can find the full code in\n",
    "\\mcmd{rootfind\\_TEMPLATE.py}, but here is the documentation for the\n",
    "interface:\n",
    "```\n",
>>>>>>> ca827e1880145455bbe2edd21b40dfddf3132efe
    "def bisection(f,interval,tolerance,verbose=False):\n",
    "    \"\"\" Find root by bisection.\n",
    "\n",
    "    The 'approximation' x_i at each iteration is defined by the\n",
    "    midpoint of the interval.\n",
    "    \n",
    "    The 'error' x_i-x_(i-1) is defined by the change in midpoint from\n",
    "    the midpoint of the last interval.  (Of course, for bisection,\n",
    "    that is always half the width of the new interval.)\n",
    "\n",
    "    Returns None if the sign of the function does not change on the\n",
    "    given interval.  Otherwise, returns final midpoint x_i when\n",
    "    termination condition is reached.\n",
    "\n",
    "    f: function for rootfinding\n",
    "    interval: tuple containing initial interval endpoints (xa,xb)\n",
    "    tolerance: difference x_i-x_(i-1) at which search should terminate\n",
    "    verbose (optional): whether or not to print iteration log\n",
    "    \"\"\"\n",
<<<<<<< HEAD
    "\n",
    "    # set up initial bracketing interval\n",
    "    #   Note: Sign of function *must* change in this interval for method to work.\n",
    "    (xa,xb) = interval\n",
    "    fxa = f(xa)\n",
    "    fxb = f(xb)\n",
    "    if (fxa*fxb >=0):\n",
    "        # no sign change in interval\n",
    "        return None\n",
    "\n",
    "    # set up for first iteration\n",
    "    xm = (xb + xa)/2\n",
    "    error = (xb - xa)/2\n",
    "    iteration_count = 0\n",
    "\n",
    "    # bisect until tolerance reached\n",
    "    while (abs(error) > tolerance):\n",
    "\n",
    "        # increment iteration count\n",
    "        iteration_count += 1\n",
    "        \n",
    "        # evaluate function\n",
    "        fxa = f(xa)\n",
    "        fxb = f(xb)\n",
    "        fxm = f(xm)\n",
    "\n",
    "        # find which subinterval contains root\n",
    "        if (fxm == 0):\n",
    "            # accidentally landed on root (often occurs for \"toy\" test intervals)\n",
    "            xa = xm\n",
    "            xb = xm\n",
    "        elif ((fxa * fxm) < 0):\n",
    "            # sign change is in left half of interval\n",
    "            xb = xm\n",
    "        else:\n",
    "            # sign change is in right half of interval\n",
    "            xa = xm\n",
    "\n",
    "        # find new midpoint (and change in midpoint)\n",
    "        xm_old = xm\n",
    "        xm = (xb + xa)/2\n",
    "        error = xm - xm_old\n",
    "\n",
    "        # verbose iteration log\n",
    "        if (verbose):\n",
    "            print(\"iteration\", iteration_count, \"(bisection):\",\n",
    "                  \"interval\", (xa, xb), \"root\", xm)\n",
    "            \n",
    "    return xm"
=======
    "```\n",
    "\n",
    "*Comment:* Actually, Mark have rewrote the bisection code quite a bit, so take a\n",
    "close look, and make sure you understand the logic.  He changed the the loop structure to provide a better starting point for the approach we will need to take with in the other rootfinding methods.\n",
    "\n",
    "For instance, all these other methods are based on the idea of finding successive approximations $x_i$ ($i=0$, $1$, $2$, $\\ldots$).  Then the \"error\" is estimated the difference between the two most recent approximate roots, *i.e.*,\n",
    "$$\n",
    "\\epsilon_i = x_i - x_{i-1}.\n",
    "$$\n",
    "When this estimated error falls below the tolerance, we terminate and return the \"last guess\" $x_i$.  We can think about the bisection method somewhat the same way (at least, we can phrase the termination condition and return value the same way) if we think of the \"midpoint'' of our interval as $x_i$.\n",
    "\n",
    "Try ```bisection``` out on the benchmark function, using the interval $(0,1)$ and a tolerance $10^{-10}$.  How many\n",
    "iterations are required?"
>>>>>>> ca827e1880145455bbe2edd21b40dfddf3132efe
   ]
  },
  {
   "cell_type": "markdown",
   "metadata": {},
   "source": [
<<<<<<< HEAD
    " When this estimated error falls below the tolerance, we terminate and return the \"last guess\" $x_i$.  We can think about the bisection method somewhat the same way (at least, we can phrase the termination condition and return value the same way) if we think of the \"midpoint\" of our interval as $x_i$.  See the usage example below:"
   ]
  },
  {
   "cell_type": "code",
   "execution_count": null,
   "metadata": {
    "collapsed": true
   },
   "outputs": [],
   "source": [
    "# test code\n",
    "if (__name__ == \"__main__\"):\n",
    "\n",
    "    # read in external libraries\n",
    "    import math\n",
    "\n",
    "    # define function for rootfinding\n",
    "    def f_bench(x):\n",
    "        return math.cos(x) - x\n",
    "    def fp_bench(x):\n",
    "        return -math.sin(x) - 1\n",
    "\n",
    "    # bisection tests\n",
    "\n",
    "    print(\"bisection(f_bench,(-1,0),1e-10,verbose=True)\")\n",
    "    print(bisection(f_bench,(-1,0),1e-10,verbose=True))\n",
    "\n",
    "    print(\"bisection(f_bench,(0,1),1e-10,verbose=True)\")\n",
    "    print(bisection(f_bench,(0,1),1e-10,verbose=True))"
=======
    "<div class=answer>\n",
    "<div/>\n",
    "Answer here"
>>>>>>> ca827e1880145455bbe2edd21b40dfddf3132efe
   ]
  },
  {
   "cell_type": "markdown",
   "metadata": {},
   "source": [
<<<<<<< HEAD
    "If the tolerance is $10^{-3}$, how many bisections do you expect to need?  What if the tolerance is $10^{-6}$ ?  Or $10^{-9}$ ?  Try this out, and record the number of iteration and the approximate root (or, rather, root-containing interval) you find in each case, for the benchmark function.\n",
    " \n",
    " *Hint:* An incredibly-convenient almost-equality is $2^{10} = 1024 \\approx 1000 = 10^3$.  Remember this.  Forever.  This is why 1024 bytes make a \"kilobyte\" to a computer scientist."
   ]
  },
  {
   "cell_type": "code",
   "execution_count": 3,
   "metadata": {
    "collapsed": true
   },
   "outputs": [],
   "source": [
    "#your code here"
=======
    "What happens if you use the interval $(-1,0)$, and why?"
>>>>>>> ca827e1880145455bbe2edd21b40dfddf3132efe
   ]
  },
  {
   "cell_type": "markdown",
   "metadata": {},
   "source": [
    "<div class=answer>\n",
    "<div/>\n",
    "Answer here"
   ]
  },
  {
   "cell_type": "markdown",
   "metadata": {},
   "source": [
<<<<<<< HEAD
    "Try ```bisection``` out on the benchmark function, using the interval $(0,1)$ and a tolerance $10^{-10}$.  How many iterations are required? "
   ]
  },
  {
   "cell_type": "code",
   "execution_count": null,
   "metadata": {
    "collapsed": true
   },
   "outputs": [],
   "source": [
    "#your code here"
=======
    "## Exercise 4: Newton-Raphson method\n",
    "\n",
    "Now let us go ahead and code a function to implement the Newton-Raphson method.  I have gotten us started by defining the interface:\n",
    "\n",
    "```\n",
    "def newton(f,fp,x_guess,tolerance,verbose=False,max_iterations=100):\n",
    "    \"\"\" Find root by Newton's method.\n",
    "\n",
    "    The 'approximation' x_i at each iteration is defined by Newton's\n",
    "    method, in terms of the previous approximation x_(i-1).\n",
    "    \n",
    "    The 'error' x_i-x_(i-1) is defined by the difference in successive\n",
    "    approximations.\n",
    "\n",
    "    Returns None if the maximum number of iterations is reached\n",
    "    without satisfying the tolerance.  Also returns None if\n",
    "    rootfinding lands on point where f has zero slope.  Otherwise,\n",
    "    returns final approximation x_i when termination condition is\n",
    "    reached.\n",
    "\n",
    "    f: function for rootfinding\n",
    "    fp: derivative of function for rootfinding (i.e., 'f prime')\n",
    "    x_guess: initial guess point\n",
    "    tolerance: error at which search should terminate\n",
    "    verbose (optional): whether or not to print iteration log\n",
    "    max_iterations (optional): limit on number of iterations\n",
    "    \"\"\"\n",
    "```\n",
    "Notice that, in case\n",
    "of complete failure, we should put in a maximum number of iterations as a \"safety net\", to avoid an infinite loop.\n",
    "\n",
    "Try your function out on our benchmark function, picking starting points reasonably near the root.  Actually, when it comes time to print out a test case to hand in, please use $x_0=0.5$.\n",
    "\n",
    "Now, we probably thought of bisection as being pretty \"fast\" as a way to get to the root.  After all, on the very first day of class, we saw in **Exercise N** the error in the bisection method falls exponentially with the number of iterations\n",
    "$$\n",
    "\\epsilon_i \\propto \\frac{1}{2^i}.\n",
    "$$\n",
    "And \"exponential\" is \"fast\", right?  But from Newman you have seen that we expect the Newton-Raphson method to be even faster, at least, once we have gotten close enough to a root that the function is basically described by the first couple of terms in its Taylor series around that root.\n",
    " \n",
    "So let us actually compare the performance of ```bisect``` and ```newton```.  We have already run the necessary test cases.  For ```bisect```, we started with the initial interval $(0,1)$, and, for ```newton```, \n",
    "we used $x_0=0.5$, which is the midpoint of this interval.  So it seems reasonable to compare these test cases.  Based on your log of iterations (from the verbose output) make a table indicating how many how many digits of\n",
    "the answer $x_i$ are correct, with each method, after each iteration ($i=0$, $1$, $2$, $\\ldots$)."
>>>>>>> ca827e1880145455bbe2edd21b40dfddf3132efe
   ]
  },
  {
   "cell_type": "markdown",
   "metadata": {},
   "source": [
    "<div class=answer>\n",
    "<div/>\n",
    "Answer here"
   ]
  },
  {
   "cell_type": "markdown",
   "metadata": {},
   "source": [
<<<<<<< HEAD
    "What happens if you ask for a tolerance of $10^{-21}$?  Does it take as many iterations as you expect?  Do you get what you asked for?  Explain roughly what is going on. "
   ]
  },
  {
   "cell_type": "code",
   "execution_count": 3,
   "metadata": {
    "collapsed": true
   },
   "outputs": [],
   "source": [
    "#your code here"
=======
    "For the *bisection* method, does the growth in the number of correct digits look linear in the number of iterations, or perhaps quadratic, or exponential?  How about for the *Newton-Raphson* method (the trend here may be\n",
    "harder to judge by eye)?  Explain these results in terms of the expected convergence rates (from Newman)."
>>>>>>> ca827e1880145455bbe2edd21b40dfddf3132efe
   ]
  },
  {
   "cell_type": "markdown",
   "metadata": {},
   "source": [
    "<div class=answer>\n",
    "<div/>\n",
    "Answer here"
   ]
  },
  {
   "cell_type": "markdown",
   "metadata": {},
   "source": [
<<<<<<< HEAD
    "What happens if you use the interval $(-1,0)$, and why?"
=======
    "What happens if you start Newton's method instead with the initial guess point $x=5$?  How about $x=10$?  Explain what's going on.  It will help to look back at your plot of this function.  "
>>>>>>> ca827e1880145455bbe2edd21b40dfddf3132efe
   ]
  },
  {
   "cell_type": "markdown",
   "metadata": {},
   "source": [
    "<div class=answer>\n",
    "<div/>\n",
    "Answer here"
   ]
  },
  {
   "cell_type": "markdown",
   "metadata": {},
   "source": [
<<<<<<< HEAD
    "## Exercise 6: Wien's Displacement Constant\n",
    "Work out Newman's 6.13 in a lab format.  Type it up neatly, using markdown to show your work on part (a).  As in the percolation problem, plot and label the numerical function you are trying to solve before \"cranking away.\"  Remember to describe all of your graphs."
=======
    "## Exercise 5: More on Newton's method\n",
    "\n",
    "Here's one more illustration with Newton's method.  Let's try it out on the function\n",
    "$$\n",
    "\\begin{equation}\n",
    "f(x)=x^2+1.\n",
    "\\end{equation}\n",
    "$$\n",
    "What happens if you pick $x=0$ as the starting point?  How about\n",
    "$x=0.5$?"
>>>>>>> ca827e1880145455bbe2edd21b40dfddf3132efe
   ]
  },
  {
   "cell_type": "code",
   "execution_count": null,
<<<<<<< HEAD
   "metadata": {
    "collapsed": true
   },
   "outputs": [],
   "source": [
    "#insert code and markdown cells as needed"
=======
   "metadata": {},
   "outputs": [],
   "source": [
    "#your code here"
>>>>>>> ca827e1880145455bbe2edd21b40dfddf3132efe
   ]
  },
  {
   "cell_type": "markdown",
   "metadata": {},
   "source": [
<<<<<<< HEAD
    "## Exercise 7: Newton-Raphson method\n",
    "\n",
    "Now let us go ahead and code a function to implement the Newton-Raphson method.  I have gotten us started by defining the interface:"
   ]
  },
  {
   "cell_type": "code",
   "execution_count": null,
   "metadata": {
    "collapsed": true
   },
   "outputs": [],
   "source": [
    "def newton(f,fp,x_guess,tolerance,verbose=False,max_iterations=100):\n",
    "    \"\"\" Find root by Newton's method.\n",
    "\n",
    "    The 'approximation' x_i at each iteration is defined by Newton's\n",
    "    method, in terms of the previous approximation x_(i-1).\n",
    "    \n",
    "    The 'error' x_i-x_(i-1) is defined by the difference in successive\n",
    "    approximations.\n",
    "\n",
    "    Returns None if the maximum number of iterations is reached\n",
    "    without satisfying the tolerance.  Also returns None if\n",
    "    rootfinding lands on point where f has zero slope.  Otherwise,\n",
    "    returns final approximation x_i when termination condition is\n",
    "    reached.\n",
    "\n",
    "    f: function for rootfinding\n",
    "    fp: derivative of function for rootfinding (i.e., 'f prime')\n",
    "    x_guess: initial guess point\n",
    "    tolerance: error at which search should terminate\n",
    "    verbose (optional): whether or not to print iteration log\n",
    "    max_iterations (optional): limit on number of iterations\n",
    "    \"\"\"\n",
    "\n",
    "    # set up for first iteration\n",
    "    x = x_guess\n",
    "    error = 2*tolerance  # set error big enough to get past while condition\n",
    "    iteration_count = 0\n",
    "\n",
    "    # TODO\n",
    "\n",
    "    return x\n"
=======
    "<div class=answer>\n",
    "<div/>\n",
    "Answer here"
   ]
  },
  {
   "cell_type": "markdown",
   "metadata": {},
   "source": [
    "*Comment:* Notice that we were applying a rootfinding method, to a function which\n",
    "had no root. A physics professor of mine promulgated this bit of wisdom:\n",
    "\n",
    "    **First rule: Think before you try cranking away!**\n",
    "\n",
    "But, even if we were immune to being so silly as to ever attempt this, there is\n",
    "a lesson to be learned.  What if our function *had* a root, off somewhere far away from the initial guess point, but the guess point landed us near a local minimum in the function?  Our function would locally look just like this parabola, and the Newton-Raphson method could become trapped oscillating around the minimum, in just this fashion.\n",
    "\n",
    "\\textit{Summary:} Here is an attempt at summarizing the lessons we have learned.  When it works, Newton-Raphson converges much more rapidly than bisection.  However, sometimes it jumps around before converging.  Sometimes it just oscillates, without converging.  Or, if the starting point is not close enough to a root, the method may go\n",
    "completely astray.\n",
    "\n",
    "**When it's good, it's very, very good.  When it's bad, it's horrid.**"
>>>>>>> ca827e1880145455bbe2edd21b40dfddf3132efe
   ]
  },
  {
   "cell_type": "markdown",
   "metadata": {},
   "source": [
<<<<<<< HEAD
    "Notice that, in case of complete failure, we should put in a maximum number of iterations as a \"safety net\", to avoid an infinite loop.\n",
    "\n",
    "Try your function out on our benchmark function, picking starting points reasonably near the root.  Actually, when it comes time to print out a test case to hand in, please use $x_0=0.5$.\n",
    "\n",
    "Now, we probably thought of bisection as being pretty \"fast\" as a way to get to the root.  After all, we saw in **Exercise 3** the error in the bisection method falls exponentially with the number of iterations\n",
    "$$\n",
    "\\epsilon_i \\propto \\frac{1}{2^i}.\n",
    "$$\n",
    "And \"exponential\" is \"fast\", right?  But from Newman you have seen that we expect the Newton-Raphson method to be even faster, at least, once we have gotten close enough to a root that the function is basically described by the first couple of terms in its Taylor series around that root.\n",
    " \n",
    "So let us actually compare the performance of ```bisect``` and ```newton```.  We have already run the necessary test cases.  For ```bisect```, we started with the initial interval $(0,1)$, and, for ```newton```, \n",
    "we used $x_0=0.5$, which is the midpoint of this interval.  So it seems reasonable to compare these test cases.  Based on your log of iterations (from the verbose output) make a table indicating how many how many digits of\n",
    "the answer $x_i$ are correct, with each method, after each iteration ($i=0$, $1$, $2$, $\\ldots$)."
   ]
  },
  {
   "cell_type": "code",
   "execution_count": null,
   "metadata": {
    "collapsed": true
   },
   "outputs": [],
   "source": [
    "#your code here"
=======
    "## Exercise 6: Hybridized Newton-Raphson method\n",
    "\n",
    "How can we get the best of both worlds: the reliability of the bisection method,\n",
    "but the rapid convergence of the Newton-Raphson method?  We can *hybridize* the bisection method with the\n",
    "Newton-Raphson method.\n",
    "\n",
    "#### Here is a sketch (pseudocode) of the hybrid method:\n",
    "\n",
    "* Assume that we are given an interval $(a,b)$ which is known to contain a root.\n",
    "\n",
    "\n",
    "* Choose a starting point $x_0$ in that interval, say, the midpoint.\n",
    "\n",
    "\n",
    "* Until the difference between successive guesses falls below the tolerance:\n",
    "\n",
    "    *  Do a Newton-Raphson step: \n",
    "        $$\n",
    "        x_i \\leftarrow x_{i-1}- \\frac{f(x_{i-1})}{f'(x_{i-1})}.\n",
    "        $$\n",
    "\n",
    "    * Test to see if $x_i$ is in the interval.\n",
    "\n",
    "    *  YES, keep $x_i$ as the new guess, and use it to determine a new, tighter interval.  \n",
    "        - *RECALL: Given $a<x<b$, if $f(a)\\ f(x)<0$, the root lies between $a$ and $x$, otherwise between $x$ and  $b$.*\n",
    "    \n",
    "    * NO, then the Newton-Raphson step has failed, so make a bisection step.  \n",
    "         - *This gives us a new interval.  And we can use this interval's midpoint, say, as our new guess point $x_{i+1}$.*\n",
    "\n",
    "\n",
    "#### What are the necessary parameters for a hybridized Newton-Raphson rootfinding function?  \n",
    "\n",
    "\n",
    "*Note:* There is no reason that our initial guess *has* to be the midpoint of our initial interval.  We *could* write or code this way, but we could also allow the user to come up with the initial guess.  The user might know of a better way of generating the initial guess, for instance, from an approximate formula for the roots of the function of interest (or perhaps a ouiji board?)."
>>>>>>> ca827e1880145455bbe2edd21b40dfddf3132efe
   ]
  },
  {
   "cell_type": "markdown",
   "metadata": {},
   "source": [
    "<div class=answer>\n",
    "<div/>\n",
    "Answer here"
   ]
  },
  {
   "cell_type": "markdown",
   "metadata": {},
   "source": [
<<<<<<< HEAD
    "For the *bisection* method, does the growth in the number of correct digits look linear in the number of iterations, or perhaps quadratic, or exponential?  How about for the *Newton-Raphson* method (the trend here may be\n",
    "harder to judge by eye)?  Explain these results in terms of the expected convergence rates (from Newman)."
   ]
  },
  {
   "cell_type": "markdown",
   "metadata": {},
   "source": [
    "<div class=answer>\n",
    "<div/>\n",
    "Answer here"
=======
    "Write a function ```hybrid_newton```.\n",
    "*Hint:* Make sure the verbose output logs all iterations -- both Newton-Raphson and bisection -- since you will need this information in a moment."
   ]
  },
  {
   "cell_type": "code",
   "execution_count": 10,
   "metadata": {},
   "outputs": [],
   "source": [
    "#your code here"
>>>>>>> ca827e1880145455bbe2edd21b40dfddf3132efe
   ]
  },
  {
   "cell_type": "markdown",
   "metadata": {},
   "source": [
<<<<<<< HEAD
    "What happens if you start Newton's method instead with the initial guess point $x=5$?  How about $x=10$?  Explain what's going on.  It will help to look back at your plot of this function.  "
=======
    "Try out your implementation of the hybrid method on our benchmark\n",
    "function.  For each of the three initial guesses we tried above\n",
    "($x_0=0.5$, $5$, and $10$), repeat using the exact same initial guess,\n",
    "but now contained within an appropriate interval.  What sequence of *Newton-Raphson* and *bisection* steps is necessary in each case?"
>>>>>>> ca827e1880145455bbe2edd21b40dfddf3132efe
   ]
  },
  {
   "cell_type": "markdown",
   "metadata": {},
   "source": [
    "<div class=answer>\n",
    "<div/>\n",
    "Answer here"
   ]
  },
  {
   "cell_type": "markdown",
   "metadata": {},
   "source": [
<<<<<<< HEAD
    "## Exercise 6: More on Newton's method\n",
    "\n",
    "Here's one more illustration with Newton's method.  Let's try it out on the function\n",
    "\n",
    "$$\n",
    "\\begin{equation}\n",
    "f(x)=x^2+1.\n",
    "\\end{equation}\n",
    "$$\n",
    "\n",
    "What happens if you pick $x=0$ as the starting point?  How about\n",
    "$x=0.5$?"
=======
    "## Exercise 7: Dekker secant method\n",
    "\n",
    "You have just read about the Dekker secant method in Newman, but let us review the basic idea.  What if we do *not* have a simple formula for the *derivative* of the function of interest, or any simple procedure for evaluating this derivative, or it is very costly to do so?  Perhaps evaluating $f(x)$ involves doing numerical integration, or numerically solving a differential equation, or finding the eigenvalue of a matrix (where the matrix elements depend somehow on $x$ -- so it is no simple matter just to plug in $x$ and get $f'(x)$.  \n",
    "\n",
    "We can still come up with a poor man's version of the Newton-Raphson method: we use the values of $f$ which we found at the last *two* points $x_{i-1}$ and $x_i$, to *approximate* the derivative $f'(x_i)$ in Newton's method.  This gives us the *Dekker secant method*:\n",
    "$$\n",
    "\\begin{aligned}\n",
    "x_{i+1} &\\leftarrow x_i - \\frac{f(x_i)}{f'(x_i)} &&\\text{Newton-Raphson}\\\\\n",
    "x_{i+1} &\\leftarrow x_i - f(x_i)\\frac{x_i-x_{i-1}}{f(x_i)-f(x_{i-1})}\n",
    "&&\\text{Dekker secant}.\n",
    "\\end{aligned}\n",
    "$$\n",
    "Geometrically, this means that, rather than using the *tangent* line to find the next approximation, we are using the *secant* line (hence the name of the method).\n",
    "\n",
    "What parameters will a Dekker secant rootfinding function require?"
   ]
  },
  {
   "cell_type": "markdown",
   "metadata": {},
   "source": [
    "<div class=answer>\n",
    "<div/>\n",
    "Answer here"
   ]
  },
  {
   "cell_type": "markdown",
   "metadata": {},
   "source": [
    "Write a rootfinding function ```secant```, which implements the Dekker secant method.  Try it out on the benchmark function, with reasonable first guesses.  Actually, for your example output, try to\n",
    "choose initial conditions which roughly match the starting point $x_0=0.5$ we used before, with the\n",
    "Newton-Raphson method.  Qualitatively compare the results with the Newton-Raphson method."
>>>>>>> ca827e1880145455bbe2edd21b40dfddf3132efe
   ]
  },
  {
   "cell_type": "code",
<<<<<<< HEAD
   "execution_count": null,
   "metadata": {
    "collapsed": true
   },
=======
   "execution_count": 12,
   "metadata": {},
>>>>>>> ca827e1880145455bbe2edd21b40dfddf3132efe
   "outputs": [],
   "source": [
    "#your code here"
   ]
  },
  {
   "cell_type": "markdown",
   "metadata": {},
   "source": [
    "<div class=answer>\n",
    "<div/>\n",
    "Answer here"
   ]
  },
  {
   "cell_type": "markdown",
   "metadata": {},
   "source": [
<<<<<<< HEAD
    "*Comment:* Notice that we were applying a rootfinding method, to a function which\n",
    "had no root. A physics professor of mine promulgated this bit of wisdom:\n",
    "\n",
    "    **First rule: Think before you try cranking away!**\n",
    "\n",
    "But, even if we were immune to being so silly as to ever attempt this, there is\n",
    "a lesson to be learned.  What if our function *had* a root, off somewhere far away from the initial guess point, but the guess point landed us near a local minimum in the function?  Our function would locally look just like this parabola, and the Newton-Raphson method could become trapped oscillating around the minimum, in just this fashion.\n",
    "\n",
    "**Summary:** Here is an attempt at summarizing the lessons we have learned.  When it works, Newton-Raphson converges much more rapidly than bisection.  However, sometimes it jumps around before converging.  Sometimes it just oscillates, without converging.  Or, if the starting point is not close enough to a root, the method may go\n",
    "completely astray.\n",
    "\n",
    "**When it's good, it's very, very good.  When it's bad, it's horrid.**"
=======
    "## Exercise 8: Hybridized Dekker secant\n",
    "\n",
    "Alas, in the Dekker secant method, we have inherited all the failings\n",
    "of the Newton-Raphson method, along with (most of) the benefits.  So\n",
    "it is time to hybridize again...  What parameters will a hybridized\n",
    "bisection and Dekker secant rootfinding function require?"
>>>>>>> ca827e1880145455bbe2edd21b40dfddf3132efe
   ]
  },
  {
   "cell_type": "markdown",
   "metadata": {},
   "source": [
<<<<<<< HEAD
    "## Exericise 7 - The Lagrange Point.  \n",
    "Work out Newman's Exercise 6.16 below.  You can use the scipy constants library for G."
=======
    "<div class=answer>\n",
    "<div/>\n",
    "Answer here"
   ]
  },
  {
   "cell_type": "markdown",
   "metadata": {},
   "source": [
    "Write a function ```hybrid_secant```, and try it out on our benchmark function.  Try to choose initial conditions which roughly match the three different starting points and intervals you used when you tested the hybridized\n",
    "Newton-Raphson method."
>>>>>>> ca827e1880145455bbe2edd21b40dfddf3132efe
   ]
  },
  {
   "cell_type": "code",
<<<<<<< HEAD
   "execution_count": 11,
   "metadata": {},
   "outputs": [
    {
     "name": "stdout",
     "output_type": "stream",
     "text": [
      "6.67408e-11\n"
     ]
    }
   ],
   "source": [
    "from scipy.constants import G\n",
    "print(G)"
=======
   "execution_count": 12,
   "metadata": {},
   "outputs": [],
   "source": [
    "#your code here"
>>>>>>> ca827e1880145455bbe2edd21b40dfddf3132efe
   ]
  }
 ],
 "metadata": {
  "kernelspec": {
   "display_name": "Python 3",
   "language": "python",
   "name": "python3"
  },
  "language_info": {
   "codemirror_mode": {
    "name": "ipython",
    "version": 3
   },
   "file_extension": ".py",
   "mimetype": "text/x-python",
   "name": "python",
   "nbconvert_exporter": "python",
   "pygments_lexer": "ipython3",
<<<<<<< HEAD
   "version": "3.6.3"
=======
   "version": "3.5.2"
>>>>>>> ca827e1880145455bbe2edd21b40dfddf3132efe
  }
 },
 "nbformat": 4,
 "nbformat_minor": 2
}
