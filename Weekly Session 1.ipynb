{
 "cells": [
  {
   "cell_type": "markdown",
   "metadata": {},
   "source": [
    "# Weekly Session 1: Hello World! <a id='home'></a>\n",
    "## Physics 325\n",
    "### Spring 2018\n",
    "\n",
    "### The goals for the week are to practice: \n",
    "  * using a Jupyter Notebook, \n",
    "  * sharing a document with GitHub \n",
    "  * We will follow the approxmiate schedule in learning Python/coding fundamentals:\n",
    "      * Monday [linked here](#Monday)\n",
    "        * Variable defintions and types\n",
    "        * Input/Output (I/O) including print formatting\n",
    "        * Arithmetic\n",
    "          \n",
    "      * Wednesday [linked here](#Wednesday)\n",
    "        * Order of operations\n",
    "        * Built-in Functions, Packages, and Modules\n",
    "        * Comments \n",
    "        * Control structures\n",
    "         * If/else\n",
    "         * While\n",
    "         \n",
    "      * Thursday Lab - Meet the Turtle [linked here](#Thursday)\n",
    "        * Control structures continued\n",
    "          * For \n",
    "        * User-defined functions\n",
    "        \n",
    "      * Friday [linked here](#Friday)\n",
    "        * Lists/Arrays/Slicing\n",
    "        * Reading a file\n",
    "        * Good programming style\n",
    "\n",
    "\n",
    "#### Instructions: \n",
    "\n",
    "1.  Switch off between *driver* and *navigator* roles\n",
    "between each exercise.  Thus, if you are typing Python code on the computer for Exercise 1, your partner should be doing the typing on Exercise 2, and so on.  \n",
    "\n",
    "2. Save and share via GitHub.  At the end of each exercise push the changes to GitHub.\n",
    "\n",
    "2. You can and should use a whiteboard to do the variable traces.  \n",
    "\n",
    "3. __There is A LOT of new concepts (and software) coming your way all at once.  I have done my best to introduce as much as I can slowly, but PLEASE ASK QUESTIONS AS NEEDED !!!!  The more questions you ask, the more I can tune the class to your level.__\n",
    "\n",
    "4.  Complete the following exercises in-line.\n",
    "\n",
    "5.  Don't be shy about copy/paste to recycle bits of code within the document.  Just make sure you understand what pieces you need and how to modify them.\n",
    "\n",
    "2.  At the end of the week, it will be left to each partner to individually complete any unfinished session work, and submit the final copy via GitHub.\n",
    "\n"
   ]
  },
  {
   "cell_type": "markdown",
   "metadata": {},
   "source": [
    "<div class=warn>\n",
    "\n",
    "<div/>\n",
    "\n",
    "## Pink Cells (i.e. Styling the notebook).\n",
    "\n",
    "I have made some lovely cells for you to answer questions in (basically so they are easier to see).  In order to see these you need to\n",
    "* Download the style sheet _style.css_ to the same folder as this notebook (it could be elsewere, see next step). \n",
    "* Navigate to the very last cell in the notebook [linked here](#last_cell).\n",
    "* In a blank python cell type the command \"%pwd\" which is an in-line command which stands for \"print working directory\" that comes from the Unix-command line.  You should see a file path.\n",
    "    * On my Mac it reads: \n",
    "     '/Users/mcde2235/Box Sync/Coursework/PHY325/Spring2018/Weekly-Sessions'\n",
    "    * On a lab Windows machine it reads: \n",
    "     'C:\\\\Users\\\\workshop\\\\Documents\\\\GitHub\\\\Test_Folder\\\\Weekly-Sessions'\n",
    "     \n",
    "* Modify the source code in the python cell to have that filepath.  The example below has been modified for my Mac\n",
    "    \n",
    "* you should see pink Markdown cells throughout the notebook meant for you to fill in your answers\n",
    "    \n",
    "* <font color=hotpink> Don't like pink? </font>  Well, this is the perfect opportunity to learn a little about the HTML style sheet.  Open the file and adjust the color - the color codes are currently Hex style - just google \"HTML color codes\" and dig around to pick a favorite.  We'll play with colors more when we meet the turtle()."
   ]
  },
  {
   "cell_type": "markdown",
   "metadata": {},
   "source": [
    "## Monday Jan 29, 2018 <a id='Monday'></a>\n",
    "\n",
    "We will focus on the following Python fundamentals:\n",
    "\n",
    "* Variable defintions and types\n",
    "* Input/Output (I/O) including print formatting\n",
    "* Arithmetic - ending at order of operations"
   ]
  },
  {
   "cell_type": "markdown",
   "metadata": {},
   "source": [
    "### Exercise 1 (Newman 2.2.3): Input/Output or I/O \n",
    "\n",
    "Our first output tool will be the built-in print() function.  "
   ]
  },
  {
   "cell_type": "code",
   "execution_count": null,
   "metadata": {
    "collapsed": true
   },
   "outputs": [],
   "source": [
    "print(\"Hello World\")"
   ]
  },
  {
   "cell_type": "markdown",
   "metadata": {},
   "source": [
    "Pause and appreciate what you just did!  Python is a language that can achieve the canonical \"Hello World\" code in a single line!  Try doing that with C++"
   ]
  },
  {
   "cell_type": "markdown",
   "metadata": {},
   "source": [
    "__Input options.__ Often programs can benefit from live user input. This is less useful in the notebook but it still works in a clever way. "
   ]
  },
  {
   "cell_type": "code",
   "execution_count": null,
   "metadata": {
    "collapsed": true
   },
   "outputs": [],
   "source": [
    "#Run this cell to try it out - notice that this line is a comment\n",
    "name = input(\"My name is: \")"
   ]
  },
  {
   "cell_type": "markdown",
   "metadata": {},
   "source": [
    "Now we can print the value of the variable `name`.  In Python3, `print` is a function and therefore takes arguments between `(` and `)`.  We will talk more about these soon.  You will see Python2 legacy code that does not use this format. "
   ]
  },
  {
   "cell_type": "code",
   "execution_count": null,
   "metadata": {
    "collapsed": true
   },
   "outputs": [],
   "source": [
    "print(name)"
   ]
  },
  {
   "cell_type": "markdown",
   "metadata": {},
   "source": [
    "Modify the statement below to say something new."
   ]
  },
  {
   "cell_type": "code",
   "execution_count": null,
   "metadata": {
    "collapsed": true
   },
   "outputs": [],
   "source": [
    "#edit this cell\n",
    "print(\"I am \",name, \"and I love physics.\")"
   ]
  },
  {
   "cell_type": "markdown",
   "metadata": {},
   "source": [
    "Play around with the `sep` option in print, as described by Newman, for example, predict how you expect the following two print statements to differ, and then try it out. \n",
    "\n",
    "```python\n",
    "   x = 1.5\n",
    "   z = 2+3j\n",
    "   print(x,z)\n",
    "   print(x,z,sep=\"...\")\n",
    "```"
   ]
  },
  {
   "cell_type": "markdown",
   "metadata": {},
   "source": [
    "<div class=warn>\n",
    "<font color='green'>*This is a markdown cell. Double click in order to enter text.  Generally be on the lookout for pink boxes to enter written answers and gray boxes to type python code as answers.  Don't feel pressure to immediately learn MarkDown to format your text and equations, however you can double click on any cell in order to see the formatting codes.* </font>\n",
    "<div/>\n",
    "Answer here"
   ]
  },
  {
   "cell_type": "code",
   "execution_count": null,
   "metadata": {
    "collapsed": true
   },
   "outputs": [],
   "source": [
    "#try your code here - modify it to use a different sep() variable."
   ]
  },
  {
   "cell_type": "markdown",
   "metadata": {},
   "source": [
    "The print() function has many different formatting tricks.  We'll play around with it throughout the course."
   ]
  },
  {
   "cell_type": "markdown",
   "metadata": {},
   "source": [
    "## Switch Rolls between Driver and Navigator"
   ]
  },
  {
   "cell_type": "markdown",
   "metadata": {},
   "source": [
    "### Exercise 2 (Newman 2.2.2): Variable types \n",
    "\n",
    "Variable types are an important concept in any programming language.  They are surprisingly informal in Python because it is a pre-compiled language.  It other languages such as C++, you must formally declare a variable so the complier can set aside some memory to hold that variable.  Python handles memory allocation of most variables without a direct instruction from you.  \n",
    "\n",
    "As outlined in Newman, here are some equally good declarations of floating point numbers:\n",
    "```python\n",
    "a = 1.0\n",
    "b = float(2)\n",
    "c = float(3.0)\n",
    "```\n",
    "See Newman's definitions of Variable Types on pg. 2.2.2. for a nice explanation of the variable types float, complex, string, and integer.  Similar principles may be applied for these types. "
   ]
  },
  {
   "cell_type": "markdown",
   "metadata": {},
   "source": [
    "For a complex number, you may use this syntax, which I don't believe is in Ch 2 of Newman, but hopefully maps to what you know about complex numbers.  \n",
    "```python\n",
    "d = complex(2,3)\n",
    "```"
   ]
  },
  {
   "cell_type": "markdown",
   "metadata": {},
   "source": [
    "__Identify the types of variables below.  Feel free to consult Newman.__\n",
    "```python \n",
    "t=4.3\n",
    "x=7\n",
    "y=5.4e4\n",
    "z=x+yj\n",
    "q=\"Hello World\"\n",
    "r=7+5.4e4j\n",
    "4r=4*r\n",
    "x + y = 13\n",
    "t.=9\n",
    "```\n",
    "__Just a warning, some of the variables ARE WRONG!  If you were to run the lines of code above, which ones do you predict will give you error?  Why?__"
   ]
  },
  {
   "cell_type": "markdown",
   "metadata": {},
   "source": [
    "<div class=warn>\n",
    "<div/>\n",
    "Answer here"
   ]
  },
  {
   "cell_type": "code",
   "execution_count": null,
   "metadata": {
    "collapsed": true
   },
   "outputs": [],
   "source": [
    "#test the variables here"
   ]
  },
  {
   "cell_type": "markdown",
   "metadata": {},
   "source": [
    "__For some incomprehensible reason, Newman introduces variable types without also introducing the ```type()``` function.  We are going to use type() to check your answers above.  For example, what do you expect the output will be for following lines of code:__\n",
    "```python\n",
    "print(type(x))\n",
    "print(x)\n",
    "```"
   ]
  },
  {
   "cell_type": "markdown",
   "metadata": {},
   "source": [
    "<div class=warn>\n",
    "<div/>\n",
    "Answer here"
   ]
  },
  {
   "cell_type": "markdown",
   "metadata": {},
   "source": [
    "__Check your answers in the code box below.__"
   ]
  },
  {
   "cell_type": "code",
   "execution_count": null,
   "metadata": {
    "collapsed": true
   },
   "outputs": [],
   "source": [
    "#try out the type() function here for each correctly formatted variable above.  \n",
    "# If the variable is wrong, write a correct version"
   ]
  },
  {
   "cell_type": "markdown",
   "metadata": {
    "collapsed": true
   },
   "source": [
    "### Exercise 3: More I/O + a little arithmetic"
   ]
  },
  {
   "cell_type": "markdown",
   "metadata": {},
   "source": [
    "Note that all values read by ```input()``` are considered strings unless otherwise specified.  How will the following two codes differ?"
   ]
  },
  {
   "cell_type": "code",
   "execution_count": null,
   "metadata": {
    "collapsed": true
   },
   "outputs": [],
   "source": [
    "#version 1\n",
    "x=input(\"Enter a complex number:\")\n",
    "print(x)\n",
    "print(type(x))\n",
    "\n",
    "#version 2\n",
    "x=complex(input(\"Enter a complex number:\"))\n",
    "print(x)\n",
    "print(type(x))\n"
   ]
  },
  {
   "cell_type": "markdown",
   "metadata": {},
   "source": [
    "<div class=warn>\n",
    "<div/>\n",
    "Answer here"
   ]
  },
  {
   "cell_type": "markdown",
   "metadata": {},
   "source": [
    "**EXAMPLE: Using print() to communicate a result**  \n",
    "Write a single cell that converts from meters to centimeters.  Have it ask for a numeric value and then print that value multiplied by 100 in a statement that says \"Your value in cm is equal to <>\" where <> is replaced with the proper value.\n",
    "*Note this example introduces multiplication and a type convervsion. *"
   ]
  },
  {
   "cell_type": "code",
   "execution_count": null,
   "metadata": {
    "collapsed": true,
    "scrolled": true
   },
   "outputs": [],
   "source": [
    "# Solution\n",
    "value = input(\"Enter a number measured in meters: \")\n",
    "print(\"Your value is equal to:\",float(value)*100, \"cm.\")"
   ]
  },
  {
   "cell_type": "markdown",
   "metadata": {},
   "source": [
    "** Your Turn: ** Write a single cell that reads in a distance and time, and calculates an average speed."
   ]
  },
  {
   "cell_type": "code",
   "execution_count": null,
   "metadata": {
    "collapsed": true
   },
   "outputs": [],
   "source": [
    "#try your code here"
   ]
  },
  {
   "cell_type": "markdown",
   "metadata": {},
   "source": [
    "** Your Turn: ** Write a single cell that reads in two values: the real and imaginary parts of a complex number.  Then write the number out for the user."
   ]
  },
  {
   "cell_type": "code",
   "execution_count": null,
   "metadata": {
    "collapsed": true
   },
   "outputs": [],
   "source": [
    "#try your code here"
   ]
  },
  {
   "cell_type": "markdown",
   "metadata": {},
   "source": [
    "### Exercise 4 (Newman 2.2): Tracing through some variable assignment statements\n",
    "*Trace tables are used by programmers to track the values of variables as they change throughout the program. This is useful when a program is not producing the desired result.* \n",
    "\n",
    "In math, an expression like $x=x+y$ is an *equation* --- that\n",
    "is, a proposition, or claim, about\n",
    "the relationship between the left hand side.  In a programming\n",
    "context, though, an expression like this is an *assignment\n",
    "statement*.  It means ``evaluate the expression on the right hand side,\n",
    "and then assign this as the new value for the variable on the left\n",
    "hand side''.\n",
    "\n",
    "__Do a variable trace table for the following lines of code.  *Answer in the following two cells.*__\n",
    "```python\n",
    "x = 2 \n",
    "y = 4 \n",
    "x = x + y   # notice x on both sides \n",
    "print (x)\n",
    "```"
   ]
  },
  {
   "cell_type": "markdown",
   "metadata": {},
   "source": [
    "<div class=warn>\n",
    "__What do you expect to see printed?  Explain.__\n",
    "<div/>\n",
    "Answer here"
   ]
  },
  {
   "cell_type": "markdown",
   "metadata": {},
   "source": [
    "__Now try the code out in the python cell below.  Notice the green line that starts with a # sign is a comment \n",
    "that will be ignored by the Python interpreter.__"
   ]
  },
  {
   "cell_type": "code",
   "execution_count": null,
   "metadata": {
    "collapsed": true
   },
   "outputs": [],
   "source": [
    "#Type your code here:"
   ]
  },
  {
   "cell_type": "markdown",
   "metadata": {},
   "source": [
    "<div class=warn>\n",
    "__Did you get what you expected?  Explain why not if you got something different.__\n",
    "<div/>\n",
    "\n",
    "Answer here"
   ]
  },
  {
   "cell_type": "markdown",
   "metadata": {},
   "source": [
    "### Exercise 5: A taste of expression evaluation \n",
    "\n",
    "Let us now try out some operations involving real \n",
    "numbers.  In Modern Physics and elsewhere, you learn about Planck's constant,\n",
    "$h\\approx6.626\\,068\\,76\\times 10^{-34}\\,\\mathrm{J\\,s}$, but you will\n",
    "find in quantum mechanics problems that you usually actually need the\n",
    "reduced Planck's constant (read as \"$h$ bar'').  *Indeed, I have gone through periods in my life in which it was exceedingly difficult to write an h without crossing it.*\n",
    "\\begin{equation}\n",
    "\\hbar = \\frac{h}{2\\pi}.\n",
    "\\end{equation}\n",
    "\n",
    "Looking at the following lines of code, what do you expect to see\n",
    "printed?  (You should be able to at least roughly estimate the first\n",
    "digit in your head!)  \n",
    "\n",
    "```python\n",
    "h = 6.62606876e-34   # the \"e\" (for \"exponent\") indicates scientific notation\n",
    "pi = 3.14159265\n",
    "hbar = h / 2 * pi\n",
    "print (\"hbar = \", hbar)\n",
    "```"
   ]
  },
  {
   "cell_type": "markdown",
   "metadata": {},
   "source": [
    "<div class=warn>\n",
    "__Discuss your answer with your partner and type your response below. What do you expect? __\n",
    "<div/>\n",
    "\n",
    "Answer here"
   ]
  },
  {
   "cell_type": "markdown",
   "metadata": {},
   "source": [
    "__Now try it out in Python.__"
   ]
  },
  {
   "cell_type": "code",
   "execution_count": null,
   "metadata": {
    "collapsed": true
   },
   "outputs": [],
   "source": [
    "#Type your code here:"
   ]
  },
  {
   "cell_type": "markdown",
   "metadata": {},
   "source": [
    "<div class=warn>\n",
    "__See if you get what you expected (or explain how you would fix the code if not).__\n",
    "\n",
    "*Hint:* See Newman 2.2.4 if you need help.\n",
    "<div/>\n",
    "\n",
    "Answer here"
   ]
  },
  {
   "cell_type": "markdown",
   "metadata": {},
   "source": [
    "__This should make you appreciate a little more why programming books\n",
    "usually devote at least a full section to the rules of evaluation for\n",
    "arithmetic expressions!__"
   ]
  },
  {
   "cell_type": "markdown",
   "metadata": {},
   "source": [
    "<div class=warn>\n",
    "__ Discuss with your partner in what context you've encountered $\\hbar$.  If you were to explain to your friend, an English major, what it means and why it is important, what would you say?__\n",
    "\n",
    "<div/>\n",
    "\n",
    "Answer here"
   ]
  },
  {
   "cell_type": "markdown",
   "metadata": {},
   "source": [
    "## Approximately Wednesday Jan 31, 2018 <a id='Wednesday'></a>\n",
    "\n",
    "#### Instructions \n",
    "1.  Remember to switch roles between exercises.  This is important today to save your work often, since we'll be practicing solving physics problems.  \n",
    "2.  Grab a whiteboard and mock up some pseudo code for each of these problems first!!! \n",
    "3.  Add code and Markdown cells to this document as needed.  Practice documenting your work with comments / Markdown cells.  i.e. Once you've worked out an exercise by hand, include a typed solution to your equations in your python code comments or a Markdown cell (which can be nicely formatted, but don't worry about that yet).\n",
    "\n",
    "We will be talking about classical Newtonian gravitation today.  As a reminder, the force between two bodies with mass is: \n",
    "\n",
    "\\begin{equation}\n",
    "\\vec{F_g}  = -G \\frac{m_1 m_2}{{R_{12}}^2} \\hat{R} _{12}\n",
    "\\end{equation}\n",
    "\n",
    "You will need some astronomical data for these exercises.  I found this a useful reference: [link](http://www.aerospaceweb.org/question/astronomy/q0227.shtml)"
   ]
  },
  {
   "cell_type": "markdown",
   "metadata": {},
   "source": [
    "<div class=warn>\n",
    "To do Exercise 2.2, you will need to more facts from introductory, classical physics.  \n",
    "__ 1.  What is the formula describing centripetal acceleration (and how do you apply it in Newton's Second Law?)__ \n",
    "\n",
    "Answer here\n",
    "\n",
    "__ 2.  How do we define a period of centripetal motion?__ \n",
    "\n",
    "Answer here\n",
    "\n",
    "<div/>"
   ]
  },
  {
   "cell_type": "markdown",
   "metadata": {},
   "source": [
    "### Exercise 6: More falling objects\n",
    "#### Physics Practice w/ Variables, Arithmetic, and Order of Operations.\n",
    "\n",
    "1.  Please work out Newman Exercise 2.1 on page 30.  \n",
    "2.  Modify your code so it included the possibility that you can drop objects on other planets and moons.  \n",
    "    * Calculate how long it would take to drop the same ball on the Moon?  Mars?\n",
    "    * Go back and grab your code for Example 2.1 (or reproduce it).  Use it to predict the drop height of the Apollo 11 feather-hammer drop.  You will need to estimate the drop time from the video [link](https://youtu.be/c_zzK4o7eIs).  Is your result reasonable?  \n",
    "    \n",
    "Add cells as needed.\n"
   ]
  },
  {
   "cell_type": "markdown",
   "metadata": {},
   "source": [
    "### Exercise 7: Orbiting (free-falling objects) - REMEMBER TO SWITCH ROLES!!!\n",
    "#### Physics Practice w/ Variables, Arithmetic, and Order of Operations.\n",
    "\n",
    "Please work out Newman Exercise 2.2 on page 30.  Show all work.  Again, add cells as needed.\n",
    " "
   ]
  },
  {
   "cell_type": "markdown",
   "metadata": {},
   "source": [
    "### Exercise 8: Intro to Pre-defined Packages, Functions, and Modules\n",
    "\n",
    "A function in python is a lot like a function in math. You've already print(), input(), type(), float(), etc ... Functions have inputs, and generate (or `return`) outputs.  They are incredibly useful, and we will start defining our own soon.  For now, we will practice using built-in functions \n",
    "\n",
    "We're really on a space kick today aren't we?  Just for fun, try this. \n",
    "```python\n",
    "import antigravity\n",
    "```"
   ]
  },
  {
   "cell_type": "markdown",
   "metadata": {},
   "source": [
    "<div class=warn>\n",
    "__In python vocabulary, what is \"antigravity,\" module or a function?__\n",
    "\n",
    "<div/>\n",
    "\n",
    "Answer here"
   ]
  },
  {
   "cell_type": "markdown",
   "metadata": {},
   "source": [
    "#### An aside on syntax...\n",
    "As you read, you will notice that Newman and I use ```import``` a bit differently.  __Both ways are perfectly\n",
    "reasonable and common in Python usage, but I suggest you don't mix the two ways within a single project, or you will confuse yourself. __\n",
    "\n",
    "Newman would say\n",
    "```python\n",
    "from math import exp\n",
    "y = exp(x)\n",
    "```\n",
    "This means the only function we can use from the ```math``` module is ```exp```, but we can refer to it just by its name, without saying which module it comes from.  Instead, I would say\n",
    "```python\n",
    "import math\n",
    "y = math.exp(x)\n",
    "```\n",
    "This means we can use *any* function from ```math```, without\n",
    "further ado, but we always must specify that we are talking about the\n",
    "```exp``` function found in the  ```math``` module.\n",
    "You can see footnotes 15 and 16 on Newman page 33 for discussion which\n",
    "touches on this.  My bias comes from my experiences\n",
    "maintaining larger projects, both in Python and in C, where a similar\n",
    "issue arises."
   ]
  },
  {
   "cell_type": "markdown",
   "metadata": {},
   "source": [
    "__Please work out Newman Exercise 2.4 on page 32.  Again, use a whiteboard, then show your work here in the notebook, add cells as needed.__"
   ]
  },
  {
   "cell_type": "markdown",
   "metadata": {},
   "source": [
    "### Exercise 9: Intro to Control structures\n",
    "\n",
    "Controlling the flow of a program is arguably the most important aspect of computer programming, and what makes programs so good at solving repetative problems. If you face a problem where the solution involves doing the same operation many times or on many objects, then a computer program is a great way to solve your problem. Python has three major control structures: _If_, _While_, and _For_.  We are going to explore first logical instructions, which are the manner in which we  \"control\" these structures.\n",
    "\n",
    "#### Logical expressions\n",
    "\n",
    "All the arithmetic expressions we have seen so far combined *numbers* to get a new *number*.  We will have just as much need for expressions which result in a *logical* value, ```False``` or ```True```.   Logical expressions are needed whenever we have to make a decision which controls the \"flow'' of the program, *e.g.*, in an ```if``` or a ```while.``` There are two types of operators which return logical values: *comparison* operators (which test for the relation between numbers) and *logical operators*  from Boolean algebra. Let see how these operators work by taking the examples from Newman page 41, and understanding what they mean as *expressions*.\n",
    "\n",
    "Using a whiteboard, write down what you expect to see in each case.  Do this for $x=1$, then for $x=12$.  Then then try it out in Python.  See if you get what you expected (or explain if not).\n",
    "\n",
    "```python\n",
    "x=1  # later, change this to 12 and run it again\n",
    "print(x==1)\n",
    "print(x>1)\n",
    "print(x>=1)\n",
    "print(x<1)\n",
    "print(x<=1)\n",
    "print(x!=1)\n",
    "print( (x>=1) and (x<=10) )\n",
    "print( not ((x<1) or (x>10)) )\n",
    "```"
   ]
  },
  {
   "cell_type": "code",
   "execution_count": null,
   "metadata": {
    "collapsed": true
   },
   "outputs": [],
   "source": [
    "#Type your code for x=1 here:"
   ]
  },
  {
   "cell_type": "markdown",
   "metadata": {},
   "source": [
    "<div class=warn>\n",
    "__Did you get what you expected for $x=1$?__\n",
    "\n",
    "<div/>\n",
    "\n",
    "Answer here"
   ]
  },
  {
   "cell_type": "code",
   "execution_count": null,
   "metadata": {
    "collapsed": true
   },
   "outputs": [],
   "source": [
    "#Repeat the exercise for x=12 here"
   ]
  },
  {
   "cell_type": "markdown",
   "metadata": {},
   "source": [
    "<div class=warn>\n",
    "__Did you get what you expected for $x=12$?__\n",
    "\n",
    "<div/>\n",
    "\n",
    "Answer here"
   ]
  },
  {
   "cell_type": "markdown",
   "metadata": {},
   "source": [
    "Logical values can be saved in a variable just as, say, an integer or\n",
    "real can be. This can be very handy when we need to keep track of a\n",
    "``yes or no'' answer.  Make a variable trace table of the following.\n",
    "Do this for $x=1$, then for $x=12$.  Then try it out in Python.  See\n",
    "if you get what you expected (or explain if not).\n",
    "\n",
    "```python \n",
    "x = 1 # later, change this to 12 and run it again\n",
    "above_min = (x>=1)\n",
    "below_max = (x<=10)\n",
    "in_range = (above_min and below_max)\n",
    "print (in_range)\n",
    "```\n",
    "\n"
   ]
  },
  {
   "cell_type": "code",
   "execution_count": null,
   "metadata": {
    "collapsed": true
   },
   "outputs": [],
   "source": [
    "#Type your code for x=1 here:"
   ]
  },
  {
   "cell_type": "markdown",
   "metadata": {},
   "source": [
    "<div class=warn>\n",
    "__Did you get what you expected for $x=1$?__\n",
    "\n",
    "<div/>\n",
    "\n",
    "Answer here"
   ]
  },
  {
   "cell_type": "code",
   "execution_count": null,
   "metadata": {
    "collapsed": true
   },
   "outputs": [],
   "source": [
    "#Repeat the exercise for x=12 here"
   ]
  },
  {
   "cell_type": "markdown",
   "metadata": {},
   "source": [
    "<div class=warn>\n",
    "__Did you get what you expected for $x=12$?__\n",
    "\n",
    "<div/>\n",
    "\n",
    "Answer here"
   ]
  },
  {
   "cell_type": "markdown",
   "metadata": {},
   "source": [
    "### Exercise 10: Tracing through a while() loop\n",
    "\n",
    "Let us see how we would numerically evaluate a sum, say,\n",
    "\\begin{equation}\n",
    "\\sum_{n=1}^5n^2.\n",
    "\\end{equation}\n",
    "This is a simple\n",
    "example where we need a ``loop'', *i.e.*, we have to circle\n",
    "through the same code, executing it over and over.  \n",
    "\n",
    "```python\n",
    "sum = 0\n",
    "n = 1\n",
    "while (n <= 5):\n",
    "    sum = sum + n * n\n",
    "    n = n + 1\n",
    "print (\"sum =\",sum)\n",
    "```\n",
    "\n",
    "A ```while``` loop checks a logical expression (the *condition*).  If the condition evaluates to ```True```, the indented code (the ```body``` of the loop) is evaluated.  Then the condition is tested again, and so on, until finally someday the condition evaluates to ```False```.\n",
    "\n",
    "Do a variable trace of the code shown above, then try it out in Python.  "
   ]
  },
  {
   "cell_type": "markdown",
   "metadata": {},
   "source": [
    "<div class=warn>\n",
    "__Do your variable trace table here.__\n",
    "\n",
    "<div/>\n",
    "\n",
    "Answer here"
   ]
  },
  {
   "cell_type": "code",
   "execution_count": null,
   "metadata": {
    "collapsed": true
   },
   "outputs": [],
   "source": [
    "#try your code here"
   ]
  },
  {
   "cell_type": "markdown",
   "metadata": {},
   "source": [
    "<div class=warn>\n",
    "__Did you get what you expected?__\n",
    "\n",
    "<div/>\n",
    "\n",
    "Answer here\n",
    "\n",
    "__What would happen if instead you defined n=10 in the code above.  Explain.__\n",
    "\n",
    "Answer here\n",
    "\n",
    "*Notice the usual invitation to try it is NOT below... *"
   ]
  },
  {
   "cell_type": "markdown",
   "metadata": {},
   "source": [
    "__Variation:__ Expressions like the ones above are so common that many of the more recent languages, including Python, have shorthand operators which combine arithmetic and assignment.  How would you rewrite the two expressions inside the loop using\n",
    "the ```+=``` operator?  (*Hint:* See Newman page 27 for the syntax.)  \n",
    "\n",
    "__Comment:__ The purpose of these operators is not just to save typing. It is to make the code more readable, by better matching the\n",
    "conceptual meaning of the statement.  Aren't we really thinking \"take $n$ and add $1$ to it'', not \"find the sum of $n$ and $1$ and use the\n",
    "result as the new value of $n$''?} \n",
    "\n"
   ]
  },
  {
   "cell_type": "code",
   "execution_count": null,
   "metadata": {
    "collapsed": true
   },
   "outputs": [],
   "source": [
    "#try your code here"
   ]
  },
  {
   "cell_type": "markdown",
   "metadata": {},
   "source": [
    "## Approximately Thursday, Feb 1, 2018 <a id='Thursday'></a>\n",
    "\n",
    "The lab exercises are on Runestone.  If you want to try anything out, you are welcome to add cells below to do so.  The turtle() does not play nice with a Jupyter notebook - don't run it here, it will crash your kernel.  If you finish very early, please work on your HW due tomorrow, or do the [Markdown tutorial](https://www.markdowntutorial.com)\n"
   ]
  },
  {
   "cell_type": "markdown",
   "metadata": {},
   "source": [
    "## Approximately Friday, Feb 2, 2018 <a id='Friday'></a> - \n",
    "### Expect a revision of this section.  However, these are some worthy exercises that will probably remain\n",
    "\n",
    "Mainly we will practice the concepts we have already learned this week, adding on in places.  As far as new concepts, we will have exercises on:\n",
    "* Lists/Arrays/Slicing\n",
    "* Good programming style"
   ]
  },
  {
   "cell_type": "markdown",
   "metadata": {},
   "source": [
    "### Exercise 11: Intro to Sequence types\n",
    "Study the code below.  Do a variable trace table of the code outputs.\n",
    "```python\n",
    "\n",
    "import numpy as np\n",
    "\n",
    "mystring = \"12345\"\n",
    "print(mystring[3])\n",
    "\n",
    "mylist = [1,2,3,4,5]\n",
    "print(mylist[3])\n",
    "\n",
    "myarray = np.array([1,2,3,4,5])\n",
    "print(myarray[3])\n",
    "```"
   ]
  },
  {
   "cell_type": "markdown",
   "metadata": {},
   "source": [
    "<div class=warn>\n",
    "__Do your variable trace table here.__\n",
    "\n",
    "<div/>\n",
    "\n",
    "Answer here"
   ]
  },
  {
   "cell_type": "code",
   "execution_count": null,
   "metadata": {
    "collapsed": true
   },
   "outputs": [],
   "source": [
    "#try your code here"
   ]
  },
  {
   "cell_type": "markdown",
   "metadata": {},
   "source": [
    "<div class=warn>\n",
    "__Did you get what you expected?__\n",
    "\n",
    "<div/>\n",
    "\n",
    "Answer here"
   ]
  },
  {
   "cell_type": "markdown",
   "metadata": {},
   "source": [
    "### Exercise 12: Lists + If Statements\n",
    "There is a handy kind of _if_ that lets you test items in a list:"
   ]
  },
  {
   "cell_type": "code",
   "execution_count": null,
   "metadata": {
    "collapsed": true
   },
   "outputs": [],
   "source": [
    "name = 'Dannie'\n",
    "cast = ['Johan', 'Eric', 'Adrian', 'Asela', 'Dannie', 'JD','William']\n",
    "if name in cast:\n",
    "    print(\"yes,\", name, \"is here\")"
   ]
  },
  {
   "cell_type": "markdown",
   "metadata": {},
   "source": [
    "Write a single cell code that tells you whether 0 is part of the following list:\n",
    "```mylist = [3,4,5,6]```"
   ]
  },
  {
   "cell_type": "code",
   "execution_count": null,
   "metadata": {
    "collapsed": true
   },
   "outputs": [],
   "source": [
    "#Try your code here"
   ]
  },
  {
   "cell_type": "markdown",
   "metadata": {},
   "source": [
    "### Exercise 12: Caution on the While Loop\n",
    "\n",
    "The _while_ loop is occasionally useful, but can be hard to get right. These rules will help, courtesy of <a href=\"http://learnpythonthehardway.org/book/ex33.html\">Learn Python the Hard Way</a>:\n",
    "1. Make sure that you use while-loops sparingly. Usually a for-loop is better.\n",
    "2. Review your while statements and make sure that the boolean test will become False at some point.\n",
    "3. When in doubt, print out your test variable at the top and bottom of the while-loop to see what it's doing.\n",
    "\n",
    "An example of this last trick is shown here in a simple while loop that adds a value to a list each time through. Notice the `.append` method that adds items to the list."
   ]
  },
  {
   "cell_type": "code",
   "execution_count": null,
   "metadata": {
    "collapsed": true
   },
   "outputs": [],
   "source": [
    "i = 0\n",
    "numbers = []\n",
    "\n",
    "while i < 6:\n",
    "    print(\"At the top i is {}\".format(i))\n",
    "    numbers.append(i)\n",
    "\n",
    "    i = i + 1\n",
    "    print(\"Numbers now: \", numbers)\n",
    "    print(\"At the bottom i is {}\".format(i))\n",
    "\n",
    "\n",
    "print(\"The numbers after loop: \",numbers)"
   ]
  },
  {
   "cell_type": "markdown",
   "metadata": {},
   "source": [
    "\n",
    "### Run the python cell below in order to see the colored cells.  Click on the cell and type SHIFT-ENTER.  \n",
    "This works on a Mac and linux, but not on Windows.  I suspect it is a path name problem.\n",
    "<a id='last_cell'></a>\n",
    "\n",
    "[link to return home](#home)"
   ]
  },
  {
   "cell_type": "code",
   "execution_count": 3,
   "metadata": {},
   "outputs": [
    {
     "data": {
      "text/html": [
       "<style>\n",
       "div.warn {\n",
       "    background-color: #fcf2f2;\n",
       "    border-color: #dFb5b4;\n",
       "    border-left: 5px solid #dfb5b4;\n",
       "    padding: 0.5em;\n",
       "    }\n",
       " </style>\n"
      ],
      "text/plain": [
       "<IPython.core.display.HTML object>"
      ]
     },
     "execution_count": 3,
     "metadata": {},
     "output_type": "execute_result"
    }
   ],
   "source": [
    "#For colored cells from \n",
    "#https://stackoverflow.com/questions/18024769/adding-custom-styled-paragraphs-in-markdown-cells\n",
    "from IPython.core.display import HTML\n",
    "def css_styling():\n",
    "    styles = open(\"/Users/mcde2235/Box Sync/Coursework/PHY325/Spring2018/Weekly-Sessions/style.css\", \"r\").read()\n",
    "    return HTML(styles)\n",
    "css_styling()"
   ]
  },
  {
   "cell_type": "code",
   "execution_count": 4,
   "metadata": {},
   "outputs": [
    {
     "data": {
      "text/plain": [
       "'/Users/mcde2235/Box Sync/Coursework/PHY325/Spring2018/Weekly-Sessions'"
      ]
     },
     "execution_count": 4,
     "metadata": {},
     "output_type": "execute_result"
    }
   ],
   "source": [
    "%pwd  #run this cell to \"print working directory\" or pwd"
   ]
  },
  {
   "cell_type": "markdown",
   "metadata": {},
   "source": [
    "<div class=warn>\n",
    "<font color='green'>*This should be pink with green font if you got the cell above working* </font>\n",
    "<div/>"
   ]
  },
  {
   "cell_type": "code",
   "execution_count": null,
   "metadata": {
    "collapsed": true
   },
   "outputs": [],
   "source": []
  }
 ],
 "metadata": {
  "celltoolbar": "Raw Cell Format",
  "kernelspec": {
   "display_name": "Python 3",
   "language": "python",
   "name": "python3"
  },
  "language_info": {
   "codemirror_mode": {
    "name": "ipython",
    "version": 3
   },
   "file_extension": ".py",
   "mimetype": "text/x-python",
   "name": "python",
   "nbconvert_exporter": "python",
   "pygments_lexer": "ipython3",
   "version": "3.4.5"
  }
 },
 "nbformat": 4,
 "nbformat_minor": 1
}
