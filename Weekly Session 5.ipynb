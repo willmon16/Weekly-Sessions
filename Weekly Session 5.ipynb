{
 "cells": [
  {
   "cell_type": "markdown",
   "metadata": {},
   "source": [
    "## Goal\n",
    "To develop further capability with numerical methods for integration.\n",
    "\n",
    "We will also have a brief introduction to the idea of numerical\n",
    "approximation of derivatives, as preparation for thinking about\n",
    "ordinary and partial differential equations.\n",
    "\n",
    "## Readings\n",
    "Let us list all the sections we are covering in Newman Chapter 5 **Integrals and derivatives**, including those we read last week:\n",
    "\n",
    "    5.1 Fundamental methods for evaluating integrals\n",
    "\n",
    "    5.2 Errors on integrals\n",
    "\n",
    "    5.3 Choosing the number of steps\n",
    "\n",
    "    5.4 Romberg integration*\n",
    "\n",
    "    5.5 Higher-order integration methods\n",
    "\n",
    "    5.7 Choosing an integration method\n",
    "\n",
    "    5.8 Integrals over infinite ranges*\n",
    "\n",
    "    5.10 Derivatives* -- Just read subsections 5.10.1-5.10.3 for the basics.\n",
    "\n",
    "\\* New reading this week.\n"
   ]
  },
  {
   "cell_type": "code",
   "execution_count": 2,
   "metadata": {
    "collapsed": false
   },
   "outputs": [
    {
     "data": {
      "text/html": [
       "<style>\n",
       "div.warn {\n",
       "    background-color: black;\n",
       "    border-color: #dFb5b4;\n",
       "    border-left: 5px solid #dfb5b4;\n",
       "    padding: 0.5em\n",
       "    color: white;\n",
       "    }\n",
       " </style>\n",
       "\n",
       " <style>\n",
       " div.answer {\n",
       "     background-color: lightblue;\n",
       "     border-color: #dFb5b4;\n",
       "     border-left: 5px solid #dfb5b4;\n",
       "     padding: 0.5em\n",
       "     }\n",
       "  </style>\n"
      ],
      "text/plain": [
       "<IPython.core.display.HTML object>"
      ]
     },
     "execution_count": 2,
     "metadata": {},
     "output_type": "execute_result"
    }
   ],
   "source": [
    "#For colored cells, currently blue cells, black text \n",
    "#https://stackoverflow.com/questions/18024769/adding-custom-styled-paragraphs-in-markdown-cells\n",
    "from IPython.core.display import HTML\n",
    "def css_styling():\n",
    "    styles = open(\"style.css\", \"r\").read()\n",
    "    return HTML(styles)\n",
    "css_styling()"
   ]
  },
  {
   "cell_type": "markdown",
   "metadata": {},
   "source": [
    "<div class=answer>\n",
    "*This should be a blue cell with black font if you set the filepath correctly*</font>\n",
    "<div/>"
   ]
  },
  {
   "cell_type": "markdown",
   "metadata": {},
   "source": [
    "## Overview\n",
    "\n",
    "There are two aspects to this week's investigations:\n",
    "\n",
    "1.  The first is more technically oriented - we will reorient our thinking towards calculating results to a  given *tolerance*, rather than with a fixed number of steps.  We will then explore the idea of extrapolating to a more accurate answer - Romberg integration is an example of the more general approach of Richardson extrapolation, which is also applied in other contexts (in particular, solution of differential equations).\n",
    "\n",
    "2. The second aspect is oriented towards developing savvy in the use of numerical integration.  We will develop a feel for some of the less well-behaved types of integrals which one encounters in practice, and see ways of handling integrals over infinite ranges."
   ]
  },
  {
   "cell_type": "markdown",
   "metadata": {},
   "source": [
    "This week you may use your own integration technique, or ```integrate.py``` to do this.  See some directions below the answer box for importing ```integrate.py```.  To use it, look at your work from last week, or call ```help(integrate)```.  To import the module, either you need a local copy of ```integrate.py``` in which case you can run:  "
   ]
  },
  {
   "cell_type": "code",
   "execution_count": 3,
   "metadata": {
    "collapsed": false
   },
   "outputs": [
    {
     "name": "stdout",
     "output_type": "stream",
     "text": [
      "0.6321258264911017\n",
      "0.6321206115052712\n",
      "0.6321205588636751\n"
     ]
    }
   ],
   "source": [
    "import integrate\n",
    "import math\n",
    "\n",
    "# benchmark function - as last week\n",
    "def f_decay(x):\n",
    "    return math.exp(-x)\n",
    "int_decay = 1 - 1/math.e\n",
    "\n",
    "# sample quick checks\n",
    "print(integrate.integrate(f_decay,(0,1),100)[0])           #trapezoid, 100 steps\n",
    "print(integrate.integrate(f_decay,(0,1),1000)[0])          #trapezoid, 1000 steps\n",
    "print(integrate.integrate(f_decay,(0,1),100,order=2)[0])   #simpsons, 100 steps"
   ]
  },
  {
   "cell_type": "markdown",
   "metadata": {},
   "source": [
    "Or alternatively you can use the ```sys``` module (short for system) to update the filepaths that python will look for modules in.  The code for that is:  "
   ]
  },
  {
   "cell_type": "code",
   "execution_count": 4,
   "metadata": {
    "collapsed": false
   },
   "outputs": [],
   "source": [
    "#import sys\n",
    "#sys.path.append(\"/c/Users/workshop/Documents/GitHub/Labs/Lab4\")\n",
    "#import integrate \n"
   ]
  },
  {
   "cell_type": "markdown",
   "metadata": {},
   "source": [
    "**FYI: if you modify your module, you will need to restart the kernel to use the modified codes.  There are some alternative methods, but nothing elegant\n",
    "[source](https://support.enthought.com/hc/en-us/articles/204469240-Jupyter-IPython-After-editing-a-module-changes-are-not-effective-without-kernel-restart).**"
   ]
  },
  {
   "cell_type": "markdown",
   "metadata": {},
   "source": [
    "## Exercise 1: \n",
    "\n",
    "In Section 5.2.1, Newman describes the practical method for estimating the error in a trapezoidal rule or Simpson's rule calculation.  Try these error estimates out for the trapezoidal rule on our benchmark integral, with $20$ steps\n",
    "and $200$ steps.  __How close are the estimates to the actual errors?__  What about the sign (this will matter when we get to Romberg integration)? Repeat for Simpson's rule."
   ]
  },
  {
   "cell_type": "code",
   "execution_count": 5,
   "metadata": {
    "collapsed": false
   },
   "outputs": [
    {
     "name": "stdout",
     "output_type": "stream",
     "text": [
      "The error for N = [20,200] for the Trapezoidal rule is  [-0.00013168629625837092, -1.316917282445651e-06]\n",
      "The error for N = [20,200] for the Simpsons's rule is  [-2.1942099914795676e-08, -2.1946888750790094e-12]\n"
     ]
    }
   ],
   "source": [
    "import integrate \n",
    "import math\n",
    "t = 1\n",
    "actual = 1-math.exp(-1)\n",
    "N = [20,200]\n",
    "err01 = []\n",
    "err02 = []\n",
    "\n",
    "def func(x):\n",
    "    y = math.exp(-(x))\n",
    "    return y\n",
    "\n",
    "# Integrate for each N in list above using trapezoid rule and add the error to the list err01\n",
    "for i in range(len(N)):\n",
    "    I = integrate.integrate(func,(0,t),N[i],order = 1,float_type= float)[0]\n",
    "    Error = (actual - I)\n",
    "    err01.append(Error)\n",
    "    \n",
    "# Integrate for each N in list above using Simpsons rule and add the error to the list err02 \n",
    "for j in range(len(N)):\n",
    "    I = integrate.integrate(func,(0,t),N[j],order = 2,float_type= float)[0]\n",
    "    Error = (actual - I)\n",
    "    err02.append(Error)\n",
    "    \n",
    "print(\"The error for N = [20,200] for the Trapezoidal rule is \",err01)\n",
    "print(\"The error for N = [20,200] for the Simpsons's rule is \",err02)"
   ]
  },
  {
   "cell_type": "markdown",
   "metadata": {},
   "source": [
    "<div class=answer>\n",
    "<div/>\n",
    "Above is the difference for the four cases and in each case the numerically solved is larger, as shown by the negative sign."
   ]
  },
  {
   "cell_type": "markdown",
   "metadata": {},
   "source": [
    "## Exercise 2\n",
    "### Trapezoidal rule with tolerance goal (Newman's Adaptive Method)\n",
    "\n",
    "In practice, integration with a fixed  number of *steps* is not useful for automated use.  If your code must calculate millions of integrals (or even just hundreds of integrals), and you need a certain accuracy, it is simply impractical for you to intervene and hand-pick the number of steps for each integral.  You could just choose a \"really big'' number of steps for all integrals, even when they are not needed, but this will make your code impractically slow (perhaps factors of hundreds slower than it needs to be).\n",
    "\n",
    "Following the approach outlined in Newman Section 5.3, let us write a function which uses the trapezoidal rule to calculate with $1$, $2$, $4$, $8$, $\\ldots$ steps (*i.e.*, $~2^i$ steps), until the error estimate falls below a specified tolerance.  \n",
    "\n",
    "As Newman points out, we do not need to calculate all the points from scratch in each successive iteration.  Your\n",
    "function should follow's Newman's approach, *i.e.*, \"reusing'' the value of the previous integral to avoid evaluating the integrand $f$ at the same point more than once.\n",
    "\n",
    "In fact, let us see how how much of an improvement this gives. Suppose we ultimately need, say, $2^{5}$ steps.  How many times would we have to evaluate $f$ if we evaluated the integral from scratch with each iteration ($1$, $2$, $4$, $8$, $\\ldots$ steps)?  How many times would we have to evaluate $f$ if we reused the prior integrals, instead?"
   ]
  },
  {
   "cell_type": "markdown",
   "metadata": {},
   "source": [
    "<div class=answer>\n",
    "<div/>\n",
    "If you start from scratch every time it will take 63 times to evaluate the integral, but if we reused each integral we would only need to run it 6 times."
   ]
  },
  {
   "cell_type": "markdown",
   "metadata": {},
   "source": [
    "Also, it will help if your function can produce verbose output, showing the integral and error estimate at each stage, and the residual relative to a known true value (you can peek at ```romberg.py``` for ideas on how to do this).\n",
    "\n",
    "You can name your function ```integrate_adaptive```, and either embed it in this notebook in a code cell (as usual) or add it to the ```integrate.py``` which I gave you last week.   "
   ]
  },
  {
   "cell_type": "code",
   "execution_count": 75,
   "metadata": {
    "collapsed": false
   },
   "outputs": [],
   "source": [
    "def integrate_adaptive(f,interval,tolerance,\n",
    "            verbose=False,min_order=0,max_order=None,reference=None):\n",
    "    \n",
    "    \"\"\" Evaluate integral by Trapezoidal Rule with Tolerance.\n",
    "\n",
    "    f: function to integrate\n",
    "    interval: tuple integration region (a,b)\n",
    "    tolerance: desired absolute error\n",
    "    verbose (optional):  controls diagnostic output\n",
    "    min_order (optional): lowest order to carry to, regardless of tolerance\n",
    "    max_order (optional): limit on order of calculation, giving failure (or None)\n",
    "    reference (optional): reference value for comparison output (or None)\n",
    "    \"\"\"\n",
    "    \n",
    "     # set up integral interval\n",
    "    (a,b) = interval  # endpoints\n",
    "\n",
    "    # give initial diagnostic output\n",
    "    if (verbose):\n",
    "        print(\"integrating on range {0}\".format(interval))\n",
    "        if (reference != None):\n",
    "            print(\"  reference value {:+.5e}\".format(reference))\n",
    "        print()\n",
    "        \n",
    "    # (1) Set up base case -- i=0, i.e., single-step trapezoidal rule\n",
    "    # (2) Step size where exponent for number of steps can be changed as desired\n",
    "    # (3) Basic trapezoidal estimate\n",
    "    i = 0                         \n",
    "    h = (b-a)/(2**i)               \n",
    "    I0 = (1/2)*(b-a)*(f(a)+f(b))\n",
    "    \n",
    "    # make up error estimate to get past while condition\n",
    "    eik = 2 * tolerance                                \n",
    "    \n",
    "    # Run a while loop that loops if the i is less than the minimum order input by the user\n",
    "    # or until the the absolute value of the error is less than or equal to the tolerance\n",
    "    # (1) Advance parameters to next step size \n",
    "    # (2) set the new first part of the integral equation equal to 0.5 the integral of the previous loop\n",
    "    #     then reset the temporary integral to 0 to be used again\n",
    "    # (3) Run a for loop that makes k go from 0 to 2 to the i power iterating odd values that calls the \n",
    "    #     function and creates a sum that is held in I_temp\n",
    "    # (4) Add the sum of the heights multiplied by the width  to the past integral\n",
    "    # (5) Calculate the  error to be tested\n",
    "    # (6) Set the new integral to be the i-1 integral for the past loop\n",
    "    while ((i < min_order) or (abs(eik) > tolerance)): \n",
    "                \n",
    "        i += 1\n",
    "        h /= 2\n",
    "        \n",
    "        I = 0.5*I0\n",
    "        I_temp = 0\n",
    "        \n",
    "        for k in range(1,(2**i),2):\n",
    "            I_temp += f(a + k*h)\n",
    "            \n",
    "        I += I_temp*h\n",
    "        \n",
    "        eik = (I - I0)/3\n",
    "        \n",
    "        I0 = I\n",
    "        \n",
    "        \n",
    "        if (verbose):\n",
    "            print(\"Error = \",eik)\n",
    "            print(\"I = \",I0)\n",
    "            print(\"N = \",2**i)\n",
    "            print(\"Iteration = \",i)\n",
    "            print()\n",
    "       \n",
    "\n",
    "    return I0\n",
    "        \n",
    "            \n",
    "    "
   ]
  },
  {
   "cell_type": "markdown",
   "metadata": {},
   "source": [
    "Test your new function out on the same benchmark integral\n",
    "$$\n",
    "\\int_0^1 e^{-x}\\,dx\n",
    "$$\n",
    "as last week, and see how many iterations $i$ (and thus steps $2^i$) are\n",
    "required to achieve a tolerance of $10^{-10}$."
   ]
  },
  {
   "cell_type": "code",
   "execution_count": 44,
   "metadata": {
    "collapsed": false
   },
   "outputs": [
    {
     "name": "stdout",
     "output_type": "stream",
     "text": [
      "integrating on range (0, 1)\n",
      "  reference value +6.32121e-01\n",
      "\n",
      "Error =  -0.012901510145514624\n",
      "I =  0.6452351901491773\n",
      "N =  2\n",
      "Iteration =  1\n",
      "\n",
      "Error =  -0.0032752537071612706\n",
      "I =  0.6354094290276935\n",
      "N =  4\n",
      "Iteration =  2\n",
      "\n",
      "Error =  -0.0008220036057378088\n",
      "I =  0.6329434182104801\n",
      "N =  8\n",
      "Iteration =  3\n",
      "\n",
      "Error =  -0.00020570145532683437\n",
      "I =  0.6323263138444996\n",
      "N =  16\n",
      "Iteration =  4\n",
      "\n",
      "Error =  -5.143791680902362e-05\n",
      "I =  0.6321720000940725\n",
      "N =  32\n",
      "Iteration =  5\n",
      "\n",
      "Error =  -1.2860264050636635e-05\n",
      "I =  0.6321334193019206\n",
      "N =  64\n",
      "Iteration =  6\n",
      "\n",
      "Error =  -3.215115070139459e-06\n",
      "I =  0.6321237739567102\n",
      "N =  128\n",
      "Iteration =  7\n",
      "\n",
      "Error =  -8.037818336840511e-07\n",
      "I =  0.6321213626112091\n",
      "N =  256\n",
      "Iteration =  8\n",
      "\n",
      "Error =  -2.0094564993448452e-07\n",
      "I =  0.6321207597742593\n",
      "N =  512\n",
      "Iteration =  9\n",
      "\n",
      "Error =  -5.023642457580024e-08\n",
      "I =  0.6321206090649856\n",
      "N =  1024\n",
      "Iteration =  10\n",
      "\n",
      "Error =  -1.2559106828587593e-08\n",
      "I =  0.6321205713876651\n",
      "N =  2048\n",
      "Iteration =  11\n",
      "\n",
      "Error =  -3.1397771419842493e-09\n",
      "I =  0.6321205619683337\n",
      "N =  4096\n",
      "Iteration =  12\n",
      "\n",
      "Error =  -7.849442947479209e-10\n",
      "I =  0.6321205596135008\n",
      "N =  8192\n",
      "Iteration =  13\n",
      "\n",
      "Error =  -1.9623591640538507e-10\n",
      "I =  0.632120559024793\n",
      "N =  16384\n",
      "Iteration =  14\n",
      "\n",
      "Error =  -4.905901610878042e-11\n",
      "I =  0.632120558877616\n",
      "N =  32768\n",
      "Iteration =  15\n",
      "\n"
     ]
    },
    {
     "data": {
      "text/plain": [
       "0.632120558877616"
      ]
     },
     "execution_count": 44,
     "metadata": {},
     "output_type": "execute_result"
    }
   ],
   "source": [
    "integrate_adaptive(func,(0,1),1e-10,verbose=True,reference = actual)\n"
   ]
  },
  {
   "cell_type": "code",
   "execution_count": 17,
   "metadata": {
    "collapsed": false
   },
   "outputs": [
    {
     "name": "stdout",
     "output_type": "stream",
     "text": [
      "0.6321205588285577\n"
     ]
    }
   ],
   "source": [
    "print(actual)"
   ]
  },
  {
   "cell_type": "markdown",
   "metadata": {
    "collapsed": true
   },
   "source": [
    "<div class=answer>\n",
    "<div/>\n",
    "It takes 15 iterations to get to an accuracy of 1e-10."
   ]
  },
  {
   "cell_type": "markdown",
   "metadata": {},
   "source": [
    "## Exercise 3\n",
    "### Romberg integration\n",
    "\n",
    "In the interest of time, I have gone ahead and provided you with code for Romberg integration in ```romberg.py```.  It is basically just a straightforward extension of what you just coded for the trapezoidal rule.  (That is, as with most code, it is straightforward in *retrospect*, once it is written...)\n",
    "\n",
    "First, try the function ```romberg.romberg``` on our benchmark integral.  Enable the verbose output (```verbose=True```), and provide the function with the true value (```reference=...```) so it can print the residual.  Let us try for a tolerance of $10^{-10}$ again."
   ]
  },
  {
   "cell_type": "code",
   "execution_count": 37,
   "metadata": {
    "collapsed": false
   },
   "outputs": [
    {
     "name": "stdout",
     "output_type": "stream",
     "text": [
      "integrating on range (0, 1)\n",
      "  reference value +6.32121e-01\n",
      "\n",
      "R(0,0) +6.839397205857212e-01 ... residual -5.1819e-02\n",
      "\n",
      "R(1,0) +6.452351901491773e-01 epsilon(1,0) -1.2902e-02 ... residual -1.3115e-02\n",
      "R(1,1) +6.323336800036626e-01 ... residual -2.1312e-04\n",
      "\n",
      "R(2,0) +6.354094290276936e-01 epsilon(2,0) -3.2753e-03 ... residual -3.2889e-03\n",
      "R(2,1) +6.321341753205323e-01 epsilon(2,1) -1.3300e-05 ... residual -1.3616e-05\n",
      "R(2,2) +6.321208750083236e-01 ... residual -3.1618e-07\n",
      "\n",
      "R(3,0) +6.329434182104802e-01 epsilon(3,0) -8.2200e-04 ... residual -8.2286e-04\n",
      "R(3,1) +6.321214146047424e-01 epsilon(3,1) -8.5071e-07 ... residual -8.5578e-07\n",
      "R(3,2) +6.321205638903564e-01 epsilon(3,2) -4.9384e-09 ... residual -5.0618e-09\n",
      "R(3,3) +6.321205589519759e-01 ... residual -1.2342e-10\n",
      "\n",
      "R(4,0) +6.323263138444998e-01 epsilon(4,0) -2.0570e-04 ... residual -2.0576e-04\n",
      "R(4,1) +6.321206123891729e-01 epsilon(4,1) -5.3481e-08 ... residual -5.3561e-08\n",
      "R(4,2) +6.321205589081349e-01 epsilon(4,2) -7.9083e-11 ... residual -7.9577e-11\n",
      "R(4,3) +6.321205588290520e-01 epsilon(4,3) -4.8205e-13 ... residual -4.9438e-13\n",
      "R(4,4) +6.321205588285700e-01 ... residual -1.2323e-14\n",
      "\n"
     ]
    }
   ],
   "source": [
    "import romberg\n",
    "\n",
    "I = romberg.romberg(func,(0,1),1e-10,verbose=True,reference = actual)"
   ]
  },
  {
   "cell_type": "markdown",
   "metadata": {},
   "source": [
    "How does the number of steps (and thus the number of points at which the integrand must be evaluated) compare to the number you needed before, with the trapezoidal rule?"
   ]
  },
  {
   "cell_type": "markdown",
   "metadata": {},
   "source": [
    "<div class=answer>\n",
    "<div/>\n",
    "It also took 5 iterations to get the value"
   ]
  },
  {
   "cell_type": "markdown",
   "metadata": {},
   "source": [
    "Here is an interesting observation, which I think might make Romberg extrapolation fit in better with what we have already seen.  We now seem to have two ways of going to higher order - the good old-fashioned way of using higher-order polynomials to go through the points (Newton-Cotes) or this new clever Romberg extrapolation way.\n",
    "You might have noticed that:\n",
    "1. the trapezoidal rule had an error of order $O(h^2)$, \n",
    "\n",
    "2. Simpson's rule  had an error of order $O(h^4)$, and now \n",
    "\n",
    "3. the first Romberg extrapolated value $R_{i,1}$ also has an error of order $O(h^4)$\n",
    "\n",
    "    **Caution:** I am following the $0$-based convention that $R_{i,0}$ is the trapezoidal rule value, $R_{i,1}$ is the first extrapolation, *etc.*  Note that Newman uses $1$-based numbering, starting with $R_{i,1}$ for the trapezoidal rule, *etc.*, instead.\n",
    "\n",
    "Might the first Romberg extrapolated value actually *be* Simpson'a rule???  Or does it just have an error which happens to be of the same order?  \n",
    "\n",
    "More concretely...  Go ahead and do Simpson's rule calculations with $2^i$ steps, and compare with the first extrapolated values in the Romberg method.  Are they the same or different?  "
   ]
  },
  {
   "cell_type": "code",
   "execution_count": 42,
   "metadata": {
    "collapsed": false
   },
   "outputs": [
    {
     "name": "stdout",
     "output_type": "stream",
     "text": [
      "[0.6323336800036626, 0.6321341753205323, 0.6321214146047422, 0.6321206123891728]\n",
      "\n",
      "integrating on range (0, 1)\n",
      "  reference value +6.32121e-01\n",
      "\n",
      "R(0,0) +6.839397205857212e-01 ... residual -5.1819e-02\n",
      "\n",
      "R(1,0) +6.452351901491773e-01 epsilon(1,0) -1.2902e-02 ... residual -1.3115e-02\n",
      "R(1,1) +6.323336800036626e-01 ... residual -2.1312e-04\n",
      "\n",
      "R(2,0) +6.354094290276936e-01 epsilon(2,0) -3.2753e-03 ... residual -3.2889e-03\n",
      "R(2,1) +6.321341753205323e-01 epsilon(2,1) -1.3300e-05 ... residual -1.3616e-05\n",
      "R(2,2) +6.321208750083236e-01 ... residual -3.1618e-07\n",
      "\n",
      "R(3,0) +6.329434182104802e-01 epsilon(3,0) -8.2200e-04 ... residual -8.2286e-04\n",
      "R(3,1) +6.321214146047424e-01 epsilon(3,1) -8.5071e-07 ... residual -8.5578e-07\n",
      "R(3,2) +6.321205638903564e-01 epsilon(3,2) -4.9384e-09 ... residual -5.0618e-09\n",
      "R(3,3) +6.321205589519759e-01 ... residual -1.2342e-10\n",
      "\n",
      "R(4,0) +6.323263138444998e-01 epsilon(4,0) -2.0570e-04 ... residual -2.0576e-04\n",
      "R(4,1) +6.321206123891729e-01 epsilon(4,1) -5.3481e-08 ... residual -5.3561e-08\n",
      "R(4,2) +6.321205589081349e-01 epsilon(4,2) -7.9083e-11 ... residual -7.9577e-11\n",
      "R(4,3) +6.321205588290520e-01 epsilon(4,3) -4.8205e-13 ... residual -4.9438e-13\n",
      "R(4,4) +6.321205588285700e-01 ... residual -1.2323e-14\n",
      "\n"
     ]
    }
   ],
   "source": [
    "t = 1\n",
    "actual = 1-math.exp(-1)\n",
    "N = [2,4,8,16]\n",
    "err01 = []\n",
    "I1 = []\n",
    "\n",
    "def func(x):\n",
    "    y = math.exp(-(x))\n",
    "    return y\n",
    "\n",
    "# Integrate for each N in list above using trapezoid rule and add the error to the list err01\n",
    "for i in range(len(N)):\n",
    "    I2 = integrate.integrate(func,(0,t),N[i],order = 2,float_type= float)[0]\n",
    "    Error = (actual - I2)\n",
    "    err01.append(Error)\n",
    "    I1.append(I2)\n",
    "    \n",
    "print(I1)\n",
    "print()\n",
    "I = romberg.romberg(func,(0,1),1e-10,verbose=True,reference = actual)"
   ]
  },
  {
   "cell_type": "markdown",
   "metadata": {},
   "source": [
    "<div class=answer>\n",
    "<div/>\n",
    "They appear to be the same\n"
   ]
  },
  {
   "cell_type": "markdown",
   "metadata": {},
   "source": [
    "Explain your result in terms of the\n",
    "formulas for Simpson's rule, the trapezoidal rule, and Romberg\n",
    "extrapolation."
   ]
  },
  {
   "cell_type": "markdown",
   "metadata": {},
   "source": [
    "<div class=answer>\n",
    "<div/>\n",
    "Answer here"
   ]
  },
  {
   "cell_type": "markdown",
   "metadata": {},
   "source": [
    "## Exercise 4\n",
    "### Life gets messy\n",
    "\n",
    "** Note:** You may find your output in this section to be too much information.  You do not need to print out the entirety of the verbose output for all these\n",
    "calculations.  \n",
    "\n",
    "Now that we are equipped with all these ultrapowerful integration\n",
    "algorithms, we should be ready to face any problem which is thrown at\n",
    "us, right???  So calculating the area of a circle should be a piece of\n",
    "cake, right?\n",
    "\n",
    "*Ha! Since when has ```pi``` been cake?*\n",
    "\n",
    "Plot the graph of the function $f(x)=\\sqrt{1-x^2}$ on $[-1,1]$."
   ]
  },
  {
   "cell_type": "code",
   "execution_count": 67,
   "metadata": {
    "collapsed": false
   },
   "outputs": [
    {
     "data": {
      "image/png": "[encoded data removed]",
      "text/plain": [
       "<matplotlib.figure.Figure at 0x74a19b0>"
      ]
     },
     "metadata": {},
     "output_type": "display_data"
    }
   ],
   "source": [
    "# We m\n",
    "import math\n",
    "import numpy as np \n",
    "from matplotlib.pylab import plt\n",
    "% matplotlib inline\n",
    "# This inputs a list of 100 numbers equally spaced from 0 to 10\n",
    "x = np.linspace(-1,1,100)\n",
    "\n",
    "# Now we are using the functions from pylab to make a list for y and y1 based on the list for x\n",
    "y = np.sqrt(1-x**2)\n",
    "\n",
    "\n",
    "# This plots x vs y with yellow circle and then x vs y1 with green squares\n",
    "plt.plot(x,y,\"r-\")\n",
    "\n",
    "# Makes the graphs y-limits go from -1.1 to 1.1 \n",
    "plt.ylim(-0,1.1)\n",
    "plt.xlim(-1.1,1.1)\n",
    "\n",
    "#Finally the code below adds x and y axis labels and then displays the graph\n",
    "plt.title(\"y = $\\sqrt{1-x^2}$\")\n",
    "plt.xlabel(\"x-axis\")\n",
    "plt.ylabel(\"y-axis\")\n",
    "plt.show()"
   ]
  },
  {
   "cell_type": "markdown",
   "metadata": {},
   "source": [
    "What is the analytically known value of the integral\n",
    "$$\n",
    "\\int_{-1}^{1}\\sqrt{1-x^2}\\,dx?\n",
    "$$\n",
    "**Note:** You may quote results from elementary school without further proof."
   ]
  },
  {
   "cell_type": "markdown",
   "metadata": {},
   "source": [
    "<div class=answer>\n",
    "<div/>\n",
    "The area under the curve for a half circle is $(1/2)\\pi r^2$ where the r is one in this case so the radias is $\\pi /2$"
   ]
  },
  {
   "cell_type": "markdown",
   "metadata": {},
   "source": [
    "To reach a tolerence of $10^{-10}$ with the trapezoidal rule, how many\n",
    "iterations (and thus steps) are required?  Do you find that the\n",
    "residual of your \n",
    "calculated result, relative to the known true value, is consistent with the\n",
    "tolerance you asked for?  How about with Romberg extrapolation?"
   ]
  },
  {
   "cell_type": "code",
   "execution_count": 76,
   "metadata": {
    "collapsed": false
   },
   "outputs": [
    {
     "name": "stdout",
     "output_type": "stream",
     "text": [
      "integrating on range (-1, 1)\n",
      "  reference value +1.57080e+00\n",
      "\n",
      "Error =  0.3333333333333333\n",
      "I =  1.0\n",
      "N =  2\n",
      "Iteration =  1\n",
      "\n",
      "Error =  0.1220084679281462\n",
      "I =  1.3660254037844386\n",
      "N =  4\n",
      "Iteration =  2\n",
      "\n",
      "Error =  0.043943043422260596\n",
      "I =  1.4978545340512204\n",
      "N =  8\n",
      "Iteration =  3\n",
      "\n",
      "Error =  0.015685012709122148\n",
      "I =  1.5449095721785868\n",
      "N =  16\n",
      "Iteration =  4\n",
      "\n",
      "Error =  0.005572315578427893\n",
      "I =  1.5616265189138705\n",
      "N =  32\n",
      "Iteration =  5\n",
      "\n",
      "Error =  0.0019748975082317286\n",
      "I =  1.5675512114385657\n",
      "N =  64\n",
      "Iteration =  6\n",
      "\n",
      "Error =  0.000699081650425537\n",
      "I =  1.5696484563898423\n",
      "N =  128\n",
      "Iteration =  7\n",
      "\n",
      "Error =  0.0002473132694883103\n",
      "I =  1.5703903961983072\n",
      "N =  256\n",
      "Iteration =  8\n",
      "\n",
      "Error =  8.746509343593445e-05\n",
      "I =  1.570652791478615\n",
      "N =  512\n",
      "Iteration =  9\n",
      "\n",
      "Error =  3.092829373733489e-05\n",
      "I =  1.570745576359827\n",
      "N =  1024\n",
      "Iteration =  10\n",
      "\n",
      "Error =  1.093563656073826e-05\n",
      "I =  1.5707783832695092\n",
      "N =  2048\n",
      "Iteration =  11\n",
      "\n",
      "Error =  3.8664787388083726e-06\n",
      "I =  1.5707899827057257\n",
      "N =  4096\n",
      "Iteration =  12\n",
      "\n",
      "Error =  1.3670327179878445e-06\n",
      "I =  1.5707940838038796\n",
      "N =  8192\n",
      "Iteration =  13\n",
      "\n",
      "Error =  4.833236571707052e-07\n",
      "I =  1.5707955337748511\n",
      "N =  16384\n",
      "Iteration =  14\n",
      "\n",
      "Error =  1.7088153255369795e-07\n",
      "I =  1.5707960464194488\n",
      "N =  32768\n",
      "Iteration =  15\n",
      "\n",
      "Error =  6.041588925439119e-08\n",
      "I =  1.5707962276671166\n",
      "N =  65536\n",
      "Iteration =  16\n",
      "\n",
      "Error =  2.1360266518518262e-08\n",
      "I =  1.5707962917479161\n",
      "N =  131072\n",
      "Iteration =  17\n",
      "\n",
      "Error =  7.55199887810439e-09\n",
      "I =  1.5707963144039128\n",
      "N =  262144\n",
      "Iteration =  18\n",
      "\n",
      "Error =  2.6700371543360766e-09\n",
      "I =  1.5707963224140242\n",
      "N =  524288\n",
      "Iteration =  19\n",
      "\n",
      "Error =  9.439998412593316e-10\n",
      "I =  1.5707963252460238\n",
      "N =  1048576\n",
      "Iteration =  20\n",
      "\n",
      "Error =  3.337591684508349e-10\n",
      "I =  1.5707963262473013\n",
      "N =  2097152\n",
      "Iteration =  21\n",
      "\n",
      "Error =  1.180073816442473e-10\n",
      "I =  1.5707963266013234\n",
      "N =  4194304\n",
      "Iteration =  22\n",
      "\n",
      "Error =  4.1730174871190684e-11\n",
      "I =  1.570796326726514\n",
      "N =  8388608\n",
      "Iteration =  23\n",
      "\n",
      "1.5707963267948966\n"
     ]
    }
   ],
   "source": [
    "actual = math.pi/2\n",
    "\n",
    "def semi_circle(x):\n",
    "    return math.sqrt(1 - x**2)\n",
    "\n",
    "integrate_adaptive(semi_circle,(-1,1),1e-10,verbose=True,reference = actual)\n",
    "\n",
    "print(actual)"
   ]
  },
  {
   "cell_type": "code",
   "execution_count": 71,
   "metadata": {
    "collapsed": false
   },
   "outputs": [
    {
     "name": "stdout",
     "output_type": "stream",
     "text": [
      "integrating on range (-1, 1)\n",
      "  reference value +1.57080e+00\n",
      "\n",
      "R(0,0) +0.000000000000000e+00 ... residual +1.5708e+00\n",
      "\n",
      "R(1,0) +1.000000000000000e+00 epsilon(1,0) +3.3333e-01 ... residual +5.7080e-01\n",
      "R(1,1) +1.333333333333333e+00 ... residual +2.3746e-01\n",
      "\n",
      "R(2,0) +1.366025403784439e+00 epsilon(2,0) +1.2201e-01 ... residual +2.0477e-01\n",
      "R(2,1) +1.488033871712585e+00 epsilon(2,1) +1.0313e-02 ... residual +8.2762e-02\n",
      "R(2,2) +1.498347240937868e+00 ... residual +7.2449e-02\n",
      "\n",
      "R(3,0) +1.497854534051220e+00 epsilon(3,0) +4.3943e-02 ... residual +7.2942e-02\n",
      "R(3,1) +1.541797577473481e+00 epsilon(3,1) +3.5842e-03 ... residual +2.8999e-02\n",
      "R(3,2) +1.545381824524207e+00 epsilon(3,2) +7.4658e-04 ... residual +2.5415e-02\n",
      "R(3,3) +1.546128405216054e+00 ... residual +2.4668e-02\n",
      "\n",
      "R(4,0) +1.544909572178587e+00 epsilon(4,0) +1.5685e-02 ... residual +2.5887e-02\n",
      "R(4,1) +1.560594584887709e+00 epsilon(4,1) +1.2531e-03 ... residual +1.0202e-02\n",
      "R(4,2) +1.561847718715324e+00 epsilon(4,2) +2.6136e-04 ... residual +8.9486e-03\n",
      "R(4,3) +1.562109082115183e+00 epsilon(4,3) +6.2669e-05 ... residual +8.6872e-03\n",
      "R(4,4) +1.562171751436356e+00 ... residual +8.6246e-03\n",
      "\n",
      "R(5,0) +1.561626518913870e+00 epsilon(5,0) +5.5723e-03 ... residual +9.1698e-03\n",
      "R(5,1) +1.567198834492298e+00 epsilon(5,1) +4.4028e-04 ... residual +3.5975e-03\n",
      "R(5,2) +1.567639117799270e+00 epsilon(5,2) +9.1927e-05 ... residual +3.1572e-03\n",
      "R(5,3) +1.567731044768857e+00 epsilon(5,3) +2.2047e-05 ... residual +3.0653e-03\n",
      "R(5,4) +1.567753091681224e+00 epsilon(5,4) +5.4559e-06 ... residual +3.0432e-03\n",
      "R(5,5) +1.567758547536791e+00 ... residual +3.0378e-03\n",
      "\n",
      "R(6,0) +1.567551211438565e+00 epsilon(6,0) +1.9749e-03 ... residual +3.2451e-03\n",
      "R(6,1) +1.569526108946797e+00 epsilon(6,1) +1.5515e-04 ... residual +1.2702e-03\n",
      "R(6,2) +1.569681260577097e+00 epsilon(6,2) +3.2415e-05 ... residual +1.1151e-03\n",
      "R(6,3) +1.569713675541825e+00 epsilon(6,3) +7.7750e-06 ... residual +1.0827e-03\n",
      "R(6,4) +1.569721450564464e+00 epsilon(6,4) +1.9241e-06 ... residual +1.0749e-03\n",
      "R(6,5) +1.569723374668944e+00 epsilon(6,5) +4.7981e-07 ... residual +1.0730e-03\n",
      "R(6,6) +1.569723854480209e+00 ... residual +1.0725e-03\n",
      "\n",
      "R(7,0) +1.569648456389842e+00 epsilon(7,0) +6.9908e-04 ... residual +1.1479e-03\n",
      "R(7,1) +1.570347538040268e+00 epsilon(7,1) +5.4762e-05 ... residual +4.4879e-04\n",
      "R(7,2) +1.570402299979833e+00 epsilon(7,2) +1.1445e-05 ... residual +3.9403e-04\n",
      "R(7,3) +1.570413745049717e+00 epsilon(7,3) +2.7454e-06 ... residual +3.8258e-04\n",
      "R(7,4) +1.570416490420336e+00 epsilon(7,4) +6.7941e-07 ... residual +3.7984e-04\n",
      "R(7,5) +1.570417169833685e+00 epsilon(7,5) +1.6942e-07 ... residual +3.7916e-04\n",
      "R(7,6) +1.570417339258634e+00 epsilon(7,6) +4.2330e-08 ... residual +3.7899e-04\n",
      "R(7,7) +1.570417381588169e+00 ... residual +3.7895e-04\n",
      "\n",
      "R(8,0) +1.570390396198307e+00 epsilon(8,0) +2.4731e-04 ... residual +4.0593e-04\n",
      "R(8,1) +1.570637709467795e+00 epsilon(8,1) +1.9345e-05 ... residual +1.5862e-04\n",
      "R(8,2) +1.570657054229630e+00 epsilon(8,2) +4.0437e-06 ... residual +1.3927e-04\n",
      "R(8,3) +1.570661097947881e+00 epsilon(8,3) +9.7001e-07 ... residual +1.3523e-04\n",
      "R(8,4) +1.570662067959246e+00 epsilon(8,4) +2.4006e-07 ... residual +1.3426e-04\n",
      "R(8,5) +1.570662308015491e+00 epsilon(8,5) +5.9863e-08 ... residual +1.3402e-04\n",
      "R(8,6) +1.570662367878295e+00 epsilon(8,6) +1.4956e-08 ... residual +1.3396e-04\n",
      "R(8,7) +1.570662382834568e+00 epsilon(8,7) +3.7385e-09 ... residual +1.3394e-04\n",
      "R(8,8) +1.570662386573047e+00 ... residual +1.3394e-04\n",
      "\n",
      "R(9,0) +1.570652791478616e+00 epsilon(9,0) +8.7465e-05 ... residual +1.4354e-04\n",
      "R(9,1) +1.570740256572052e+00 epsilon(9,1) +6.8365e-06 ... residual +5.6070e-05\n",
      "R(9,2) +1.570747093045669e+00 epsilon(9,2) +1.4292e-06 ... residual +4.9234e-05\n",
      "R(9,3) +1.570748522233225e+00 epsilon(9,3) +3.4284e-07 ... residual +4.7805e-05\n",
      "R(9,4) +1.570748865073560e+00 epsilon(9,4) +8.4846e-08 ... residual +4.7462e-05\n",
      "R(9,5) +1.570748949919224e+00 epsilon(9,5) +2.1158e-08 ... residual +4.7377e-05\n",
      "R(9,6) +1.570748971077198e+00 epsilon(9,6) +5.2862e-09 ... residual +4.7356e-05\n",
      "R(9,7) +1.570748976363360e+00 epsilon(9,7) +1.3213e-09 ... residual +4.7350e-05\n",
      "R(9,8) +1.570748977684693e+00 epsilon(9,8) +3.3032e-10 ... residual +4.7349e-05\n",
      "R(9,9) +1.570748978015013e+00 ... residual +4.7349e-05\n",
      "\n",
      "R(10,0) +1.570745576359828e+00 epsilon(10,0) +3.0928e-05 ... residual +5.0750e-05\n",
      "R(10,1) +1.570776504653565e+00 epsilon(10,1) +2.4165e-06 ... residual +1.9822e-05\n",
      "R(10,2) +1.570778921192332e+00 epsilon(10,2) +5.0521e-07 ... residual +1.7406e-05\n",
      "R(10,3) +1.570779426401010e+00 epsilon(10,3) +1.2119e-07 ... residual +1.6900e-05\n",
      "R(10,4) +1.570779547593824e+00 epsilon(10,4) +2.9993e-08 ... residual +1.6779e-05\n",
      "R(10,5) +1.570779577586513e+00 epsilon(10,5) +7.4793e-09 ... residual +1.6749e-05\n",
      "R(10,6) +1.570779585065797e+00 epsilon(10,6) +1.8686e-09 ... residual +1.6742e-05\n",
      "R(10,7) +1.570779586934441e+00 epsilon(10,7) +4.6709e-10 ... residual +1.6740e-05\n",
      "R(10,8) +1.570779587401528e+00 epsilon(10,8) +1.1677e-10 ... residual +1.6739e-05\n",
      "R(10,9) +1.570779587518295e+00 epsilon(10,9) +2.9192e-11 ... residual +1.6739e-05\n",
      "R(10,10) +1.570779587547487e+00 ... residual +1.6739e-05\n",
      "\n"
     ]
    }
   ],
   "source": [
    "I = romberg.romberg(semi_circle,(-1,1),1e-10,verbose=True,reference = actual)"
   ]
  },
  {
   "cell_type": "markdown",
   "metadata": {},
   "source": [
    "<div class=answer>\n",
    "<div/>\n",
    "It takes us 23 iterations to use the trapezoidal rule withthe adaptive integration. The romberg takes 10 iterations. Both take verylongs and dont give the best approximation."
   ]
  },
  {
   "cell_type": "markdown",
   "metadata": {},
   "source": [
    "Looking back at the\n",
    "Euler-Maclaurin formula, why might we expect this integral to be\n",
    "problematic?\n",
    "\n",
    "**Comment:**  Our whole analysis is based on the idea that the error in the trapezoidal rule is $O(h^2)$.  But occasionally the coefficient on $h^2$ can be important...\n"
   ]
  },
  {
   "cell_type": "markdown",
   "metadata": {},
   "source": [
    "<div class=answer>\n",
    "<div/>\n",
    "This will be problematic when x is one and negative one because when you evaluate the derivative of the function at those points you will find that you get 1/0 which does not exist. Therefore you cannot calculate error."
   ]
  },
  {
   "cell_type": "markdown",
   "metadata": {},
   "source": [
    "There is a further lesson to be learned here.   Sometimes just throwing numerical methods at a problem is not enough.  A little forethought can allow us to\n",
    "transform the problem into one which is more amenable to numerical solution.  Try\n",
    "making the trigonometric substitution $x=\\cos u$.\n",
    "\n",
    "You should have just found that the integral an equivalent to\n",
    "$\\int_0^\\pi \\sin^2 u\\,du$.  Do we still expect trouble?  (Explain.)  "
   ]
  },
  {
   "cell_type": "markdown",
   "metadata": {},
   "source": [
    "<div class=answer>\n",
    "<div/>\n",
    "We are in better shape because then you get the error to be 0 at the ends instead of 1/0."
   ]
  },
  {
   "cell_type": "markdown",
   "metadata": {},
   "source": [
    "How does this transformed integral fare with the Romberg method?"
   ]
  },
  {
   "cell_type": "code",
   "execution_count": 77,
   "metadata": {
    "collapsed": false
   },
   "outputs": [
    {
     "name": "stdout",
     "output_type": "stream",
     "text": [
      "integrating on range (0, 3.141592653589793)\n",
      "  reference value +1.57080e+00\n",
      "\n",
      "R(0,0) +2.355817157679958e-32 ... residual +1.5708e+00\n",
      "\n",
      "R(1,0) +1.570796326794897e+00 epsilon(1,0) +5.2360e-01 ... residual +0.0000e+00\n",
      "R(1,1) +2.094395102393195e+00 ... residual -5.2360e-01\n",
      "\n",
      "R(2,0) +1.570796326794897e+00 epsilon(2,0) +0.0000e+00 ... residual +0.0000e+00\n",
      "R(2,1) +1.570796326794897e+00 epsilon(2,1) -3.4907e-02 ... residual +0.0000e+00\n",
      "R(2,2) +1.535889741755010e+00 ... residual +3.4907e-02\n",
      "\n",
      "R(3,0) +1.570796326794897e+00 epsilon(3,0) +7.4015e-17 ... residual -2.2204e-16\n",
      "R(3,1) +1.570796326794897e+00 epsilon(3,1) +1.4803e-17 ... residual -2.2204e-16\n",
      "R(3,2) +1.570796326794897e+00 epsilon(3,2) +5.5407e-04 ... residual -4.4409e-16\n",
      "R(3,3) +1.571350399573308e+00 ... residual -5.5407e-04\n",
      "\n",
      "R(4,0) +1.570796326794897e+00 epsilon(4,0) +0.0000e+00 ... residual -2.2204e-16\n",
      "R(4,1) +1.570796326794897e+00 epsilon(4,1) +0.0000e+00 ... residual -2.2204e-16\n",
      "R(4,2) +1.570796326794897e+00 epsilon(4,2) -7.0490e-18 ... residual +0.0000e+00\n",
      "R(4,3) +1.570796326794897e+00 epsilon(4,3) -2.1728e-06 ... residual +0.0000e+00\n",
      "R(4,4) +1.570794153960472e+00 ... residual +2.1728e-06\n",
      "\n",
      "R(5,0) +1.570796326794897e+00 epsilon(5,0) +0.0000e+00 ... residual -2.2204e-16\n",
      "R(5,1) +1.570796326794897e+00 epsilon(5,1) +0.0000e+00 ... residual -2.2204e-16\n",
      "R(5,2) +1.570796326794897e+00 epsilon(5,2) +0.0000e+00 ... residual +0.0000e+00\n",
      "R(5,3) +1.570796326794897e+00 epsilon(5,3) +0.0000e+00 ... residual +0.0000e+00\n",
      "R(5,4) +1.570796326794897e+00 epsilon(5,4) +2.1240e-09 ... residual +0.0000e+00\n",
      "R(5,5) +1.570796328918880e+00 ... residual -2.1240e-09\n",
      "\n",
      "R(6,0) +1.570796326794896e+00 epsilon(6,0) -1.4803e-16 ... residual +2.2204e-16\n",
      "R(6,1) +1.570796326794896e+00 epsilon(6,1) -4.4409e-17 ... residual +4.4409e-16\n",
      "R(6,2) +1.570796326794896e+00 epsilon(6,2) -1.0574e-17 ... residual +6.6613e-16\n",
      "R(6,3) +1.570796326794896e+00 epsilon(6,3) -2.6123e-18 ... residual +6.6613e-16\n",
      "R(6,4) +1.570796326794896e+00 epsilon(6,4) -6.5116e-19 ... residual +6.6613e-16\n",
      "R(6,5) +1.570796326794896e+00 epsilon(6,5) -5.1868e-13 ... residual +6.6613e-16\n",
      "R(6,6) +1.570796326794377e+00 ... residual +5.1936e-13\n",
      "\n"
     ]
    }
   ],
   "source": [
    "def sin_squared(u):\n",
    "    return math.sin(u)**2\n",
    "I = romberg.romberg(sin_squared,(0,math.pi),1e-10,verbose=True,reference = actual)\n"
   ]
  },
  {
   "cell_type": "markdown",
   "metadata": {},
   "source": [
    "<div class=answer>\n",
    "<div/>\n",
    "This works much better and only takes 6 iterations instead of 10."
   ]
  },
  {
   "cell_type": "markdown",
   "metadata": {},
   "source": [
    "## Exercise 5\n",
    "### Life continues to be messy: Oscillatory integrands\n",
    "\n",
    "One perpetual bane of physicists' existence is highly oscillator\n",
    "integrands.  \n",
    "\n",
    "Let us look at the integral\n",
    "$$\n",
    "\\int_0^{2\\pi} e^x \\sin 100x \\,dx.\n",
    "$$\n",
    "First, plot the integrand.  Comment on why it might be problematic.\n",
    "Can you speculate on how many slices might be needed for successful evaluation?"
   ]
  },
  {
   "cell_type": "code",
   "execution_count": 90,
   "metadata": {
    "collapsed": false
   },
   "outputs": [
    {
     "data": {
      "image/png": "[encoded data removed]",
      "text/plain": [
       "<matplotlib.figure.Figure at 0x73c8f60>"
      ]
     },
     "metadata": {},
     "output_type": "display_data"
    }
   ],
   "source": [
    "# This inputs a list of 100 numbers equally spaced from 0 to 10\n",
    "x = np.linspace(90,110,500)\n",
    "\n",
    "# Now we are using the functions from pylab to make a list for y and y1 based on the list for x\n",
    "y = np.exp(x)*np.sin(100*x)\n",
    "\n",
    "\n",
    "# This plots x vs y with yellow circle and then x vs y1 with green squares\n",
    "plt.plot(x,y,\"r-\")\n",
    "\n",
    "# Makes the graphs y-limits go from -1.1 to 1.1 \n",
    "\n",
    "\n",
    "\n",
    "#Finally the code below adds x and y axis labels and then displays the graph\n",
    "plt.title(\"y = $e^xsin(100x)$\")\n",
    "plt.xlabel(\"x-axis\")\n",
    "plt.ylabel(\"y-axis\")\n",
    "plt.show()"
   ]
  },
  {
   "cell_type": "markdown",
   "metadata": {},
   "source": [
    "<div class=answer>\n",
    "<div/>\n",
    "Answer here"
   ]
  },
  {
   "cell_type": "markdown",
   "metadata": {},
   "source": [
    "Then, see how Romberg fares on this integral.  Comment."
   ]
  },
  {
   "cell_type": "code",
   "execution_count": null,
   "metadata": {
    "collapsed": true
   },
   "outputs": [],
   "source": [
    "#your code here"
   ]
  },
  {
   "cell_type": "markdown",
   "metadata": {},
   "source": [
    "<div class=answer>\n",
    "<div/>\n",
    "Answer here"
   ]
  },
  {
   "cell_type": "markdown",
   "metadata": {},
   "source": [
    "Now try the integral\n",
    "$$\n",
    "\\int_0^{2\\pi} e^x \\sin 128x \\,dx.\n",
    "$$\n",
    "See how Romberg fares on this integral, and comment on why.\n",
    "Please attach your plot of the integrand."
   ]
  },
  {
   "cell_type": "code",
   "execution_count": null,
   "metadata": {
    "collapsed": true
   },
   "outputs": [],
   "source": [
    "#your code here"
   ]
  },
  {
   "cell_type": "markdown",
   "metadata": {},
   "source": [
    "<div class=answer>\n",
    "<div/>\n",
    "Answer here"
   ]
  },
  {
   "cell_type": "code",
   "execution_count": null,
   "metadata": {
    "collapsed": true
   },
   "outputs": [],
   "source": [
    "#plot here"
   ]
  },
  {
   "cell_type": "markdown",
   "metadata": {},
   "source": [
    "## Exercise 6\n",
    "### Integrals over infinite ranges\n",
    "\n",
    "Let us start by reproducing Newmans's Example 5.3 (on page 180).  But please ignore Newman's code for Gaussian integration.  Instead, we will continue to use our own Romberg integration function.\n",
    "\n",
    "Integrands which involve the Gaussian $e^{-x^2}$ show up throughout\n",
    "physics.  The basic Gaussian integral has a simple known value, so we\n",
    "will use it as our test case (as we used last week ):\n",
    "$$\n",
    "\\int_{-\\infty}^\\infty e^{-x^2}\\,dx=\\sqrt{\\pi}.\n",
    "$$\n",
    "\n",
    "The integrand is symmetric, so we are free to consider just one half\n",
    "($\\int_{0}^\\infty e^{-x^2}\\,dx$), as Newman uses for his example, then\n",
    "double the result.  Let us transform this integral according\n",
    "to (5.67), to make sure we see how Newman got his expression.\n",
    "\n",
    "**Sorry about the\n",
    "overloading of Gauss's name. A \"Gaussian integral\" is an integral of\n",
    "the Gaussian function.  \"Gaussian integration\" is integration by Gaussian\n",
    "quadrature.  The two are not particularly related.**"
   ]
  },
  {
   "cell_type": "markdown",
   "metadata": {},
   "source": [
    "<div class=answer>\n",
    "<div/>\n",
    "Answer here"
   ]
  },
  {
   "cell_type": "markdown",
   "metadata": {},
   "source": [
    "Now try to evaluate the transformed integral using the Romberg\n",
    "method.  What problem do you encounter, and how can you fix it?\n",
    "It will help to make a plot of the integrand.\n",
    "\n",
    "**Hint:** From looking at the plot,  what is the integrand's limit as $z\\rightarrow 1$?\n"
   ]
  },
  {
   "cell_type": "code",
   "execution_count": null,
   "metadata": {
    "collapsed": true
   },
   "outputs": [],
   "source": [
    "#your code here"
   ]
  },
  {
   "cell_type": "markdown",
   "metadata": {},
   "source": [
    "<div class=answer>\n",
    "<div/>\n",
    "Answer here"
   ]
  },
  {
   "cell_type": "markdown",
   "metadata": {},
   "source": [
    "Finally, how does the Romberg method fare on the integral? Explain."
   ]
  },
  {
   "cell_type": "code",
   "execution_count": null,
   "metadata": {
    "collapsed": true
   },
   "outputs": [],
   "source": [
    "#your code here"
   ]
  },
  {
   "cell_type": "markdown",
   "metadata": {},
   "source": [
    "<div class=answer>\n",
    "<div/>\n",
    "Answer here"
   ]
  },
  {
   "cell_type": "markdown",
   "metadata": {},
   "source": [
    "Plot your transformed integrand."
   ]
  },
  {
   "cell_type": "code",
   "execution_count": null,
   "metadata": {
    "collapsed": true
   },
   "outputs": [],
   "source": [
    "#your code here"
   ]
  },
  {
   "cell_type": "markdown",
   "metadata": {},
   "source": [
    "## Numerical differentiation\n",
    "\n",
    "** Newman Exercise 5.15 **\n",
    "\n",
    "Create a user-defined function ```f(x)``` that returns the value $1 + \\frac{1}{2} \\tanh(2x)$, then use a central difference to calculate the derivative of the function in the range $-2\\le x\\le2$.  Calculate an analytic formula for the derivative and make a graph with your numerical result and the analytic answer on the same plot.  It may help to plot the exact answer as lines and the numerical one as dots.  \n",
    "\n",
    "**Hint:** In Python the ```tanh``` function is found in the ```math``` package, and it's called simply ```tanh```.\n",
    "\n",
    "Please attach your code and plots.\n"
   ]
  },
  {
   "cell_type": "code",
   "execution_count": null,
   "metadata": {
    "collapsed": true
   },
   "outputs": [],
   "source": [
    "#your code here"
   ]
  },
  {
   "cell_type": "code",
   "execution_count": null,
   "metadata": {
    "collapsed": true
   },
   "outputs": [],
   "source": []
  }
 ],
 "metadata": {
  "kernelspec": {
   "display_name": "Python 3",
   "language": "python",
   "name": "python3"
  },
  "language_info": {
   "codemirror_mode": {
    "name": "ipython",
    "version": 3
   },
   "file_extension": ".py",
   "mimetype": "text/x-python",
   "name": "python",
   "nbconvert_exporter": "python",
   "pygments_lexer": "ipython3",
   "version": "3.4.4"
  }
 },
 "nbformat": 4,
 "nbformat_minor": 2
}
