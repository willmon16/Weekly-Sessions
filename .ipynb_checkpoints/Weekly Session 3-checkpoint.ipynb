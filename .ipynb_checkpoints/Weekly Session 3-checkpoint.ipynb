{
 "cells": [
  {
   "cell_type": "markdown",
   "metadata": {},
   "source": [
    "# Weekly Session 3\n",
    "## Accuracy and Speed\n",
    "\n",
    "### Learning Goals \n",
    "As we have begun to discuss with variable assignments, $\\text{computational math} ~ \\neq ~ \\text{textbook math}$,\n",
    "and thus *it matters how you do it.*\n",
    "\n",
    "We will start to understand these maxims a little better.  That is,\n",
    "calculations at finite precision yield imperfect results, and the\n",
    "final error depends on the algorithm used, in ways which we can\n",
    "begin to understand and control.\n",
    "\n",
    "In addition to practing what we've learned, we'll do a little more file I/O.\n",
    "\n",
    "### First run the box below to get colored cells.  Remember, you will have to change the path of the file style.css\n",
    "\n",
    "Recall that running the command %pwd in a python cell will give you the path to working directory."
   ]
  },
  {
   "cell_type": "code",
   "execution_count": null,
   "metadata": {},
   "outputs": [],
   "source": [
    "#For colored cells, currently black cells, white text is added in Markdown\n",
    "#https://stackoverflow.com/questions/18024769/adding-custom-styled-paragraphs-in-markdown-cells\n",
    "from IPython.core.display import HTML\n",
    "def css_styling():\n",
    "    styles = open(\"/Users/mcde2235/Box Sync/Coursework/PHY325/Spring2018/Weekly-Sessions/style.css\", \"r\").read()\n",
    "    return HTML(styles)\n",
    "css_styling()"
   ]
  },
  {
   "cell_type": "markdown",
   "metadata": {},
   "source": [
    "<div class=answer>\n",
    "*This should be a blue cell with black font if you set the filepath correctly*</font>\n",
    "<div/>"
   ]
  },
  {
   "cell_type": "markdown",
   "metadata": {},
   "source": [
    "----------------------------------------------------------------------------------------------------------------\n",
    "## Introduction\n",
    "----------------------------------------------------------------------------------------------------------------\n",
    "\n",
    "A more complete breakdown of errors and uncertainties in calculations is given in __A Survey of Computational Physics__ by Rubin Landau *et al.* which I summarize briefly below\n",
    "\n",
    "1.  __Blunders__ - mistakes in your theoretical equations or code syntax - generally these are not the focus of this chapter.\n",
    "2.  __Random Errors__ - physical bit flips due to electronic noise, cosmic rays, someone pulling a plug, etc.  These are rare, but are more likely in a week long calculation than a 5 second calculation.\n",
    "3.  __Approximation Errors__ - equations simplified so that a computer can solve them - for instance an integral may be calculated by breaking an area into a sum of small rectangular or trapezoidal areas.  We will discuss these kinds of errors in great detail next chapter.\n",
    "4.  __Round-off Errors__ - as described in Newman's Sections 4.1-4.2."
   ]
  },
  {
   "cell_type": "markdown",
   "metadata": {},
   "source": [
    "<div class=answer>\n",
    "### Discuss with your partner: \n",
    "Which types of errors are most important to understand for a career in computational science?  Why?\n",
    "*Also, which are mostly likely to appear as midterm exam questions?  Why?*\n",
    "<div/>\n",
    "Answer here."
   ]
  },
  {
   "cell_type": "markdown",
   "metadata": {},
   "source": [
    "## Exercise 0: Print formatting\n",
    "Later in this notebook you will be asked to print values in a table.  There are many ways to use python to format printed strings.  Here is a quick overview of the newer style for python3:\n",
    "\n",
    "Write the string you want to display in quotes, and put a pair of curly braces `{}` wherever you want to have a variable appear. Then add the format method `.format()` with one argument per variable that needs to go in your string. That's it!"
   ]
  },
  {
   "cell_type": "code",
   "execution_count": null,
   "metadata": {},
   "outputs": [],
   "source": [
    "#run this code and see what prints.  Play around with it a bit, make x a float, a complex number, etc.\n",
    "x=int(4.886E+6)\n",
    "print(\"x = {}\".format(x))\n",
    "\n",
    "#here is pi\n",
    "\"{} is Pi\".format(3.14159)"
   ]
  },
  {
   "cell_type": "markdown",
   "metadata": {},
   "source": [
    "You can also specify rounding, format as a percentage, pick a different order, or select items from a list or array. For even more examples, <a href=\"https://docs.python.org/3.1/library/string.html\">read the docs</a>."
   ]
  },
  {
   "cell_type": "code",
   "execution_count": null,
   "metadata": {
    "collapsed": true
   },
   "outputs": [],
   "source": [
    "\"{:.6} is Pi rounded to 5 places\".format(3.14159265358979323)"
   ]
  },
  {
   "cell_type": "code",
   "execution_count": null,
   "metadata": {
    "collapsed": true
   },
   "outputs": [],
   "source": [
    "\"{:.1%} a percentage calculated from a fraction\".format(23/100)"
   ]
  },
  {
   "cell_type": "code",
   "execution_count": null,
   "metadata": {
    "collapsed": true
   },
   "outputs": [],
   "source": [
    "\"{2} is third, {1} is middle, {0} is first\".format(1,2,3)"
   ]
  },
  {
   "cell_type": "markdown",
   "metadata": {},
   "source": [
    "That last one is good for making a table.  __Make a small table of integers__ - use a loop to generate the numbers to print, and make sure the rows/columns are well spaced."
   ]
  },
  {
   "cell_type": "code",
   "execution_count": null,
   "metadata": {
    "collapsed": true
   },
   "outputs": [],
   "source": [
    "#your answer here"
   ]
  },
  {
   "cell_type": "markdown",
   "metadata": {},
   "source": [
    "### Predict what will print in the following statement (with your partner is fine) and then try it out. "
   ]
  },
  {
   "cell_type": "code",
   "execution_count": null,
   "metadata": {
    "collapsed": true
   },
   "outputs": [],
   "source": [
    "v = 2.34567\n",
    "print('{:.1f} {:.2f} {:.7f}'.format(v, v, v))"
   ]
  },
  {
   "cell_type": "markdown",
   "metadata": {},
   "source": [
    "Python also does C like print statements - these are my preference since I know the C codes well.  You are welcome to use the following syntax if you like:"
   ]
  },
  {
   "cell_type": "code",
   "execution_count": null,
   "metadata": {},
   "outputs": [],
   "source": [
    "for i in range(5):\n",
    "    print(\"%4.5d %4.5f %4.5E %4.5e\"%(i,i,i,i) )"
   ]
  },
  {
   "cell_type": "markdown",
   "metadata": {},
   "source": [
    "----------------------------------------------------------------------------------------------------------------\n",
    "## Exercise 1\n",
    "----------------------------------------------------------------------------------------------------------------\n",
    "### Newman Exercise 4.2 (page 133) - *with additional questions / extensions*\n",
    "You are familiar with the standard\n",
    "quadratic formula, which gives the roots of the quadratic polynomial\n",
    "$$\n",
    "ax^2+bx+c\n",
    "$$\n",
    "as\n",
    "$$\n",
    "\\begin{aligned}\n",
    "x_1&=\\frac{-b+\\sqrt{b^2-4ac}}{2a}\\\\\n",
    "x_2&=\\frac{-b-\\sqrt{b^2-4ac}}{2a}.\n",
    "\\end{aligned}\n",
    "$$\n",
    "However, by making the substitution $y=1/x$ and solving for $y$ (again\n",
    "by the quadratic formula), obtain alternate expressions\n",
    "for $x_1$ and $x_2$"
   ]
  },
  {
   "cell_type": "markdown",
   "metadata": {},
   "source": [
    "<div class=answer>\n",
    "### Work this out with a partner.  \n",
    "Check that you get Newman's solution (he suggests an alternate approach).\n",
    "<div/>\n",
    "No need to enter anything here."
   ]
  },
  {
   "cell_type": "markdown",
   "metadata": {},
   "source": [
    "In this problem, let us call the original results the \"standard quadratic formula\" and call these new results the \"reciprocal quadratic formula\" for lack of a better name.  Now we are faced with a question: *Which of these expressions should we use?*  In \"textbook mathematics,\" it would not matter.  The standard and reciprocal results are equivalent.  But, in \"computer mathematics\", it matters which we use.  Let us see how.\n",
    "\n",
    "First, write functions ```quadratic_standard``` and ```quadratic_reciprocal```, to evaluate the roots using the standard and reciprocal expressions, respectively.  *Note:* I have given you a head start with a code block below. \n",
    "\n",
    "Then, apply these two alternative functions to the quadratic equation\n",
    "$$\n",
    "(0.001)x^2 + (1000)x + (0.001) = 0.\n",
    "$$\n",
    "You'll have to calculate your expect roots by hand.  \n",
    "\n",
    "*Hint:* I used a series expansion to approximate $\\sqrt{(1+\\epsilon)} \\approx 1 - 1/2 \\epsilon$,  where $\\epsilon$ is very small."
   ]
  },
  {
   "cell_type": "markdown",
   "metadata": {},
   "source": [
    "<div class=answer>\n",
    "### Work this out with a partner.  \n",
    "What are the exact solutions?.\n",
    "<div/>\n",
    "Enter your answers here.  \n",
    "*If you want to get fancy, notice how I format my numbers using latex style, for instance:* $10^6$"
   ]
  },
  {
   "cell_type": "markdown",
   "metadata": {},
   "source": [
    "## Provided Code\n",
    "Note that there are several very useful tricks in this sample code.  I was fortunate enough to learn quite a bit of python while working as a graduate teaching assistant.  The author, Mark Caprio, is credited below.  Note the following:\n",
    "\n",
    "* Use of a main function\n",
    "* A loop through a list of function names\n",
    "* Each function has a docstring - we'll talk about those soon.\n",
    "* the function names are printed by a call to \"f.__name__\"\n"
   ]
  },
  {
   "cell_type": "code",
   "execution_count": null,
   "metadata": {},
   "outputs": [],
   "source": [
    "#Source: Mark Caprio, Prof. of Physics, U of Notre Dame.\n",
    "import math\n",
    "\n",
    "def quadratic_standard(a,b,c):\n",
    "    \"\"\" Obtain roots of quadratic equation by standard formulas.\n",
    "\n",
    "    a, b, c: cofficients in a*x^2+b*x+c\n",
    "    Returns tuple (x1,x2), where x1 is the 'plus' root and x2 is the 'minus' root.\n",
    "    \"\"\"\n",
    "\n",
    "    d = math.sqrt(b**2 - 4*a*c)  # discriminant\n",
    "    x1 = (-b + d) / (2*a)\n",
    "    x2 = (-b - d) / (2*a)\n",
    "\n",
    "    return (x1,x2)\n",
    "\n",
    "def quadratic_reciprocal(a,b,c):\n",
    "    \"\"\" Obtain roots of quadratic equation by reciprocal formulas.\n",
    "\n",
    "    a, b, c: cofficients in a*x^2+b*x+c\n",
    "    Returns tuple (x1,x2), where x1 is the 'plus' root and x2 is the 'minus' root.\n",
    "    \"\"\"\n",
    "\n",
    "    # TODO\n",
    "    (x1,x2) = (0,0)\n",
    "    return (x1,x2)\n",
    "\n",
    "def quadratic(a,b,c):\n",
    "    \"\"\" Obtain roots of quadratic equation by best formulas.\n",
    "\n",
    "    a, b, c: cofficients in a*x^2+b*x+c\n",
    "    Returns tuple (x1,x2), where x1 is the 'plus' root and x2 is the 'minus' root.\n",
    "    \"\"\"\n",
    "\n",
    "    d = math.sqrt(b**2 - 4*a*c)  # discriminant\n",
    "\n",
    "    if (b >= 0.):\n",
    "        # case b positive (we also cover case b=0. here)\n",
    "        # TODO\n",
    "        (x1,x2) = (0,0)\n",
    "    else:\n",
    "        # case b negative\n",
    "        # TODO\n",
    "        (x1,x2) = (0,0)\n",
    "\n",
    "    return (x1,x2)\n",
    "\n",
    "# test code - notice how I can give a python code a main function.  This is not in Newman.\n",
    "if (__name__ == \"__main__\"):\n",
    "\n",
    "    polynomials = [\n",
    "        (0.001,1000,0.001),    # roots -1e6, -1e-6\n",
    "        (0.001,-1000,0.001)    # roots 1e-6, 1e6\n",
    "        ]\n",
    "\n",
    "    for coefficients in polynomials:\n",
    "        print(\"Coefficients:\",coefficients)\n",
    "        (a,b,c) = coefficients\n",
    "        for f in (quadratic_standard, quadratic_reciprocal, quadratic):\n",
    "            print(\"  \",f.__name__,f(a,b,c))  #note the very tricky call of the function's name.  \n",
    "        print()\n"
   ]
  },
  {
   "cell_type": "markdown",
   "metadata": {},
   "source": [
    "<div class=answer>\n",
    "### Which calculation is more accurate?   How do you explain the superiority of one result over the other, in terms of the principles you have just learned from Newman?\n",
    "<div/>\n",
    "Enter your answers here. "
   ]
  },
  {
   "cell_type": "markdown",
   "metadata": {},
   "source": [
    "### Try again with the equation \n",
    "$$\n",
    "x^2 -3x + 2 = 0.\n",
    "$$"
   ]
  },
  {
   "cell_type": "markdown",
   "metadata": {},
   "source": [
    "<div class=answer>\n",
    "### Explain how the previous equation was a \"difficult\" one numerically, while this one is not.\n",
    "<div/>\n",
    "Enter your answers here. "
   ]
  },
  {
   "cell_type": "markdown",
   "metadata": {},
   "source": [
    "### Using the insight you have just gained, write a new function ```quadratic()``` which calculates both roots of a quadratic equation accurately in all cases. To test it out, apply it to both of the equations mentioned above, as well as to (note the minus sign on the linear term!)\n",
    "\n",
    "$$(0.001)x^2 + (−1000)x + (0.001) = 0.$$\n"
   ]
  },
  {
   "cell_type": "markdown",
   "metadata": {},
   "source": [
    "----------------------------------------------------------------------------------------\n",
    "## Exercise 2: Summing Series \n",
    "----------------------------------------------------------------------------------------\n",
    "Any function may be expanded as a Taylor series.\n",
    "$$\n",
    "f(x) = \\sum _{n=0}^{\\infty }{\\frac {f^{(n)}(a)}{n!}}\\,(x-a)^{n}\n",
    "$$\n",
    "where $f^{(n)}$ is the $n$-th derivative of the function $f(x)$.  More concretely the sum is:\n",
    "$$\n",
    "f(x) = f(a)+{\\frac {f'(a)}{1!}}(x-a)+{\\frac {f''(a)}{2!}}(x-a)^{2}+{\\frac {f'''(a)}{3!}}(x-a)^{3}+\\cdots .\n",
    "$$\n",
    "Where f'(a) = $\\frac{df}{dx}\\big|_{x=a}$. Note that in each equation above, this is an infinite sum over all terms.  A familar example is the $sine$ function expanded to infinite terms:\n",
    "$$\n",
    "\\sin \\left(x\\right)= x-{\\frac {x^{3}}{3!}}+{\\frac {x^{5}}{5!}}-{\\frac {x^{7}}{7!}}+\\cdots .  \\!\n",
    "$$\n",
    "\n",
    "A common technique in numerical analysis and physics is to truncate this series after a finite number of terms. \n",
    "For example, here is the $sine$ function expanded to 3 terms:\n",
    "$$\n",
    "\\sin \\left(x\\right)\\approx x-{\\frac {x^{3}}{3!}}+{\\frac {x^{5}}{5!}}-{\\frac {x^{7}}{7!}}.\\!\n",
    "$$\n",
    "\n",
    "Indeed, most physics students first encounter this when studying the pendulum, during which we make the small angle approximation: $\\sin{\\theta}\\approx\\theta$.  This is a one-term Taylor series expansion of the $sine$ function.  __We will use truncated series to solve differential equations in lab this week.__\n",
    "\n",
    "### Summing alternating series\n",
    "Notice that the $sine$ function presents an interesting problem.  Here we need to sum over terms that alternately add and subtract.  Work through the handout of __Problem 1.8__ from Landau *et al.*  \n",
    "* Be sure to include a lot of comments in your code.\n",
    "* In order to present your results as a data table, you will need to format your print statement more precisely.  \n"
   ]
  },
  {
   "cell_type": "code",
   "execution_count": null,
   "metadata": {
    "collapsed": true
   },
   "outputs": [],
   "source": [
    "### Insert code and comments here"
   ]
  },
  {
   "cell_type": "markdown",
   "metadata": {},
   "source": []
  },
  {
   "cell_type": "markdown",
   "metadata": {},
   "source": [
    "----------------------------------------------------------------------------------------\n",
    "## Exercise 3 - Timing + Jupyter Magics\n",
    "----------------------------------------------------------------------------------------\n",
    "References: \n",
    "https://jakevdp.github.io/PythonDataScienceHandbook/01.07-timing-and-profiling.html\n",
    "https://www.dataquest.io/blog/jupyter-notebook-tips-tricks-shortcuts/\n",
    "\n",
    "%%timeit uses the Python timeit module which runs a statement 100,000 times (by default) and then provides the mean of the fastest three times.  As you might imagine, this can be very useful for profiling your code."
   ]
  },
  {
   "cell_type": "markdown",
   "metadata": {},
   "source": [
    "<div class=answer>\n",
    "### Which python magics commands are used in the Weekly Session 3 notebook?  What do they do?\n",
    "<div/>\n",
    "Enter your answers here. "
   ]
  },
  {
   "cell_type": "markdown",
   "metadata": {},
   "source": [
    "Run the %timeit and %time examples below.  "
   ]
  },
  {
   "cell_type": "code",
   "execution_count": null,
   "metadata": {},
   "outputs": [],
   "source": [
    "%timeit sum(range(100))"
   ]
  },
  {
   "cell_type": "markdown",
   "metadata": {},
   "source": [
    "The code below shows the proper syntax for timing a nested loop.  I had trouble doing this in Newman Example 4.3.  I was able to achieve it by breaking my code into a few pieces, in order to make my syntax as below.  "
   ]
  },
  {
   "cell_type": "code",
   "execution_count": null,
   "metadata": {},
   "outputs": [],
   "source": [
    "%%timeit\n",
    "total = 0\n",
    "for i in range(1000):\n",
    "    for j in range(1000):\n",
    "        total += i * (-1) ** j"
   ]
  },
  {
   "cell_type": "markdown",
   "metadata": {
    "collapsed": true
   },
   "source": [
    "Note that this syntax is sensitive to even a comment:"
   ]
  },
  {
   "cell_type": "code",
   "execution_count": null,
   "metadata": {},
   "outputs": [],
   "source": [
    "#Try running this code, what happens?\n",
    "%%timeit\n",
    "total = 0\n",
    "for i in range(1000):\n",
    "    for j in range(1000):\n",
    "        total += i * (-1) ** j"
   ]
  },
  {
   "cell_type": "markdown",
   "metadata": {},
   "source": [
    "An interesting use of the %%timeit magic command is to compare the rate of various python libraries.  For instance:"
   ]
  },
  {
   "cell_type": "code",
   "execution_count": null,
   "metadata": {},
   "outputs": [],
   "source": [
    "import numpy as np\n",
    "import random\n",
    "\n",
    "print(\"Numpy random module takes:\")\n",
    "%timeit np.random.random() #note also that numpy has its own random submodule\n",
    "print(\"The random module takes:\")\n",
    "%timeit random.random() #note also that numpy has its own random submodule"
   ]
  },
  {
   "cell_type": "markdown",
   "metadata": {},
   "source": [
    "<div class=answer>\n",
    "### Which random module should you prefer?  Why?\n",
    "<div/>\n",
    "Enter your answers here. "
   ]
  },
  {
   "cell_type": "markdown",
   "metadata": {},
   "source": [
    "Repeat the example above using a comparison of the math and numpy values for ```sin()```"
   ]
  },
  {
   "cell_type": "code",
   "execution_count": null,
   "metadata": {
    "collapsed": true
   },
   "outputs": [],
   "source": [
    "#insert your code here"
   ]
  },
  {
   "cell_type": "markdown",
   "metadata": {
    "collapsed": true
   },
   "source": [
    "----------------------------------------------------------------------------------------\n",
    "## Exercise 4 - Timing + Newman Exercise 4.3\n",
    "----------------------------------------------------------------------------------------\n",
    "Please work out Newman Exercise 4.3 and include the %time or %timeit magics."
   ]
  },
  {
   "cell_type": "code",
   "execution_count": null,
   "metadata": {
    "collapsed": true
   },
   "outputs": [],
   "source": [
    "#insert your code here"
   ]
  },
  {
   "cell_type": "markdown",
   "metadata": {},
   "source": [
    "----------------------------------------------------------------------------------------\n",
    "## Exercise 5 - Timing + Newman Exercise 4.4\n",
    "----------------------------------------------------------------------------------------\n",
    "Please work out Newman Exercise 4.4 and include the %time or %timeit magics. "
   ]
  },
  {
   "cell_type": "code",
   "execution_count": null,
   "metadata": {
    "collapsed": true
   },
   "outputs": [],
   "source": [
    "#insert your code here"
   ]
  },
  {
   "cell_type": "markdown",
   "metadata": {},
   "source": [
    "----------------------------------------------------------------------------------------\n",
    "## Exercise 6 - File I/O\n",
    "----------------------------------------------------------------------------------------\n",
    "While the numpy function loadtxt() is useful, it isn't the end of the story.  There are many ways to format, read, and write data.  Click on over to Runestone and run through Ch 11 on Files: https://runestone.academy/runestone/static/PHY325/Files/toctree.html"
   ]
  },
  {
   "cell_type": "markdown",
   "metadata": {},
   "source": [
    "<div class=answer>\n",
    "### Take note of the split function.  It is very useful for parsing data.  Explain briefly what it does (i.e. what kind of variable type does it act on, where does it apply the split by default?\n",
    "<div/>\n",
    "Enter your answers here."
   ]
  },
  {
   "cell_type": "markdown",
   "metadata": {},
   "source": [
    "Note that the ```split()``` method takes arguments, so you can easily process a .csv (comma separated variable) file.  For example: "
   ]
  },
  {
   "cell_type": "code",
   "execution_count": null,
   "metadata": {},
   "outputs": [],
   "source": [
    "### splitting strings on commas:\n",
    "str_x = '1,2,3'\n",
    "print(str_x.split(','))\n",
    "print(str_x.split(',', maxsplit=1))\n",
    "str_y = '1,2,,,3'\n",
    "print(str_y.split(','))"
   ]
  },
  {
   "cell_type": "markdown",
   "metadata": {},
   "source": [
    "### Open the file ```galactic_fk4.csv``` and load the values into arrays.  \n",
    "Note that you can get good variable names from the top line of the file (by looking at the file - nothing tricky here).\n",
    "\n",
    "### Make plots of the data \n",
    "Note that I'm not telling you want to plot.  Be a data scientist and play with it until you make an interesting plot of the data."
   ]
  },
  {
   "cell_type": "code",
   "execution_count": null,
   "metadata": {
    "collapsed": true
   },
   "outputs": [],
   "source": []
  }
 ],
 "metadata": {
  "kernelspec": {
   "display_name": "Python 3",
   "language": "python",
   "name": "python3"
  },
  "language_info": {
   "codemirror_mode": {
    "name": "ipython",
    "version": 3
   },
   "file_extension": ".py",
   "mimetype": "text/x-python",
   "name": "python",
   "nbconvert_exporter": "python",
   "pygments_lexer": "ipython3",
   "version": "3.6.3"
  }
 },
 "nbformat": 4,
 "nbformat_minor": 2
}
