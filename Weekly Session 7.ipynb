{
 "cells": [
  {
   "cell_type": "markdown",
   "metadata": {},
   "source": [
    "# Weekly Session 7 \n",
    "\n",
    "## Directions: \n",
    "Quickly read through this notebook.  The format differs slightly - Basically the homework/interactive practice and lab is also in the notebook, \n",
    "* Exercise 3 is the interactive practice for Wednesday\n",
    "* Exercise 5 and onward is the **lab** for Thursday (no revision cycle this week).\n",
    "\n",
    "## Goals\n",
    "\n",
    "* Explore python features for error handling\n",
    "* Work more with lists, arrays and matrices\n",
    "* Apply numpy built-in matrix methods to perform matrix manipulations\n",
    "* Play with the numpy animation module and animate Newman's Example 6.2\n",
    "\n",
    "### Reading \n",
    "Newman Section 6.1 as outlined on GitHub"
   ]
  },
  {
   "cell_type": "code",
   "execution_count": 1,
   "metadata": {
    "collapsed": false
   },
   "outputs": [
    {
     "data": {
      "text/html": [
       "<style>\n",
       "div.warn {\n",
       "    background-color: black;\n",
       "    border-color: #dFb5b4;\n",
       "    border-left: 5px solid #dfb5b4;\n",
       "    padding: 0.5em\n",
       "    color: white;\n",
       "    }\n",
       " </style>\n",
       "\n",
       " <style>\n",
       " div.answer {\n",
       "     background-color: lightblue;\n",
       "     border-color: #dFb5b4;\n",
       "     border-left: 5px solid #dfb5b4;\n",
       "     padding: 0.5em\n",
       "     }\n",
       "  </style>\n"
      ],
      "text/plain": [
       "<IPython.core.display.HTML object>"
      ]
     },
     "execution_count": 1,
     "metadata": {},
     "output_type": "execute_result"
    }
   ],
   "source": [
    "#For colored cells, currently black cells, white text is added in Markdown\n",
    "#https://stackoverflow.com/questions/18024769/adding-custom-styled-paragraphs-in-markdown-cells\n",
    "from IPython.core.display import HTML\n",
    "def css_styling():\n",
    "    styles = open(\"style.css\", \"r\").read()\n",
    "    return HTML(styles)\n",
    "css_styling()"
   ]
  },
  {
   "cell_type": "markdown",
   "metadata": {},
   "source": [
    "<div class=answer>\n",
    "*This should be a blue cell with black font if you set the filepath correctly*</font>\n",
    "<div/>"
   ]
  },
  {
   "cell_type": "markdown",
   "metadata": {},
   "source": [
    "## Exercise 0: Error and Exceptions\n",
    "In the course of debugging we encounter a lot of error messages.  In Runestone you read about these messages, but it has been a while.  Let's go back and have a look at the Runestone definitions (quoted directly from the following sections): \n",
    "\n",
    "[1.7. Syntax errors](https://runestone.academy/runestone/static/PHY325/GeneralIntro/Syntaxerrors.html)\n",
    "Python can only execute a program if the program is syntactically correct; otherwise, the process fails and returns an error message. Syntax refers to the structure of a program and the rules about that structure. \n",
    "\n",
    "[1.8. Runtime Errors](https://runestone.academy/runestone/static/PHY325/GeneralIntro/RuntimeErrors.html)\n",
    "The second type of error is a runtime error, so called because the error does not appear until you run the program. These errors are also called **exceptions** because they usually indicate that something exceptional (and bad) has happened.\n",
    "\n",
    "[1.9. Semantic Errors](https://runestone.academy/runestone/static/PHY325/GeneralIntro/SemanticErrors.html)\n",
    "The third type of error is the semantic error. If there is a semantic error in your program, it will run successfully in the sense that the computer will not generate any error messages. However, your program will not do the right thing. It will do something else. Specifically, it will do what you told it to do.\n",
    "\n",
    "We have all been generating plenty of these errors this semester (including me!).  It is a great time to explore a particular common error time, the ```ValueError```. It is defined in Runestone's all important [Know your error messages](https://runestone.academy/runestone/static/PHY325/Debugging/KnowyourerrorMessages.html)  page.\n",
    "\n",
    "\n",
    "**[3.4.4. ValueError](https://runestone.academy/runestone/static/PHY325/Debugging/KnowyourerrorMessages.html)\n",
    "Value errors occur when you pass a parameter to a function and the function is expecting a certain limitations on the values, and the value passed is not compatible.**\n",
    "\n",
    "**READ THE COMMENTS BEFORE RUNNING THE CODE**"
   ]
  },
  {
   "cell_type": "code",
   "execution_count": 2,
   "metadata": {
    "collapsed": false
   },
   "outputs": [
    {
     "name": "stdout",
     "output_type": "stream",
     "text": [
      "How many bugs are in your code (in number 0-1000)?5\n",
      "\n",
      "You have  5 bugs\n"
     ]
    }
   ],
   "source": [
    "### A take on Runestone's example on ValueErrors\n",
    "### Run the program but instead of typing in anything to the dialog box \n",
    "### just click OK. \n",
    "### You should see the following error message: \n",
    "### ValueError: invalid literal for int() with base 10: '' on line: 4\n",
    "\n",
    "bug_str = input(\"How many bugs are in your code (in number 0-1000)?\")\n",
    "\n",
    "if bug_str == \"\":\n",
    "    print()\n",
    "    print(\"Error: Please enter number of bugs.\")\n",
    "else:\n",
    "    bug_int = int(bug_str)    \n",
    "    print()\n",
    "    print(\"You have \", bug_int, \"bugs\")"
   ]
  },
  {
   "cell_type": "markdown",
   "metadata": {},
   "source": [
    "<div class=answer>\n",
    "**How could you modify the code above to anticipate the value error and avoid it?**  \n",
    "To make the code anticipate error you can use an if statement that if no input it spits out an error asking for a number of bugs and if an input is entered it gives the bugs message.\n",
    "*I'm assuming you will use an if/else statement, but if you have other ideas, that's fine!.*\n",
    "<div/>"
   ]
  },
  {
   "cell_type": "markdown",
   "metadata": {},
   "source": [
    "### Try/Except statements\n",
    "When I mentioned \"other ideas\" above, I was refering to python's formal manner for handling anticipated exceptions.  Python has a built in manner to write programs that handle selected exceptions.  See the code below for a ```try/except``` example, which comes from the python documentation:\n",
    "[https://docs.python.org/2/tutorial/errors.html](https://docs.python.org/2/tutorial/errors.html)"
   ]
  },
  {
   "cell_type": "code",
   "execution_count": 3,
   "metadata": {
    "collapsed": false
   },
   "outputs": [
    {
     "name": "stdout",
     "output_type": "stream",
     "text": [
      "Please enter a number: 5\n"
     ]
    }
   ],
   "source": [
    "#try/except example\n",
    "\n",
    "while True:\n",
    "    try:\n",
    "        x = int(input(\"Please enter a number: \"))\n",
    "        break\n",
    "    except ValueError:\n",
    "        print(\"Oops!  That was no valid number.  Try again...\")"
   ]
  },
  {
   "cell_type": "markdown",
   "metadata": {},
   "source": [
    "<div class=answer>\n",
    "1.  **What does the code above do?**  The code above ask for a number and if given the number is outputs the number and a string and breaks out of the while loop. If there is no value it returns the input code and asks for another on.\n",
    "\n",
    "2.  **Modify the \"bug\" code above to anticipate the value error and avoid it using a try/except statement.**   \n",
    "Please do this below so you can see both codes.\n",
    "<div/>"
   ]
  },
  {
   "cell_type": "code",
   "execution_count": 4,
   "metadata": {
    "collapsed": false
   },
   "outputs": [
    {
     "name": "stdout",
     "output_type": "stream",
     "text": [
      "How many bugs are in your code (in number 0-1000)?5\n",
      "\n",
      "You have  5 bugs\n"
     ]
    }
   ],
   "source": [
    "while True:\n",
    "    try:\n",
    "        bug_str = input(\"How many bugs are in your code (in number 0-1000)?\")\n",
    "        bug_int = int(bug_str)    \n",
    "        print()\n",
    "        print(\"You have \", bug_int, \"bugs\")\n",
    "        break\n",
    "    except ValueError:\n",
    "        print(\"Oops!  That was no valid number.  Try again...\")"
   ]
  },
  {
   "cell_type": "markdown",
   "metadata": {},
   "source": [
    "### Raising ValueErrors\n",
    "Python's error handling built in functions also have the ```raise``` command.  For instance try running the following code so that it raises a value error.  You don't need to do anything with this example quite yet, but ** use this code in the next exericse when you build your own matrix methods** - you are welcome to modify it to suit your preferences."
   ]
  },
  {
   "cell_type": "code",
   "execution_count": 5,
   "metadata": {
    "collapsed": false
   },
   "outputs": [
    {
     "name": "stdout",
     "output_type": "stream",
     "text": [
      "Please enter a number dimension A: 5\n",
      "Please enter a number dimension B: 5\n"
     ]
    }
   ],
   "source": [
    "dimension_A = int(input(\"Please enter a number dimension A: \"))\n",
    "dimension_B = int(input(\"Please enter a number dimension B: \"))\n",
    "\n",
    "        \n",
    "if (dimension_A != dimension_B):\n",
    "    raise ValueError(\"matrix dimensions incompatible\")"
   ]
  },
  {
   "cell_type": "markdown",
   "metadata": {},
   "source": [
    "## Exercise 1: Matrices as Nested Lists\n",
    "\n",
    "You will be using matrix routines for the rest of your life (or your life in computational\n",
    "physics, at least). It helps to understand how they work, and you will\n",
    "develop your own matrix routines this week. So let us start with the basics, and write ourselves a nice little library of matrix routines!  For now, we are still representing two-dimensional arrays as nested lists, rather than numpy arrays.\n",
    "\n",
    "**Add a matrixB to the code block below so you have some sample data to work with.**"
   ]
  },
  {
   "cell_type": "code",
   "execution_count": 6,
   "metadata": {
    "collapsed": true
   },
   "outputs": [],
   "source": [
    "##Example matrices - as lists\n",
    "A = [[1, 2, 3, 4],\n",
    "    [5, 6, 7, 8],\n",
    "    [9, 10, 11, 12],\n",
    "    ]\n",
    "\n",
    "#Add a matrixB of your choice:\n",
    "B = [[2,4,6,8],\n",
    "     [4,6,8,10],\n",
    "     [8,6,14,12]]"
   ]
  },
  {
   "cell_type": "markdown",
   "metadata": {},
   "source": [
    "### Matrix Dimensions\n",
    "<div class=answer>\n",
    "<div/>\n",
    "Wouldn't it be nice to be able to find out the dimension of a matrix? Write a function\n",
    "dimension which, given an m $\\times$ n matrix, returns the dimensions as a tuple ```(m,n)```. \n",
    "\n",
    "Hint: Remember the ```len()``` function.\n",
    "\n",
    "*If you are ready to think like a computer scientist, read the directions below the code cell BEFORE you proceed.*"
   ]
  },
  {
   "cell_type": "code",
   "execution_count": 7,
   "metadata": {
    "collapsed": false
   },
   "outputs": [
    {
     "data": {
      "text/plain": [
       "(2, 3)"
      ]
     },
     "execution_count": 7,
     "metadata": {},
     "output_type": "execute_result"
    }
   ],
   "source": [
    "def dimension(matrix):\n",
    "    m = len(matrix)\n",
    "    for i in range(m):\n",
    "        n = len(matrix[i])\n",
    "        if n != len(matrix[0]):\n",
    "            raise ValueError(\"matrix dimensions incompatible\") \n",
    "            \n",
    "    return (m,n)\n",
    "\n",
    "dimension([[1,2,3],[4,5,4]])"
   ]
  },
  {
   "cell_type": "markdown",
   "metadata": {},
   "source": [
    "### Thinking like a computer scientist\n",
    "\n",
    "When you write your dimension function, the easy way out would be to just assume\n",
    "that the argument is a valid \"rectangular\" nested list, i.e., with the same number of\n",
    "entries in each row. But can actually check this? A little bit of **validation** on your data can go a long way towards saving you debugging time later! For instance, your function\n",
    "should complain if you give it the \"matrix\"\n",
    "```python\n",
    "[\n",
    "[1,2,3],\n",
    "[4,5]\n",
    "]\n",
    "```\n",
    "**Add to your code above method of testing that the matrix is well formatted.**\n",
    "Let's have your function to crash with a slick Python-style error message, have it raise an exceptions by creating a ValueError exception. You should use an appropriate error string explaining what the problem was with the dimensions. "
   ]
  },
  {
   "cell_type": "markdown",
   "metadata": {},
   "source": [
    "### Generating Matrices \n",
    "We also need to be able to generate matrices. We have done this two ways:\n",
    "* \"list oriented\" i.e., starting from and empty list and then appending entries. \n",
    "* A declaration as above\n",
    "\n",
    "But, traditionally, you would start from an array which already has been created, with the right dimensions, and then you would fill in the entries one by one. \n",
    "\n",
    "<div class=answer>\n",
    "<div/>\n",
    "So, in the spirit of ```numpy.zeros```, write a function zeros which takes a tuple ```(m,n)``` as its argument and returns an $m\\times n$ matrix of zeros."
   ]
  },
  {
   "cell_type": "code",
   "execution_count": 8,
   "metadata": {
    "collapsed": false
   },
   "outputs": [
    {
     "data": {
      "text/plain": [
       "[[0, 0, 0, 0], [0, 0, 0, 0], [0, 0, 0, 0], [0, 0, 0, 0]]"
      ]
     },
     "execution_count": 8,
     "metadata": {},
     "output_type": "execute_result"
    }
   ],
   "source": [
    "def zero(m,n):\n",
    "    rows = []\n",
    "    cols = []\n",
    "    for i in range(m):\n",
    "        rows.append(cols)\n",
    "    for j in range(n):\n",
    "        cols.append(0)\n",
    "            \n",
    "    return rows\n",
    "\n",
    "zero(4,4)"
   ]
  },
  {
   "cell_type": "markdown",
   "metadata": {},
   "source": [
    "\n",
    "While we are at it, let's write a function ```identity()```, which makes an $n\\times n$ identity matrix.  If you need a reminder/lesson, the identity matrix is: \n",
    "$$\n",
    "I_3 = \\left[ \\begin{array}{cccc}\n",
    "1 & 0 & 0  \\\\\n",
    "0 & 1 & 0 \\\\\n",
    "0 & 0 & 1 \\\\ \\end{array} \\right]\n",
    "$$\n",
    "\n",
    "Since the identity matrix is square, you need just one number n as an argument.  Also, be sure NOT to duplicate work you've already done.  Be lazy.\n",
    "<div class=answer>\n",
    "n loops\n",
    "<div/>"
   ]
  },
  {
   "cell_type": "code",
   "execution_count": 9,
   "metadata": {
    "collapsed": false
   },
   "outputs": [
    {
     "data": {
      "text/plain": [
       "array([[1, 0, 0],\n",
       "       [0, 1, 0],\n",
       "       [0, 0, 1]])"
      ]
     },
     "execution_count": 9,
     "metadata": {},
     "output_type": "execute_result"
    }
   ],
   "source": [
    "import numpy as np\n",
    "\n",
    "def identity(n):\n",
    "    m = np.zeros([n,n],int)\n",
    "    for i in range(n):\n",
    "        for j in range(n):\n",
    "            if i == j:\n",
    "                m[i,j] = 1\n",
    "                \n",
    "    return m\n",
    "identity(3)"
   ]
  },
  {
   "cell_type": "markdown",
   "metadata": {},
   "source": [
    "### Matrix Arithmetic\n",
    "\n",
    "As you either already know from other physics/math courses, or will shortly, one of the basic things you can do to a ```A``` is multiply it by a scalar ```k```. That is, the $(i,j)$th entry of the product matrix, let's call it ```C```, is defined by\n",
    "$$\n",
    "C_{i,j} = k\\ A_{i,j}\n",
    "$$\n",
    "<div class=answer>\n",
    "Write a function ```scalar_mult``` which multiplies a matrix by a scalar, returning a new matrix.\n",
    "<div/>"
   ]
  },
  {
   "cell_type": "code",
   "execution_count": 10,
   "metadata": {
    "collapsed": false
   },
   "outputs": [
    {
     "data": {
      "text/plain": [
       "[[2, 4, 6, 8], [10, 12, 14, 16], [18, 20, 22, 24]]"
      ]
     },
     "execution_count": 10,
     "metadata": {},
     "output_type": "execute_result"
    }
   ],
   "source": [
    "def scalar_mult(k,M):\n",
    "    C = []\n",
    "    for i in range(len(M)):\n",
    "        C.append([])\n",
    "        for j in range(len(M[i])):\n",
    "            C[i].append(M[i][j]*k)\n",
    "    return C\n",
    "\n",
    "scalar_mult(2,A)"
   ]
  },
  {
   "cell_type": "markdown",
   "metadata": {},
   "source": [
    "If we have two matrices ```A``` and ```B``` of the same dimensions, we also can compute their sum.\n",
    "That is, in terms of the entries, the $(i,j)$ th entry of the sum ```C``` is defined by\n",
    "$$\n",
    "C_{ij} =  A_{ij} + B_{ij} \n",
    "$$\n",
    "\n",
    "<div class=answer>\n",
    "Write a function ```add()```, which takes two matrices, and returns their sum. It should check that the dimensions of the two matrices A and B are compatible, and generate an error message (that is, an exception) if not.\n",
    "<div/>"
   ]
  },
  {
   "cell_type": "code",
   "execution_count": 11,
   "metadata": {
    "collapsed": false
   },
   "outputs": [
    {
     "data": {
      "text/plain": [
       "[[3, 6, 9, 12], [9, 12, 15, 18], [17, 16, 25, 24]]"
      ]
     },
     "execution_count": 11,
     "metadata": {},
     "output_type": "execute_result"
    }
   ],
   "source": [
    "def add(N,M):\n",
    "    C = []\n",
    "    \n",
    "    for i in range(len(N)):\n",
    "        C.append([])\n",
    "        \n",
    "        for k in range(len(N[i])):\n",
    "            C[i].append(M[i][k]+N[i][k])\n",
    "            \n",
    "    return C\n",
    "add(A,B)"
   ]
  },
  {
   "cell_type": "markdown",
   "metadata": {},
   "source": [
    "You knew this was coming, didn't you. The product of an $m \\times r$ matrix $A$ and an $r \\times n$ matrix $B$ is an $m \\times n$ matrix with entries given by\n",
    "$$\n",
    "C_{ik} = \\sum_{j=1}^r A_{ij} B_{jk}\n",
    "$$\n",
    "\n",
    "In case you are rusty (or haven't learned it yet), try multiplying on a whiteboard:\n",
    "\n",
    "$$\n",
    "\\begin{bmatrix}\n",
    "1 & 2 & -1\\\\\n",
    "3 & 0 & 2\n",
    "\\end{bmatrix}\n",
    "\\begin{bmatrix}\n",
    "1 & 2 \\\\\n",
    "7 & 0 \\\\\n",
    "-1 & 3\n",
    "\\end{bmatrix}\n",
    "=\n",
    "\\begin{bmatrix}\n",
    "\\quad & \\quad \\\\\n",
    "&\n",
    "\\end{bmatrix}.\n",
    "$$\n",
    "\n",
    "<div class=answer>\n",
    "Write a function ```mult``` which multiplies two matrices, returning a new matrix. It should check that the dimensions of the two matrices $A$ and $B$ are compatible, and generate an exception if not. Try it out with the example product shown above.\n",
    "<div/>"
   ]
  },
  {
   "cell_type": "code",
   "execution_count": 12,
   "metadata": {
    "collapsed": false
   },
   "outputs": [
    {
     "data": {
      "text/plain": [
       "array([[ 16.,  -1.],\n",
       "       [  1.,  12.]])"
      ]
     },
     "execution_count": 12,
     "metadata": {},
     "output_type": "execute_result"
    }
   ],
   "source": [
    "def mult(N,M):\n",
    "    if len(N) == len(M[0]) and len(N[0]) == len(M):\n",
    "        C = np.zeros([len(N),len(N)])\n",
    "    \n",
    "        for i in range(len(N)):\n",
    "            for k in range(len(N)):\n",
    "                for j in range(len(N[0])):\n",
    "                    C[i,k] += N[i][j]*M[j][k]\n",
    "        return C       \n",
    "    else:\n",
    "        print(\"Dimensions don't match!\")\n",
    "        \n",
    "E = [[1,2,-1],[3,0,2]]\n",
    "F = [[1,2],[7,0],[-1,3]]\n",
    "\n",
    "mult(E,F)"
   ]
  },
  {
   "cell_type": "markdown",
   "metadata": {},
   "source": [
    "## Exercise 2 - Numpy Matrices\n",
    "\n",
    "Let's run through the tasks in Exercise 1, but this time with the numpy matrix methods.  Here is the [link](https://docs.scipy.org/doc/numpy1.14.0/reference/generated/numpy.matrix.html)\n",
    "to the basic documentation.  To get you started, here are the numpy way to generate matrices.  Add a second matrix to practice with."
   ]
  },
  {
   "cell_type": "code",
   "execution_count": 13,
   "metadata": {
    "collapsed": true
   },
   "outputs": [],
   "source": [
    "#Declaring new matrix variabls\n",
    "import numpy as np\n",
    "\n",
    "a = np.matrix([[1, 2, 3, 4],\n",
    "               [5, 6, 7, 8],\n",
    "               [9, 10, 11, 12],])\n",
    "\n",
    "#Your matrix here:\n",
    "b = np.matrix([[2,4,6,8],\n",
    "              [4,6,8,10],\n",
    "              [8,6,14,12]])\n"
   ]
  },
  {
   "cell_type": "markdown",
   "metadata": {},
   "source": [
    "Play around with the list of attributes in the [link](https://docs.scipy.org/doc/numpy-1.14.0/reference/generated/numpy.matrix.html).  For instance, what does ```a.shape``` do?"
   ]
  },
  {
   "cell_type": "code",
   "execution_count": 14,
   "metadata": {
    "collapsed": false
   },
   "outputs": [
    {
     "data": {
      "text/plain": [
       "2"
      ]
     },
     "execution_count": 14,
     "metadata": {},
     "output_type": "execute_result"
    }
   ],
   "source": [
    "a.ndim"
   ]
  },
  {
   "cell_type": "markdown",
   "metadata": {},
   "source": [
    "<div class=answer>\n",
    "a.shape gives the shape of the matrix as (m,n).\n",
    "<div/>"
   ]
  },
  {
   "cell_type": "markdown",
   "metadata": {},
   "source": [
    "### Generating Matrices (part 2)\n",
    "\n",
    "Use numpy matrix methods ([link](https://docs.scipy.org/doc/numpy-1.14.0/reference/generated/numpy.zeros.html)) to create an $m\\times n$ matrix of zeros."
   ]
  },
  {
   "cell_type": "code",
   "execution_count": 15,
   "metadata": {
    "collapsed": false
   },
   "outputs": [
    {
     "data": {
      "text/plain": [
       "array([[0, 0, 0, 0],\n",
       "       [0, 0, 0, 0],\n",
       "       [0, 0, 0, 0]])"
      ]
     },
     "execution_count": 15,
     "metadata": {},
     "output_type": "execute_result"
    }
   ],
   "source": [
    "z = np.zeros([3,4],int)\n",
    "z"
   ]
  },
  {
   "cell_type": "markdown",
   "metadata": {},
   "source": [
    "Use numpy matrix methods ([link](https://docs.scipy.org/doc/numpy-1.13.0/reference/generated/numpy.identity.html)) to create an $n\\times n$ identity matrix."
   ]
  },
  {
   "cell_type": "code",
   "execution_count": 16,
   "metadata": {
    "collapsed": false
   },
   "outputs": [
    {
     "data": {
      "text/plain": [
       "array([[1, 0, 0],\n",
       "       [0, 1, 0],\n",
       "       [0, 0, 1]])"
      ]
     },
     "execution_count": 16,
     "metadata": {},
     "output_type": "execute_result"
    }
   ],
   "source": [
    "I = np.identity(3,int)\n",
    "I"
   ]
  },
  {
   "cell_type": "markdown",
   "metadata": {},
   "source": [
    "### Matrix Arithmetic\n",
    "Repeat the matrix arithmetic that you wrote exercises in Exercise 1.  Hopefully you have the idea on how to google numpy methods since i have not provided links for these exerices.  Mark your work clearly using the following three types of arithmetic:\n",
    "1.  Scalar Multiplication\n",
    "2.  Matrix Addition\n",
    "3.  Matrix Multiplication"
   ]
  },
  {
   "cell_type": "code",
   "execution_count": 17,
   "metadata": {
    "collapsed": false
   },
   "outputs": [
    {
     "name": "stdout",
     "output_type": "stream",
     "text": [
      "Matrix Addition a + b = \n",
      "[[ 3  6  9 12]\n",
      " [ 9 12 15 18]\n",
      " [17 16 25 24]]\n",
      "Matrix Multiplication a * b = \n",
      "[[ 60  80 110]\n",
      " [140 192 270]\n",
      " [220 304 430]]\n",
      "Scalar Multiplication 2 * a = \n",
      "[[ 2  4  6  8]\n",
      " [10 12 14 16]\n",
      " [18 20 22 24]]\n"
     ]
    }
   ],
   "source": [
    "c = a.dot(b.T)\n",
    "d = b+a\n",
    "e = 2*a\n",
    "print(\"Matrix Addition a + b = \")\n",
    "print(d)\n",
    "print(\"Matrix Multiplication a * b = \")\n",
    "print(c)\n",
    "print(\"Scalar Multiplication 2 * a = \")\n",
    "print(e)"
   ]
  },
  {
   "cell_type": "markdown",
   "metadata": {
    "collapsed": true
   },
   "source": [
    "## Exercise 3\n",
    "Do your interactive practice for Wednesday's class here.  Specifically code up Newman's Example 6.1, but encapsulate the Gaussian elimination algorithm into a function you may call (in Exercise 4)."
   ]
  },
  {
   "cell_type": "code",
   "execution_count": 18,
   "metadata": {
    "collapsed": false
   },
   "outputs": [
    {
     "name": "stdout",
     "output_type": "stream",
     "text": [
      "[ 2. -1. -2.  1.]\n"
     ]
    }
   ],
   "source": [
    "D = np.array([[2,1,4,1],\n",
    "              [3,4,-1,-1],\n",
    "              [1,-4,1,5],\n",
    "              [2,-2,1,3]],float)\n",
    "y = np.array([-4,3,9,7],float)\n",
    "M = len(y)\n",
    "\n",
    "def gaussian_elimination(A,v,N):\n",
    "    '''Find the solution to a system of equations using the gaussian elimination method.\n",
    "    \n",
    "    INPUTS:\n",
    "    A - coefficients to a system of equations as a martix\n",
    "    v - an array of the values the equations equal\n",
    "    N - the number of equations\n",
    "    \n",
    "    RETURNS:\n",
    "    x - an array containing the solutions for the cofficients of A to and Values of v to \n",
    "        make Ax=v true\n",
    "    '''\n",
    "    \n",
    "    for m in range(N):\n",
    "        div = A[m,m]\n",
    "        A[m,:] /= div\n",
    "        v[m] /= div\n",
    "        \n",
    "        for i in range(m+1,N):\n",
    "            mult = A[i,m]\n",
    "            A[i,:] -= mult*A[m,:]\n",
    "            v[i] -= mult*v[m]\n",
    "    \n",
    "    x = np.empty(N,float)\n",
    "    for m in range(N-1,-1,-1):\n",
    "        x[m] = v[m]\n",
    "        for i in range(m+1,N):\n",
    "            x[m] -= A[m,i]*x[i]\n",
    "    return x\n",
    "\n",
    "z = gaussian_elimination(D,y,M)\n",
    "print(z)"
   ]
  },
  {
   "cell_type": "markdown",
   "metadata": {
    "collapsed": true
   },
   "source": [
    "## Exercise 4\n",
    "Do Newman's Exercise 6.1, using your own function for Gaussian Elimination."
   ]
  },
  {
   "cell_type": "code",
   "execution_count": 19,
   "metadata": {
    "collapsed": false
   },
   "outputs": [
    {
     "name": "stdout",
     "output_type": "stream",
     "text": [
      "[ 3.          1.66666667  3.33333333  2.        ]\n"
     ]
    }
   ],
   "source": [
    "G = np.array([[4,-1,-1,-1],\n",
    "              [-1,3,0,-1],\n",
    "              [-1,0,3,-1],\n",
    "              [-1,-1,-1,4]],float)\n",
    "q = np.array([5,0,5,0],float)\n",
    "H = len(y)\n",
    "print(gaussian_elimination(G,q,H))"
   ]
  },
  {
   "cell_type": "markdown",
   "metadata": {},
   "source": [
    "Do Newman's Exercise 6.4, using numpy's linear algebra package"
   ]
  },
  {
   "cell_type": "code",
   "execution_count": 20,
   "metadata": {
    "collapsed": false
   },
   "outputs": [
    {
     "name": "stdout",
     "output_type": "stream",
     "text": [
      "[ 3.          1.66666667  3.33333333  2.        ]\n"
     ]
    }
   ],
   "source": [
    "from numpy.linalg import solve\n",
    "\n",
    "print(solve(G,q))"
   ]
  },
  {
   "cell_type": "markdown",
   "metadata": {
    "collapsed": true
   },
   "source": [
    "## Exercise 5 \n",
    "*This an the next exercise are nominally the \"lab\" for the week.  Write this part up as it is a lab, describing the physics of coupled harmonic oscillators - and write a nice description of your plots!!!!*\n",
    "\n",
    "Code up Example 6.2 - you are welcome to use Newman's online resources - but modify them to be more general as follows:  \n",
    "* Either use your own subroutine for Gaussian elimination or numpy's linear algebra package\n",
    "* Be sure that you can generalize your code more readily than Newman's example so you can play around with the constants.  Thus write a few more function definitions than he did."
   ]
  },
  {
   "cell_type": "code",
   "execution_count": 63,
   "metadata": {
    "collapsed": false
   },
   "outputs": [
    {
     "data": {
      "text/plain": [
       "<matplotlib.text.Text at 0x90b04a8>"
      ]
     },
     "execution_count": 63,
     "metadata": {},
     "output_type": "execute_result"
    },
    {
     "data": {
      "image/png": "[encoded data removed]",
      "text/plain": [
       "<matplotlib.figure.Figure at 0x7b901d0>"
      ]
     },
     "metadata": {},
     "output_type": "display_data"
    }
   ],
   "source": [
    "from matplotlib.pylab import plt\n",
    "% matplotlib inline\n",
    "\n",
    "N = 26\n",
    "C = 1.0\n",
    "m = 1.0\n",
    "k = 6.0\n",
    "omega = 2.0\n",
    " \n",
    "def vibration(N,C,m,k,omega):    \n",
    "    alpha = 2*k-m*omega*omega\n",
    "\n",
    "    A = np.zeros([N,N],float)\n",
    "    for i in range(N-1):\n",
    "        A[i,i] = alpha\n",
    "        A[i,i+1] = -k\n",
    "        A[i+1,i] = -k\n",
    "    \n",
    "    A[0,0] = alpha - k\n",
    "    A[N-1,N-1] = alpha - k\n",
    "    v = np.zeros(N,float)\n",
    "    v[0] = C\n",
    "    return A,v,N\n",
    "A,v,N = vibration(N,C,m,k,omega)\n",
    "x = gaussian_elimination(A,v,N)\n",
    "\n",
    "plt.plot(x,\"ko\")\n",
    "plt.plot(x,\"r\")\n",
    "plt.xlabel(\"Oscillators\")\n",
    "plt.title(\"Amplitudes of Identical Masses Couples by Springs\")\n",
    "plt.ylabel(\"Amplitude\")"
   ]
  },
  {
   "cell_type": "markdown",
   "metadata": {},
   "source": [
    "<div class=answer>\n",
    "The graph above is the graph of the amplitudes of vibrations for coupled masses. The masses are coupled using springs and the springs allow a harmonic vibration. The system of springs can be represtented as a system of equations for the masses on the springs. The system of equations will be represented by a tridiagonal matrix due to the fact that each spring is only affected by the mass on adjacent to it. When solving the system you are able to find a solution. This solution is the height values of each oscillator at a certain time, with this solution the gained by Gaussian Elimination the plot above can be created.\n",
    "<div/>"
   ]
  },
  {
   "cell_type": "markdown",
   "metadata": {},
   "source": [
    "## Exercise 6\n",
    "Do as Newman directed in Exercise 6.6 and animate your results from Exercise 5.  You may teach yourself the visual tools (see Ch 3), but I much prefer the animation library as more general and useful.  Here is some code to get you started.  Hints follow the code definitions.\n",
    "\n",
    "### With credit to the following two sources\n",
    "\n",
    " * https://matplotlib.org/gallery/animation/simple_anim.html   \n",
    "    I couldn't get the jupyter notebook from matplotlib working, but this worked well:\n",
    "* [stack overflow solution](https://stackoverflow.com/questions/47138023/matplotlib-animation-in-jupyter-notebook-creates-additional-empty-plot)\n",
    "\n",
    "** NOTHING WILL HAPPEN WHEN YOU RUN THE FOLLOWING CELL**  \n",
    "NOTE: with Jupyter magics, you want \"%%capture\" to be at the head of the cell."
   ]
  },
  {
   "cell_type": "code",
   "execution_count": 37,
   "metadata": {
    "collapsed": false
   },
   "outputs": [],
   "source": [
    "%%capture\n",
    "import matplotlib.pyplot as plt\n",
    "import matplotlib.animation\n",
    "import numpy as np\n",
    "\n",
    "t = np.linspace(0,2*np.pi,N)\n",
    "x1 = np.sin(t)\n",
    "\n",
    "fig, ax = plt.subplots()\n",
    "h = ax.axis([0,2*np.pi,-1,1])\n",
    "l, = ax.plot([],[])\n",
    "\n",
    "def animate(i):\n",
    "    l.set_data(t[:i], x1[:i])\n",
    "\n",
    "ani = matplotlib.animation.FuncAnimation(fig, animate, frames=len(t))\n",
    "plt.show()"
   ]
  },
  {
   "cell_type": "code",
   "execution_count": 38,
   "metadata": {
    "collapsed": false
   },
   "outputs": [
    {
     "data": {
      "image/png": "[encoded data removed]",
      "text/plain": [
       "<matplotlib.figure.Figure at 0x7e460f0>"
      ]
     },
     "metadata": {},
     "output_type": "display_data"
    }
   ],
   "source": [
    "# run this cell to call the \"ani\" animation object called above.  \n",
    "# You should see a blank plot and a set of controllers.  \n",
    "# Have fun with this, and then modify it to work with your code in Exercise 5\n",
    "import math\n",
    "N1 =  np.linspace(0,N,N)\n",
    "amplitude = x*np.cos(omega*t[0])\n",
    "\n",
    "fig, ax = plt.subplots()\n",
    "l2, = ax.plot(N1,amplitude,\"--ko\")\n",
    "\n",
    "def ani_x(i):\n",
    "    amplitude = x*np.cos(omega*t[i])\n",
    "    l2.set_data(N1,amplitude)\n",
    "    \n",
    "ani = matplotlib.animation.FuncAnimation(fig, ani_x, frames=len(t))\n",
    "plt.show()"
   ]
  },
  {
   "cell_type": "markdown",
   "metadata": {},
   "source": [
    "### Hints to Modify\n",
    "To do a line animation, you will have to modify the plotstyle used by Newman.  Instead of using: \n",
    "```\n",
    "plt.plot(x)\n",
    "```\n",
    "in order to plot all of the oscillators, you will need to declare a variable for the x-axis (NOT TIME) that counts all of the oscillators.  This was my way to do so:\n",
    "```\n",
    "N1 = np.linspace(0,N,N)  #where N=number of oscillators as in Newman\n",
    "```\n",
    "I also used equation 6.53 to calculate an amplitude from my calculated x-values.\n",
    "```\n",
    "amplitude = #Leaving this for you to do\n",
    "```\n",
    "Then I plotted those two variables: \n",
    "```\n",
    "fig, ax = plt.subplots()\n",
    "l, = ax.plot(N1,amplitude,\"--ko\")\n",
    "\n",
    "```\n",
    "Then I defined an animation function (similar to that in the sample below) that updated the amplitudes for new time values (I replaced the t[:i] with t[i] - think about why that is important).  Then I updated the values for the line plot with: \n",
    "\n",
    "```\n",
    "def ani_x(i):\n",
    "    amplitude = #LEAVING THIS FOR YOU   \n",
    "    l2.set_data(N1,amplitude)\n",
    "```\n",
    "\n",
    "See if you can put those ideas together.  If it seems a little convoluted to declare N1, you are welcome to use a different method to animate the data.  The line plot needs two variables.\n",
    "\n"
   ]
  },
  {
   "cell_type": "markdown",
   "metadata": {},
   "source": [
    "## Exercise 7\n",
    "Play around with your working code.  Modify the constants, add lots of good labels (remember, this is a lab-like assignment).  Make the plots beautiful and have fun."
   ]
  },
  {
   "cell_type": "code",
   "execution_count": 78,
   "metadata": {
    "collapsed": false
   },
   "outputs": [
    {
     "data": {
      "text/plain": [
       "<matplotlib.legend.Legend at 0x9e26b00>"
      ]
     },
     "execution_count": 78,
     "metadata": {},
     "output_type": "execute_result"
    },
    {
     "data": {
      "image/png": "[encoded data removed]",
      "text/plain": [
       "<matplotlib.figure.Figure at 0x9d801d0>"
      ]
     },
     "metadata": {},
     "output_type": "display_data"
    }
   ],
   "source": [
    "omega1 = 4.0\n",
    " \n",
    "B,z,M = vibration(N,C,m,k,omega1)   \n",
    " \n",
    "x1 = gaussian_elimination(B,z,M)\n",
    "\n",
    "plt.plot(x1,\"bo\")\n",
    "plt.plot(x1,\"g\",label = \"Altered\")\n",
    "plt.plot(x,\"ko\")\n",
    "plt.plot(x,\"r\",label = \"Original\")\n",
    "plt.xlabel(\"Oscillators\")\n",
    "plt.title(\"Amplitudes of Identical Masses Couples by Springs\")\n",
    "plt.ylabel(\"Amplitude\")\n",
    "plt.legend(loc = 'best')"
   ]
  },
  {
   "cell_type": "markdown",
   "metadata": {},
   "source": [
    "<div class=answer>\n",
    "Above shows the graph being altered by increasing the the angular frequency from 2 to 4. This makes the amplitude decrease and the number of oscillations increase. The amplitude of the graph decreases because the alpha is related omega squared but it causes alpha to decrease.\n",
    "<div/>"
   ]
  },
  {
   "cell_type": "code",
   "execution_count": 71,
   "metadata": {
    "collapsed": false
   },
   "outputs": [
    {
     "data": {
      "text/plain": [
       "<matplotlib.legend.Legend at 0x9b644a8>"
      ]
     },
     "execution_count": 71,
     "metadata": {},
     "output_type": "execute_result"
    },
    {
     "data": {
      "image/png": "[encoded data removed]",
      "text/plain": [
       "<matplotlib.figure.Figure at 0x9839ba8>"
      ]
     },
     "metadata": {},
     "output_type": "display_data"
    }
   ],
   "source": [
    "k1 = 10.0\n",
    " \n",
    "E,y,O = vibration(N,C,m,k1,omega)   \n",
    " \n",
    "x2 = gaussian_elimination(E,y,O)\n",
    "\n",
    "plt.plot(x2,\"bo\")\n",
    "plt.plot(x2,\"g\",label = \"Altered\")\n",
    "plt.plot(x,\"ko\")\n",
    "plt.plot(x,\"r\",label = \"Original\")\n",
    "plt.xlabel(\"Oscillators\")\n",
    "plt.title(\"Amplitudes of Identical Masses Couples by Springs\")\n",
    "plt.ylabel(\"Amplitude\")\n",
    "plt.legend(loc = 'best')"
   ]
  },
  {
   "cell_type": "markdown",
   "metadata": {},
   "source": [
    "<div class=answer>\n",
    "The figure above displays the amplitude of the vibrations but instead of the spring constant being 6 it is now 10. When changing the spring constant the amplitude decreases. This is due to the fact that the spring now has a greater restoring force that causes the masses to be acted on by a greater force allowing them not to travel as far from the origin.\n",
    "<div/>"
   ]
  },
  {
   "cell_type": "code",
   "execution_count": 72,
   "metadata": {
    "collapsed": false
   },
   "outputs": [
    {
     "data": {
      "text/plain": [
       "<matplotlib.legend.Legend at 0x9bdbb38>"
      ]
     },
     "execution_count": 72,
     "metadata": {},
     "output_type": "execute_result"
    },
    {
     "data": {
      "image/png": "[encoded data removed]",
      "text/plain": [
       "<matplotlib.figure.Figure at 0x9b337b8>"
      ]
     },
     "metadata": {},
     "output_type": "display_data"
    }
   ],
   "source": [
    "N1 = 100\n",
    " \n",
    "D,e,P = vibration(N1,C,m,k,omega)   \n",
    " \n",
    "x3 = gaussian_elimination(D,e,P)\n",
    "\n",
    "plt.plot(x3,\"bo\")\n",
    "plt.plot(x3,\"g\",label = \"Altered\")\n",
    "plt.plot(x,\"ko\")\n",
    "plt.plot(x,\"r\",label = \"Original\")\n",
    "plt.xlabel(\"Oscillators\")\n",
    "plt.title(\"Amplitudes of Identical Masses Couples by Springs\")\n",
    "plt.ylabel(\"Amplitude\")\n",
    "plt.legend(loc = 'best')"
   ]
  },
  {
   "cell_type": "markdown",
   "metadata": {},
   "source": [
    "<div class=answer>\n",
    "Above is an example of an increase in the number of masses in the system. This changes the initial graph by extending it from 0 to 100 oscillators instead of 0 to 26 oscillators. The amplitude of the oscillations is also decreased because the energy must be evenly spread through the system.\n",
    "<div/>"
   ]
  },
  {
   "cell_type": "code",
   "execution_count": 73,
   "metadata": {
    "collapsed": false
   },
   "outputs": [
    {
     "data": {
      "text/plain": [
       "<matplotlib.legend.Legend at 0x9c545c0>"
      ]
     },
     "execution_count": 73,
     "metadata": {},
     "output_type": "execute_result"
    },
    {
     "data": {
      "image/png": "[encoded data removed]",
      "text/plain": [
       "<matplotlib.figure.Figure at 0x9bad278>"
      ]
     },
     "metadata": {},
     "output_type": "display_data"
    }
   ],
   "source": [
    "C1 = 5.0\n",
    " \n",
    "F,f,Q = vibration(N,C1,m,k,omega)   \n",
    "\n",
    "x4 = gaussian_elimination(F,f,Q)\n",
    "\n",
    "plt.plot(x4,\"bo\")\n",
    "plt.plot(x4,\"g\",label = \"Altered\")\n",
    "plt.plot(x,\"ko\")\n",
    "plt.plot(x,\"r\",label = \"Original\")\n",
    "plt.xlabel(\"Oscillators\")\n",
    "plt.title(\"Amplitudes of Identical Masses Couples by Springs\")\n",
    "plt.ylabel(\"Amplitude\")\n",
    "plt.legend(loc = 'best')"
   ]
  },
  {
   "cell_type": "markdown",
   "metadata": {},
   "source": [
    "<div class=answer>\n",
    "The figure above displays the amplitude of vibrations when the initial force applied to the first string is increased by a factor of 5. This appears to not affect the number of oscillations in anyway, which is expected, but it does affect the amplitude of the vibrations. It seams to have caused the amplitude also increase by a factor of 5.\n",
    "<div/>"
   ]
  },
  {
   "cell_type": "code",
   "execution_count": 75,
   "metadata": {
    "collapsed": false
   },
   "outputs": [
    {
     "data": {
      "text/plain": [
       "<matplotlib.legend.Legend at 0x9cc8400>"
      ]
     },
     "execution_count": 75,
     "metadata": {},
     "output_type": "execute_result"
    },
    {
     "data": {
      "image/png": "[encoded data removed]",
      "text/plain": [
       "<matplotlib.figure.Figure at 0x9c1dc50>"
      ]
     },
     "metadata": {},
     "output_type": "display_data"
    }
   ],
   "source": [
    "m1 = 2.0\n",
    " \n",
    "G,g,R = vibration(N,C,m1,k,omega)   \n",
    " \n",
    "x5 = gaussian_elimination(G,g,R)\n",
    "\n",
    "plt.plot(x5,\"bo\")\n",
    "plt.plot(x5,\"g\",label = \"Altered\")\n",
    "plt.plot(x,\"ko\")\n",
    "plt.plot(x,\"r\",label = \"Original\")\n",
    "plt.xlabel(\"Oscillators\")\n",
    "plt.title(\"Amplitudes of Identical Masses Couples by Springs\")\n",
    "plt.ylabel(\"Amplitude\")\n",
    "plt.legend(loc = 'best')"
   ]
  },
  {
   "cell_type": "markdown",
   "metadata": {},
   "source": [
    "<div class=answer>\n",
    "The figure above shows the amplitudes of the vibrations where the mass of the plot in exercise 5 has been increased from 1kg to 2kg. This change appears to make the amplitude decrease and the number of oscillations increase. \n",
    "<div/>"
   ]
  }
 ],
 "metadata": {
  "kernelspec": {
   "display_name": "Python 3",
   "language": "python",
   "name": "python3"
  },
  "language_info": {
   "codemirror_mode": {
    "name": "ipython",
    "version": 3
   },
   "file_extension": ".py",
   "mimetype": "text/x-python",
   "name": "python",
   "nbconvert_exporter": "python",
   "pygments_lexer": "ipython3",
   "version": "3.4.4"
  }
 },
 "nbformat": 4,
 "nbformat_minor": 2
}
