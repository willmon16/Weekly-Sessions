{
 "cells": [
  {
   "cell_type": "markdown",
   "metadata": {},
   "source": [
    "# Weekly Session 7 \n",
    "\n",
    "## Directions: \n",
    "Quickly read through this notebook.  The format differs slightly - Basically the homework/interactive practice and lab is also in the notebook, \n",
    "* Exercise 3 is the interactive practice for Wednesday\n",
    "* Exercise 5 and onward is the **lab** for Thursday (no revision cycle this week).\n",
    "\n",
    "## Goals\n",
    "\n",
    "* Explore python features for error handling\n",
    "* Work more with lists, arrays and matrices\n",
    "* Apply numpy built-in matrix methods to perform matrix manipulations\n",
    "* Play with the numpy animation module and animate Newman's Example 6.2\n",
    "\n",
    "### Reading \n",
    "Newman Section 6.1 as outlined on GitHub"
   ]
  },
  {
   "cell_type": "code",
   "execution_count": 1,
   "metadata": {},
   "outputs": [
    {
     "data": {
      "text/html": [
       "<style>\n",
       "div.warn {\n",
       "    background-color: black;\n",
       "    border-color: #dFb5b4;\n",
       "    border-left: 5px solid #dfb5b4;\n",
       "    padding: 0.5em\n",
       "    color: white;\n",
       "    }\n",
       " </style>\n",
       "\n",
       " <style>\n",
       " div.answer {\n",
       "     background-color: lightblue;\n",
       "     border-color: #dFb5b4;\n",
       "     border-left: 5px solid #dfb5b4;\n",
       "     padding: 0.5em\n",
       "     }\n",
       "  </style>\n"
      ],
      "text/plain": [
       "<IPython.core.display.HTML object>"
      ]
     },
     "execution_count": 1,
     "metadata": {},
     "output_type": "execute_result"
    }
   ],
   "source": [
    "#For colored cells, currently black cells, white text is added in Markdown\n",
    "#https://stackoverflow.com/questions/18024769/adding-custom-styled-paragraphs-in-markdown-cells\n",
    "from IPython.core.display import HTML\n",
    "def css_styling():\n",
    "    styles = open(\"style.css\", \"r\").read()\n",
    "    return HTML(styles)\n",
    "css_styling()"
   ]
  },
  {
   "cell_type": "markdown",
   "metadata": {},
   "source": [
    "<div class=answer>\n",
    "*This should be a blue cell with black font if you set the filepath correctly*</font>\n",
    "<div/>"
   ]
  },
  {
   "cell_type": "markdown",
   "metadata": {},
   "source": [
    "## Exercise 0: Error and Exceptions\n",
    "In the course of debugging we encounter a lot of error messages.  In Runestone you read about these messages, but it has been a while.  Let's go back and have a look at the Runestone definitions (quoted directly from the following sections): \n",
    "\n",
    "[1.7. Syntax errors](https://runestone.academy/runestone/static/PHY325/GeneralIntro/Syntaxerrors.html)\n",
    "Python can only execute a program if the program is syntactically correct; otherwise, the process fails and returns an error message. Syntax refers to the structure of a program and the rules about that structure. \n",
    "\n",
    "[1.8. Runtime Errors](https://runestone.academy/runestone/static/PHY325/GeneralIntro/RuntimeErrors.html)\n",
    "The second type of error is a runtime error, so called because the error does not appear until you run the program. These errors are also called **exceptions** because they usually indicate that something exceptional (and bad) has happened.\n",
    "\n",
    "[1.9. Semantic Errors](https://runestone.academy/runestone/static/PHY325/GeneralIntro/SemanticErrors.html)\n",
    "The third type of error is the semantic error. If there is a semantic error in your program, it will run successfully in the sense that the computer will not generate any error messages. However, your program will not do the right thing. It will do something else. Specifically, it will do what you told it to do.\n",
    "\n",
    "We have all been generating plenty of these errors this semester (including me!).  It is a great time to explore a particular common error time, the ```ValueError```. It is defined in Runestone's all important [Know your error messages](https://runestone.academy/runestone/static/PHY325/Debugging/KnowyourerrorMessages.html)  page.\n",
    "\n",
    "\n",
    "**[3.4.4. ValueError](https://runestone.academy/runestone/static/PHY325/Debugging/KnowyourerrorMessages.html)\n",
    "Value errors occur when you pass a parameter to a function and the function is expecting a certain limitations on the values, and the value passed is not compatible.**\n",
    "\n",
    "**READ THE COMMENTS BEFORE RUNNING THE CODE**"
   ]
  },
  {
   "cell_type": "code",
   "execution_count": null,
   "metadata": {},
   "outputs": [],
   "source": [
    "### A take on Runestone's example on ValueErrors\n",
    "### Run the program but instead of typing in anything to the dialog box \n",
    "### just click OK. \n",
    "### You should see the following error message: \n",
    "### ValueError: invalid literal for int() with base 10: '' on line: 4\n",
    "\n",
    "bug_str = input(\"How many bugs are in your code (in number 0-1000)?\")\n",
    "bug_int = int(bug_str)\n",
    "print()\n",
    "print(\"You have \", bug_int, \"bugs\")"
   ]
  },
  {
   "cell_type": "markdown",
   "metadata": {},
   "source": [
    "<div class=answer>\n",
    "**How could you modify the code above to anticipate the value error and avoid it?**  \n",
    "Do so, and see if your modification works.\n",
    "*I'm assuming you will use an if/else statement, but if you have other ideas, that's fine!.*\n",
    "<div/>"
   ]
  },
  {
   "cell_type": "markdown",
   "metadata": {},
   "source": [
    "### Try/Except statements\n",
    "When I mentioned \"other ideas\" above, I was refering to python's formal manner for handling anticipated exceptions.  Python has a built in manner to write programs that handle selected exceptions.  See the code below for a ```try/except``` example, which comes from the python documentation:\n",
    "[https://docs.python.org/2/tutorial/errors.html](https://docs.python.org/2/tutorial/errors.html)"
   ]
  },
  {
   "cell_type": "code",
   "execution_count": null,
   "metadata": {},
   "outputs": [],
   "source": [
    "#try/except example\n",
    "\n",
    "while True:\n",
    "    try:\n",
    "        x = int(input(\"Please enter a number: \"))\n",
    "        break\n",
    "    except ValueError:\n",
    "        print(\"Oops!  That was no valid number.  Try again...\")"
   ]
  },
  {
   "cell_type": "markdown",
   "metadata": {},
   "source": [
    "<div class=answer>\n",
    "1.  **What does the code above do?**  Describe it in your own words, but you're welcome to  take a quick peak at the python documentation to get a better idea.\n",
    "\n",
    "2.  **Modify the \"bug\" code above to anticipate the value error and avoid it using a try/except statement.**   \n",
    "Please do this below so you can see both codes.\n",
    "<div/>"
   ]
  },
  {
   "cell_type": "code",
   "execution_count": null,
   "metadata": {
    "collapsed": true
   },
   "outputs": [],
   "source": [
    "#your code here"
   ]
  },
  {
   "cell_type": "markdown",
   "metadata": {},
   "source": [
    "### Raising ValueErrors\n",
    "Python's error handling built in functions also have the ```raise``` command.  For instance try running the following code so that it raises a value error.  You don't need to do anything with this example quite yet, but ** use this code in the next exericse when you build your own matrix methods** - you are welcome to modify it to suit your preferences."
   ]
  },
  {
   "cell_type": "code",
   "execution_count": null,
   "metadata": {},
   "outputs": [],
   "source": [
    "dimension_A = int(input(\"Please enter a number dimension A: \"))\n",
    "dimension_B = int(input(\"Please enter a number dimension B: \"))\n",
    "\n",
    "        \n",
    "if (dimension_A != dimension_B):\n",
    "    raise ValueError(\"matrix dimensions incompatible\")"
   ]
  },
  {
   "cell_type": "markdown",
   "metadata": {},
   "source": [
    "## Exercise 1: Matrices as Nested Lists\n",
    "\n",
    "You will be using matrix routines for the rest of your life (or your life in computational\n",
    "physics, at least). It helps to understand how they work, and you will\n",
    "develop your own matrix routines this week. So let us start with the basics, and write ourselves a nice little library of matrix routines!  For now, we are still representing two-dimensional arrays as nested lists, rather than numpy arrays.\n",
    "\n",
    "**Add a matrixB to the code block below so you have some sample data to work with.**"
   ]
  },
  {
   "cell_type": "code",
   "execution_count": null,
   "metadata": {
    "collapsed": true
   },
   "outputs": [],
   "source": [
    "##Example matrices - as lists\n",
    "A = [[1, 2, 3, 4],\n",
    "    [5, 6, 7, 8],\n",
    "    [9, 10, 11, 12],\n",
    "    ]\n",
    "\n",
    "#Add a matrixB of your choice:"
   ]
  },
  {
   "cell_type": "markdown",
   "metadata": {},
   "source": [
    "### Matrix Dimensions\n",
    "<div class=answer>\n",
    "<div/>\n",
    "Wouldn't it be nice to be able to find out the dimension of a matrix? Write a function\n",
    "dimension which, given an m $\\times$ n matrix, returns the dimensions as a tuple ```(m,n)```. \n",
    "\n",
    "Hint: Remember the ```len()``` function.\n",
    "\n",
    "*If you are ready to think like a computer scientist, read the directions below the code cell BEFORE you proceed.*"
   ]
  },
  {
   "cell_type": "code",
   "execution_count": null,
   "metadata": {
    "collapsed": true
   },
   "outputs": [],
   "source": [
    "#your code here"
   ]
  },
  {
   "cell_type": "markdown",
   "metadata": {},
   "source": [
    "### Thinking like a computer scientist\n",
    "\n",
    "When you write your dimension function, the easy way out would be to just assume\n",
    "that the argument is a valid \"rectangular\" nested list, i.e., with the same number of\n",
    "entries in each row. But can actually check this? A little bit of **validation** on your data can go a long way towards saving you debugging time later! For instance, your function\n",
    "should complain if you give it the \"matrix\"\n",
    "```python\n",
    "[\n",
    "[1,2,3],\n",
    "[4,5]\n",
    "]\n",
    "```\n",
    "**Add to your code above method of testing that the matrix is well formatted.**\n",
    "Let's have your function to crash with a slick Python-style error message, have it raise an exceptions by creating a ValueError exception. You should use an appropriate error string explaining what the problem was with the dimensions. "
   ]
  },
  {
   "cell_type": "markdown",
   "metadata": {},
   "source": [
    "### Generating Matrices \n",
    "We also need to be able to generate matrices. We have done this two ways:\n",
    "* \"list oriented\" i.e., starting from and empty list and then appending entries. \n",
    "* A declaration as above\n",
    "\n",
    "But, traditionally, you would start from an array which already has been created, with the right dimensions, and then you would fill in the entries one by one. \n",
    "\n",
    "<div class=answer>\n",
    "<div/>\n",
    "So, in the spirit of ```numpy.zeros```, write a function zeros which takes a tuple ```(m,n)``` as its argument and returns an $m\\times n$ matrix of zeros."
   ]
  },
  {
   "cell_type": "code",
   "execution_count": null,
   "metadata": {
    "collapsed": true
   },
   "outputs": [],
   "source": [
    "#your code here"
   ]
  },
  {
   "cell_type": "markdown",
   "metadata": {},
   "source": [
    "\n",
    "While we are at it, let's write a function ```identity()```, which makes an $n\\times n$ identity matrix.  If you need a reminder/lesson, the identity matrix is: \n",
    "$$\n",
    "I_3 = \\left[ \\begin{array}{cccc}\n",
    "1 & 0 & 0  \\\\\n",
    "0 & 1 & 0 \\\\\n",
    "0 & 0 & 1 \\\\ \\end{array} \\right]\n",
    "$$\n",
    "\n",
    "Since the identity matrix is square, you need just one number n as an argument.  Also, be sure NOT to duplicate work you've already done.  Be lazy.\n",
    "<div class=answer>\n",
    "How many loops do you need this time?\n",
    "<div/>"
   ]
  },
  {
   "cell_type": "code",
   "execution_count": null,
   "metadata": {
    "collapsed": true
   },
   "outputs": [],
   "source": [
    "#your code here"
   ]
  },
  {
   "cell_type": "markdown",
   "metadata": {},
   "source": [
    "### Matrix Arithmetic\n",
    "\n",
    "As you either already know from other physics/math courses, or will shortly, one of the basic things you can do to a ```A``` is multiply it by a scalar ```k```. That is, the $(i,j)$th entry of the product matrix, let's call it ```C```, is defined by\n",
    "$$\n",
    "C_{i,j} = k\\ A_{i,j}\n",
    "$$\n",
    "<div class=answer>\n",
    "Write a function ```scalar_mult``` which multiplies a matrix by a scalar, returning a new matrix.\n",
    "<div/>"
   ]
  },
  {
   "cell_type": "code",
   "execution_count": null,
   "metadata": {
    "collapsed": true
   },
   "outputs": [],
   "source": [
    "#your code here"
   ]
  },
  {
   "cell_type": "markdown",
   "metadata": {},
   "source": [
    "If we have two matrices ```A``` and ```B``` of the same dimensions, we also can compute their sum.\n",
    "That is, in terms of the entries, the $(i,j)$ th entry of the sum ```C``` is defined by\n",
    "$$\n",
    "C_{ij} =  A_{ij} + B_{ij} \n",
    "$$\n",
    "\n",
    "<div class=answer>\n",
    "Write a function ```add()```, which takes two matrices, and returns their sum. It should check that the dimensions of the two matrices A and B are compatible, and generate an error message (that is, an exception) if not.\n",
    "<div/>"
   ]
  },
  {
   "cell_type": "code",
   "execution_count": null,
   "metadata": {
    "collapsed": true
   },
   "outputs": [],
   "source": [
    "#your code here"
   ]
  },
  {
   "cell_type": "markdown",
   "metadata": {},
   "source": [
    "You knew this was coming, didn't you. The product of an $m \\times r$ matrix $A$ and an $r \\times n$ matrix $B$ is an $m \\times n$ matrix with entries given by\n",
    "$$\n",
    "C_{ik} = \\sum_{j=1}^r A_{ij} B_{jk}\n",
    "$$\n",
    "\n",
    "In case you are rusty (or haven't learned it yet), try multiplying on a whiteboard:\n",
    "\n",
    "$$\n",
    "\\begin{bmatrix}\n",
    "1 & 2 & -1\\\\\n",
    "3 & 0 & 2\n",
    "\\end{bmatrix}\n",
    "\\begin{bmatrix}\n",
    "1 & 2 \\\\\n",
    "7 & 0 \\\\\n",
    "-1 & 3\n",
    "\\end{bmatrix}\n",
    "=\n",
    "\\begin{bmatrix}\n",
    "\\quad & \\quad \\\\\n",
    "&\n",
    "\\end{bmatrix}.\n",
    "$$\n",
    "\n",
    "<div class=answer>\n",
    "Write a function ```mult``` which multiplies two matrices, returning a new matrix. It should check that the dimensions of the two matrices $A$ and $B$ are compatible, and generate an exception if not. Try it out with the example product shown above.\n",
    "<div/>"
   ]
  },
  {
   "cell_type": "code",
   "execution_count": null,
   "metadata": {
    "collapsed": true
   },
   "outputs": [],
   "source": [
    "#your code here"
   ]
  },
  {
   "cell_type": "markdown",
   "metadata": {},
   "source": [
    "## Exercise 2 - Numpy Matrices\n",
    "\n",
    "Let's run through the tasks in Exercise 1, but this time with the numpy matrix methods.  Here is the [link](https://docs.scipy.org/doc/numpy1.14.0/reference/generated/numpy.matrix.html)\n",
    "to the basic documentation.  To get you started, here are the numpy way to generate matrices.  Add a second matrix to practice with."
   ]
  },
  {
   "cell_type": "code",
   "execution_count": null,
   "metadata": {
    "collapsed": true
   },
   "outputs": [],
   "source": [
    "#Declaring new matrix variabls\n",
    "import numpy as np\n",
    "\n",
    "a = np.matrix([[1, 2, 3, 4],\n",
    "               [5, 6, 7, 8],\n",
    "               [9, 10, 11, 12],])\n",
    "\n",
    "#Your matrix here:\n"
   ]
  },
  {
   "cell_type": "markdown",
   "metadata": {},
   "source": [
    "Play around with the list of attributes in the [link](https://docs.scipy.org/doc/numpy-1.14.0/reference/generated/numpy.matrix.html).  For instance, what does ```a.shape``` do?"
   ]
  },
  {
   "cell_type": "code",
   "execution_count": null,
   "metadata": {
    "collapsed": true
   },
   "outputs": [],
   "source": [
    "#your code here"
   ]
  },
  {
   "cell_type": "markdown",
   "metadata": {},
   "source": [
    "### Generating Matrices (part 2)\n",
    "\n",
    "Use numpy matrix methods ([link](https://docs.scipy.org/doc/numpy-1.14.0/reference/generated/numpy.zeros.html)) to create an $m\\times n$ matrix of zeros."
   ]
  },
  {
   "cell_type": "code",
   "execution_count": null,
   "metadata": {
    "collapsed": true
   },
   "outputs": [],
   "source": [
    "#your code here"
   ]
  },
  {
   "cell_type": "markdown",
   "metadata": {},
   "source": [
    "Use numpy matrix methods ([link](https://docs.scipy.org/doc/numpy-1.13.0/reference/generated/numpy.identity.html)) to create an $n\\times n$ identity matrix."
   ]
  },
  {
   "cell_type": "code",
   "execution_count": null,
   "metadata": {
    "collapsed": true
   },
   "outputs": [],
   "source": [
    "#your code here"
   ]
  },
  {
   "cell_type": "markdown",
   "metadata": {},
   "source": [
    "### Matrix Arithmetic\n",
    "Repeat the matrix arithmetic that you wrote exercises in Exercise 1.  Hopefully you have the idea on how to google numpy methods since i have not provided links for these exerices.  Mark your work clearly using the following three types of arithmetic:\n",
    "1.  Scalar Multiplication\n",
    "2.  Matrix Addition\n",
    "3.  Matrix Multiplication"
   ]
  },
  {
   "cell_type": "code",
   "execution_count": null,
   "metadata": {
    "collapsed": true
   },
   "outputs": [],
   "source": [
    "#your code here - add cells as needed."
   ]
  },
  {
   "cell_type": "markdown",
   "metadata": {
    "collapsed": true
   },
   "source": [
    "## Exercise 3\n",
    "Do your interactive practice for Wednesday's class here.  Specifically code up Newman's Example 6.1, but encapsulate the Gaussian elimination algorithm into a function you may call (in Exercise 4)."
   ]
  },
  {
   "cell_type": "code",
   "execution_count": null,
   "metadata": {
    "collapsed": true
   },
   "outputs": [],
   "source": [
    "#your code here"
   ]
  },
  {
   "cell_type": "markdown",
   "metadata": {
    "collapsed": true
   },
   "source": [
    "## Exercise 4\n",
    "Do Newman's Exercise 6.2, using your own function for Gaussian Elimination."
   ]
  },
  {
   "cell_type": "code",
   "execution_count": null,
   "metadata": {
    "collapsed": true
   },
   "outputs": [],
   "source": [
    "#your code here"
   ]
  },
  {
   "cell_type": "markdown",
   "metadata": {},
   "source": [
    "Do Newman's Exercise 6.4, using numpy's linear algebra package"
   ]
  },
  {
   "cell_type": "code",
   "execution_count": null,
   "metadata": {
    "collapsed": true
   },
   "outputs": [],
   "source": [
    "#your code here"
   ]
  },
  {
   "cell_type": "markdown",
   "metadata": {
    "collapsed": true
   },
   "source": [
    "## Exercise 5 \n",
    "*This an the next exercise are nominally the \"lab\" for the week.  Write this part up as it is a lab, describing the physics of coupled harmonic oscillators - and write a nice description of your plots!!!!*\n",
    "\n",
    "Code up Example 6.2 - you are welcome to use Newman's online resources - but modify them to be more general as follows:  \n",
    "* Either use your own subroutine for Gaussian elimination or numpy's linear algebra package\n",
    "* Be sure that you can generalize your code more readily than Newman's example so you can play around with the constants.  Thus write a few more function definitions than he did."
   ]
  },
  {
   "cell_type": "code",
   "execution_count": null,
   "metadata": {
    "collapsed": true
   },
   "outputs": [],
   "source": [
    "#your code here"
   ]
  },
  {
   "cell_type": "markdown",
   "metadata": {},
   "source": [
    "## Exercise 6\n",
    "Do as Newman directed in Exercise 6.6 and animate your results from Exercise 5.  You may teach yourself the visual tools (see Ch 3), but I much prefer the animation library as more general and useful.  Here is some code to get you started.  Hints follow the code definitions.\n",
    "\n",
    "### With credit to the following two sources\n",
    "\n",
    " * https://matplotlib.org/gallery/animation/simple_anim.html   \n",
    "    I couldn't get the jupyter notebook from matplotlib working, but this worked well:\n",
    "* [stack overflow solution](https://stackoverflow.com/questions/47138023/matplotlib-animation-in-jupyter-notebook-creates-additional-empty-plot)\n",
    "\n",
    "** NOTHING WILL HAPPEN WHEN YOU RUN THE FOLLOWING CELL**  \n",
    "NOTE: with Jupyter magics, you want \"%%capture\" to be at the head of the cell."
   ]
  },
  {
   "cell_type": "code",
   "execution_count": null,
   "metadata": {},
   "outputs": [],
   "source": [
    "%%capture\n",
    "%matplotlib inline\n",
    "import matplotlib.pyplot as plt\n",
    "import matplotlib.animation\n",
    "plt.rcParams[\"animation.html\"] = \"jshtml\"\n",
    "import numpy as np\n",
    "\n",
    "t = np.linspace(0,2*np.pi)\n",
    "x = np.sin(t)\n",
    "\n",
    "fig, ax = plt.subplots()\n",
    "h = ax.axis([0,2*np.pi,-1,1])\n",
    "l, = ax.plot([],[])\n",
    "\n",
    "def animate(i):\n",
    "    l.set_data(t[:i], x[:i])\n",
    "\n",
    "ani = matplotlib.animation.FuncAnimation(fig, animate, frames=len(t))"
   ]
  },
  {
   "cell_type": "code",
   "execution_count": null,
   "metadata": {},
   "outputs": [],
   "source": [
    "# run this cell to call the \"ani\" animation object called above.  \n",
    "# You should see a blank plot and a set of controllers.  \n",
    "# Have fun with this, and then modify it to work with your code in Exercise 5\n",
    "ani"
   ]
  },
  {
   "cell_type": "markdown",
   "metadata": {},
   "source": [
    "### Hints to Modify\n",
    "To do a line animation, you will have to modify the plotstyle used by Newman.  Instead of using: \n",
    "```\n",
    "plt.plot(x)\n",
    "```\n",
    "in order to plot all of the oscillators, you will need to declare a variable for the x-axis (NOT TIME) that counts all of the oscillators.  This was my way to do so:\n",
    "```\n",
    "N1 = np.linspace(0,N,N)  #where N=number of oscillators as in Newman\n",
    "```\n",
    "I also used equation 6.53 to calculate an amplitude from my calculated x-values.\n",
    "```\n",
    "amplitude = #Leaving this for you to do\n",
    "```\n",
    "Then I plotted those two variables: \n",
    "```\n",
    "fig, ax = plt.subplots()\n",
    "l, = ax.plot(N1,amplitude,\"--ko\")\n",
    "\n",
    "```\n",
    "Then I defined an animation function (similar to that in the sample below) that updated the amplitudes for new time values (I replaced the t[:i] with t[i] - think about why that is important).  Then I updated the values for the line plot with: \n",
    "\n",
    "```\n",
    "def ani_x(i):\n",
    "    amplitude = #LEAVING THIS FOR YOU   \n",
    "    l2.set_data(N1,amplitude)\n",
    "```\n",
    "\n",
    "See if you can put those ideas together.  If it seems a little convoluted to declare N1, you are welcome to use a different method to animate the data.  The line plot needs two variables.\n",
    "\n"
   ]
  },
  {
   "cell_type": "markdown",
   "metadata": {},
   "source": [
    "## Exercise 7\n",
    "Play around with your working code.  Modify the constants, add lots of good labels (remember, this is a lab-like assignment).  Make the plots beautiful and have fun."
   ]
  },
  {
   "cell_type": "code",
   "execution_count": null,
   "metadata": {
    "collapsed": true
   },
   "outputs": [],
   "source": []
  }
 ],
 "metadata": {
  "kernelspec": {
   "display_name": "Python 3",
   "language": "python",
   "name": "python3"
  },
  "language_info": {
   "codemirror_mode": {
    "name": "ipython",
    "version": 3
   },
   "file_extension": ".py",
   "mimetype": "text/x-python",
   "name": "python",
   "nbconvert_exporter": "python",
   "pygments_lexer": "ipython3",
   "version": "3.6.3"
  }
 },
 "nbformat": 4,
 "nbformat_minor": 2
}
